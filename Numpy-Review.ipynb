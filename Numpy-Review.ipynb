{
 "cells": [
  {
   "cell_type": "markdown",
   "id": "655eb2ee",
   "metadata": {},
   "source": [
    "## Numpy的应用"
   ]
  },
  {
   "cell_type": "code",
   "execution_count": 1,
   "id": "5d1b76a5",
   "metadata": {},
   "outputs": [],
   "source": [
    "import numpy as np\n",
    "import pandas as pd\n",
    "import matplotlib.pyplot as plt\n",
    "\n",
    "plt.rcParams['font.sans-serif'] = ['STFangsong']\n",
    "plt.rcParams['axes.unicode_minus'] = False"
   ]
  },
  {
   "cell_type": "code",
   "execution_count": 2,
   "id": "afc40401",
   "metadata": {},
   "outputs": [],
   "source": [
    "%config InlineBackend.figure_format = 'svg'"
   ]
  },
  {
   "cell_type": "markdown",
   "id": "89dd0115",
   "metadata": {},
   "source": [
    "### 创建数组"
   ]
  },
  {
   "cell_type": "code",
   "execution_count": 3,
   "id": "f2742195",
   "metadata": {},
   "outputs": [
    {
     "data": {
      "text/plain": [
       "array([1, 2, 3, 4, 5], dtype=int64)"
      ]
     },
     "execution_count": 3,
     "metadata": {},
     "output_type": "execute_result"
    }
   ],
   "source": [
    "# 方式1：np.array()   通过array函数将list转换成ndarray\n",
    "array1 = np.array([1,2,3,4,5],dtype = 'i8')\n",
    "array1"
   ]
  },
  {
   "cell_type": "code",
   "execution_count": 4,
   "id": "6cc700ff",
   "metadata": {},
   "outputs": [
    {
     "data": {
      "text/plain": [
       "numpy.ndarray"
      ]
     },
     "execution_count": 4,
     "metadata": {},
     "output_type": "execute_result"
    }
   ],
   "source": [
    "# 数组类型\n",
    "type(array1)"
   ]
  },
  {
   "cell_type": "code",
   "execution_count": 5,
   "id": "c8987215",
   "metadata": {},
   "outputs": [
    {
     "data": {
      "text/plain": [
       "5"
      ]
     },
     "execution_count": 5,
     "metadata": {},
     "output_type": "execute_result"
    }
   ],
   "source": [
    "# 数组大小\n",
    "array1.size"
   ]
  },
  {
   "cell_type": "code",
   "execution_count": 6,
   "id": "105fd5e8",
   "metadata": {},
   "outputs": [
    {
     "data": {
      "text/plain": [
       "8"
      ]
     },
     "execution_count": 6,
     "metadata": {},
     "output_type": "execute_result"
    }
   ],
   "source": [
    "# 数组元素占内存大小\n",
    "array1.itemsize"
   ]
  },
  {
   "cell_type": "code",
   "execution_count": 7,
   "id": "8f0ab566",
   "metadata": {},
   "outputs": [
    {
     "data": {
      "text/plain": [
       "40"
      ]
     },
     "execution_count": 7,
     "metadata": {},
     "output_type": "execute_result"
    }
   ],
   "source": [
    "# 数组元素所占空间\n",
    "array1.nbytes"
   ]
  },
  {
   "cell_type": "code",
   "execution_count": 8,
   "id": "0ba753be",
   "metadata": {},
   "outputs": [
    {
     "data": {
      "text/plain": [
       "1"
      ]
     },
     "execution_count": 8,
     "metadata": {},
     "output_type": "execute_result"
    }
   ],
   "source": [
    "# 数组维度\n",
    "array1.ndim"
   ]
  },
  {
   "cell_type": "code",
   "execution_count": 9,
   "id": "3e05482e",
   "metadata": {},
   "outputs": [
    {
     "data": {
      "text/plain": [
       "array([ 1,  3,  5,  7,  9, 11, 13, 15, 17, 19, 21, 23, 25, 27, 29, 31, 33,\n",
       "       35, 37, 39, 41, 43, 45, 47, 49, 51, 53, 55, 57, 59, 61, 63, 65, 67,\n",
       "       69, 71, 73, 75, 77, 79, 81, 83, 85, 87, 89, 91, 93, 95, 97, 99])"
      ]
     },
     "execution_count": 9,
     "metadata": {},
     "output_type": "execute_result"
    }
   ],
   "source": [
    "# 通过arange函数指定取值范围创建ndarray\n",
    "array2 = np.arange(1,100,2)\n",
    "array2"
   ]
  },
  {
   "cell_type": "code",
   "execution_count": 10,
   "id": "3400fc28",
   "metadata": {},
   "outputs": [
    {
     "data": {
      "text/plain": [
       "array([-5. , -4.9, -4.8, -4.7, -4.6, -4.5, -4.4, -4.3, -4.2, -4.1, -4. ,\n",
       "       -3.9, -3.8, -3.7, -3.6, -3.5, -3.4, -3.3, -3.2, -3.1, -3. , -2.9,\n",
       "       -2.8, -2.7, -2.6, -2.5, -2.4, -2.3, -2.2, -2.1, -2. , -1.9, -1.8,\n",
       "       -1.7, -1.6, -1.5, -1.4, -1.3, -1.2, -1.1, -1. , -0.9, -0.8, -0.7,\n",
       "       -0.6, -0.5, -0.4, -0.3, -0.2, -0.1,  0. ,  0.1,  0.2,  0.3,  0.4,\n",
       "        0.5,  0.6,  0.7,  0.8,  0.9,  1. ,  1.1,  1.2,  1.3,  1.4,  1.5,\n",
       "        1.6,  1.7,  1.8,  1.9,  2. ,  2.1,  2.2,  2.3,  2.4,  2.5,  2.6,\n",
       "        2.7,  2.8,  2.9,  3. ,  3.1,  3.2,  3.3,  3.4,  3.5,  3.6,  3.7,\n",
       "        3.8,  3.9,  4. ,  4.1,  4.2,  4.3,  4.4,  4.5,  4.6,  4.7,  4.8,\n",
       "        4.9,  5. ])"
      ]
     },
     "execution_count": 10,
     "metadata": {},
     "output_type": "execute_result"
    }
   ],
   "source": [
    "# 通过linspace(下限，上限，元素个数)函数构造等差数列\n",
    "array3 = np.linspace(-5,5,101)\n",
    "array3"
   ]
  },
  {
   "cell_type": "code",
   "execution_count": 11,
   "id": "9e9b1cf6",
   "metadata": {},
   "outputs": [
    {
     "name": "stdout",
     "output_type": "stream",
     "text": [
      "27.5 ms ± 935 µs per loop (mean ± std. dev. of 7 runs, 10 loops each)\n"
     ]
    }
   ],
   "source": [
    "%timeit list(range(1000000))"
   ]
  },
  {
   "cell_type": "code",
   "execution_count": 12,
   "id": "2c354fe3",
   "metadata": {},
   "outputs": [
    {
     "name": "stdout",
     "output_type": "stream",
     "text": [
      "1.74 ms ± 21 µs per loop (mean ± std. dev. of 7 runs, 1000 loops each)\n"
     ]
    }
   ],
   "source": [
    "%timeit np.arange(1000000)"
   ]
  },
  {
   "cell_type": "code",
   "execution_count": 13,
   "id": "512f3cae",
   "metadata": {},
   "outputs": [
    {
     "data": {
      "text/plain": [
       "(array([67, 85, 65, 88, 66, 64, 99, 90, 74, 83, 99, 74, 71, 77, 94]),\n",
       " array([0.22794581, 0.3156536 , 0.06871486, 0.34238374, 0.20595198,\n",
       "        0.73242699, 0.55180204, 0.06225053, 0.94129138, 0.73184603]))"
      ]
     },
     "execution_count": 13,
     "metadata": {},
     "output_type": "execute_result"
    }
   ],
   "source": [
    "# 通过随机的方式创建ndarray对象\n",
    "array4 = np.random.randint(60,101,15)\n",
    "array5 = np.random.random(10)\n",
    "array4,array5"
   ]
  },
  {
   "cell_type": "code",
   "execution_count": 14,
   "id": "dfcb766f",
   "metadata": {},
   "outputs": [
    {
     "data": {
      "text/plain": [
       "array([[1, 2, 3],\n",
       "       [2, 3, 4],\n",
       "       [3, 4, 5]])"
      ]
     },
     "execution_count": 14,
     "metadata": {},
     "output_type": "execute_result"
    }
   ],
   "source": [
    "# 创建二维数组\n",
    "array6 = np.array([[1,2,3],[2,3,4],[3,4,5]])\n",
    "array6"
   ]
  },
  {
   "cell_type": "code",
   "execution_count": 15,
   "id": "c6a17918",
   "metadata": {},
   "outputs": [
    {
     "data": {
      "text/plain": [
       "2"
      ]
     },
     "execution_count": 15,
     "metadata": {},
     "output_type": "execute_result"
    }
   ],
   "source": [
    "array6.ndim"
   ]
  },
  {
   "cell_type": "code",
   "execution_count": 16,
   "id": "ea693a39",
   "metadata": {},
   "outputs": [
    {
     "data": {
      "text/plain": [
       "(3, 3)"
      ]
     },
     "execution_count": 16,
     "metadata": {},
     "output_type": "execute_result"
    }
   ],
   "source": [
    "array6.shape"
   ]
  },
  {
   "cell_type": "code",
   "execution_count": 17,
   "id": "089d5818",
   "metadata": {},
   "outputs": [
    {
     "data": {
      "text/plain": [
       "array([[72, 98, 94],\n",
       "       [96, 90, 92],\n",
       "       [81, 60, 69],\n",
       "       [84, 74, 81],\n",
       "       [74, 81, 92]])"
      ]
     },
     "execution_count": 17,
     "metadata": {},
     "output_type": "execute_result"
    }
   ],
   "source": [
    "# 随机创建二维数组\n",
    "array7 = np.random.randint(60,101,(5,3))\n",
    "array7"
   ]
  },
  {
   "cell_type": "code",
   "execution_count": 18,
   "id": "363e2c5d",
   "metadata": {},
   "outputs": [
    {
     "data": {
      "text/plain": [
       "array([[0, 0, 0, 0, 0],\n",
       "       [0, 0, 0, 0, 0],\n",
       "       [0, 0, 0, 0, 0],\n",
       "       [0, 0, 0, 0, 0],\n",
       "       [0, 0, 0, 0, 0]], dtype=int64)"
      ]
     },
     "execution_count": 18,
     "metadata": {},
     "output_type": "execute_result"
    }
   ],
   "source": [
    "# 0数组\n",
    "array8 = np.zeros((5,5),dtype = 'i8')\n",
    "array8"
   ]
  },
  {
   "cell_type": "code",
   "execution_count": 19,
   "id": "d9b5dae2",
   "metadata": {},
   "outputs": [
    {
     "data": {
      "text/plain": [
       "array([[1, 1, 1, 1, 1],\n",
       "       [1, 1, 1, 1, 1],\n",
       "       [1, 1, 1, 1, 1],\n",
       "       [1, 1, 1, 1, 1],\n",
       "       [1, 1, 1, 1, 1]], dtype=int64)"
      ]
     },
     "execution_count": 19,
     "metadata": {},
     "output_type": "execute_result"
    }
   ],
   "source": [
    "# 1数组\n",
    "array9 = np.ones((5,5),dtype = 'i8')\n",
    "array9"
   ]
  },
  {
   "cell_type": "code",
   "execution_count": 20,
   "id": "1e3961a6",
   "metadata": {},
   "outputs": [
    {
     "data": {
      "text/plain": [
       "array([[100, 100, 100, 100, 100],\n",
       "       [100, 100, 100, 100, 100],\n",
       "       [100, 100, 100, 100, 100],\n",
       "       [100, 100, 100, 100, 100],\n",
       "       [100, 100, 100, 100, 100]])"
      ]
     },
     "execution_count": 20,
     "metadata": {},
     "output_type": "execute_result"
    }
   ],
   "source": [
    "# np.full(数组形状，填充值)\n",
    "np.full((5,5),100)"
   ]
  },
  {
   "cell_type": "code",
   "execution_count": 21,
   "id": "855855e8",
   "metadata": {},
   "outputs": [
    {
     "data": {
      "text/plain": [
       "array([[1, 0, 0, 0, 0, 0, 0, 0, 0, 0],\n",
       "       [0, 1, 0, 0, 0, 0, 0, 0, 0, 0],\n",
       "       [0, 0, 1, 0, 0, 0, 0, 0, 0, 0],\n",
       "       [0, 0, 0, 1, 0, 0, 0, 0, 0, 0],\n",
       "       [0, 0, 0, 0, 1, 0, 0, 0, 0, 0],\n",
       "       [0, 0, 0, 0, 0, 1, 0, 0, 0, 0],\n",
       "       [0, 0, 0, 0, 0, 0, 1, 0, 0, 0],\n",
       "       [0, 0, 0, 0, 0, 0, 0, 1, 0, 0],\n",
       "       [0, 0, 0, 0, 0, 0, 0, 0, 1, 0],\n",
       "       [0, 0, 0, 0, 0, 0, 0, 0, 0, 1]], dtype=int64)"
      ]
     },
     "execution_count": 21,
     "metadata": {},
     "output_type": "execute_result"
    }
   ],
   "source": [
    "# 单位矩阵\n",
    "array10 = np.eye(10,dtype = 'i8')\n",
    "array10"
   ]
  },
  {
   "cell_type": "code",
   "execution_count": 22,
   "id": "39463531",
   "metadata": {},
   "outputs": [
    {
     "data": {
      "text/plain": [
       "array([[67, 85, 65],\n",
       "       [88, 66, 64],\n",
       "       [99, 90, 74],\n",
       "       [83, 99, 74],\n",
       "       [71, 77, 94]])"
      ]
     },
     "execution_count": 22,
     "metadata": {},
     "output_type": "execute_result"
    }
   ],
   "source": [
    "# 一维变二维  reshape\n",
    "array11 = array4.reshape((5,3))\n",
    "array11"
   ]
  },
  {
   "cell_type": "code",
   "execution_count": 23,
   "id": "63b9ed96",
   "metadata": {},
   "outputs": [
    {
     "data": {
      "text/plain": [
       "array([67, 85, 65, 88, 66, 64, 99, 90, 74, 83, 99, 74, 71, 77, 94])"
      ]
     },
     "execution_count": 23,
     "metadata": {},
     "output_type": "execute_result"
    }
   ],
   "source": [
    "# 扁平化  二维变一维\n",
    "array12 = array11.flatten()\n",
    "array12"
   ]
  },
  {
   "cell_type": "code",
   "execution_count": 24,
   "id": "47a1232f",
   "metadata": {},
   "outputs": [
    {
     "data": {
      "text/plain": [
       "list"
      ]
     },
     "execution_count": 24,
     "metadata": {},
     "output_type": "execute_result"
    }
   ],
   "source": [
    "type(array12.tolist())"
   ]
  },
  {
   "cell_type": "markdown",
   "id": "0405a654",
   "metadata": {},
   "source": [
    "### 数组索引"
   ]
  },
  {
   "cell_type": "code",
   "execution_count": 25,
   "id": "32219d30",
   "metadata": {},
   "outputs": [
    {
     "data": {
      "text/plain": [
       "array([85, 65, 85, 88])"
      ]
     },
     "execution_count": 25,
     "metadata": {},
     "output_type": "execute_result"
    }
   ],
   "source": [
    "# 花式索引   同索引可取多次\n",
    "array12[[1,2,1,3]]"
   ]
  },
  {
   "cell_type": "code",
   "execution_count": 26,
   "id": "858984de",
   "metadata": {},
   "outputs": [
    {
     "data": {
      "text/plain": [
       "array([85, 88, 99, 90, 83, 99, 94])"
      ]
     },
     "execution_count": 26,
     "metadata": {},
     "output_type": "execute_result"
    }
   ],
   "source": [
    "# 布尔索引\n",
    "array12[array12 >=80]"
   ]
  },
  {
   "cell_type": "code",
   "execution_count": 27,
   "id": "c891ab53",
   "metadata": {},
   "outputs": [
    {
     "data": {
      "text/plain": [
       "array([67, 85, 65, 99, 83, 99, 71, 77])"
      ]
     },
     "execution_count": 27,
     "metadata": {},
     "output_type": "execute_result"
    }
   ],
   "source": [
    "array12[array12 % 2 != 0]"
   ]
  },
  {
   "cell_type": "code",
   "execution_count": 28,
   "id": "e9b34300",
   "metadata": {},
   "outputs": [
    {
     "data": {
      "text/plain": [
       "array([85, 99, 83, 99])"
      ]
     },
     "execution_count": 28,
     "metadata": {},
     "output_type": "execute_result"
    }
   ],
   "source": [
    "# 布尔索引 & 花式索引\n",
    "array12[(array12>=80) & (array12 % 2 != 0)]"
   ]
  },
  {
   "cell_type": "code",
   "execution_count": 29,
   "id": "7d6b3942",
   "metadata": {},
   "outputs": [
    {
     "data": {
      "text/plain": [
       "array([67, 85, 65, 88, 99, 90, 83, 99, 71, 77, 94])"
      ]
     },
     "execution_count": 29,
     "metadata": {},
     "output_type": "execute_result"
    }
   ],
   "source": [
    "# 布尔索引 |花式索引\n",
    "array12[(array12>=80) | (array12 % 2 != 0)]"
   ]
  },
  {
   "cell_type": "code",
   "execution_count": 30,
   "id": "06a12504",
   "metadata": {},
   "outputs": [
    {
     "data": {
      "text/plain": [
       "(array([88, 66, 64, 99, 90]),\n",
       " array([88, 64, 90]),\n",
       " array([94, 77, 71, 74, 99, 83, 74, 90, 99, 64, 66, 88, 65, 85, 67]))"
      ]
     },
     "execution_count": 30,
     "metadata": {},
     "output_type": "execute_result"
    }
   ],
   "source": [
    "# 切片\n",
    "array12[3:8],array12[3:8:2],array12[::-1]"
   ]
  },
  {
   "cell_type": "markdown",
   "id": "081b6d29",
   "metadata": {},
   "source": [
    "### 二维数组索引&切片"
   ]
  },
  {
   "cell_type": "code",
   "execution_count": 31,
   "id": "e1c3f674",
   "metadata": {},
   "outputs": [
    {
     "data": {
      "text/plain": [
       "4"
      ]
     },
     "execution_count": 31,
     "metadata": {},
     "output_type": "execute_result"
    }
   ],
   "source": [
    "# 二维数组索引\n",
    "array6[2,1]"
   ]
  },
  {
   "cell_type": "code",
   "execution_count": 32,
   "id": "bc6ab6ea",
   "metadata": {},
   "outputs": [
    {
     "data": {
      "text/plain": [
       "array([1, 3, 3, 5])"
      ]
     },
     "execution_count": 32,
     "metadata": {},
     "output_type": "execute_result"
    }
   ],
   "source": [
    "# 二维数组取多个元素 - 二维数组花式索引 array[[0轴],[1轴]]\n",
    "array6[[0,0,2,2],[0,2,0,2]]"
   ]
  },
  {
   "cell_type": "code",
   "execution_count": 33,
   "id": "4c899a23",
   "metadata": {},
   "outputs": [
    {
     "data": {
      "text/plain": [
       "array([4, 4])"
      ]
     },
     "execution_count": 33,
     "metadata": {},
     "output_type": "execute_result"
    }
   ],
   "source": [
    "# 二维数组布尔索引\n",
    "array6[(array6 > 2) & (array6 % 2 == 0)]"
   ]
  },
  {
   "cell_type": "code",
   "execution_count": 34,
   "id": "bf1bd9c4",
   "metadata": {},
   "outputs": [
    {
     "data": {
      "text/plain": [
       "array([[1, 2, 3],\n",
       "       [2, 3, 4],\n",
       "       [3, 4, 5]])"
      ]
     },
     "execution_count": 34,
     "metadata": {},
     "output_type": "execute_result"
    }
   ],
   "source": [
    "array6"
   ]
  },
  {
   "cell_type": "code",
   "execution_count": 35,
   "id": "b19fc976",
   "metadata": {},
   "outputs": [
    {
     "data": {
      "text/plain": [
       "array([[4],\n",
       "       [5]])"
      ]
     },
     "execution_count": 35,
     "metadata": {},
     "output_type": "execute_result"
    }
   ],
   "source": [
    "# 二维数组切片,先且0轴(行)再切1轴(列),逗号隔开\n",
    "array6[1:,2:]"
   ]
  },
  {
   "cell_type": "code",
   "execution_count": 36,
   "id": "45b03b77",
   "metadata": {},
   "outputs": [
    {
     "data": {
      "text/plain": [
       "array([[1, 2],\n",
       "       [2, 3]])"
      ]
     },
     "execution_count": 36,
     "metadata": {},
     "output_type": "execute_result"
    }
   ],
   "source": [
    "# 左上\n",
    "array6[:2,:2]"
   ]
  },
  {
   "cell_type": "code",
   "execution_count": 37,
   "id": "3bfc7351",
   "metadata": {},
   "outputs": [
    {
     "data": {
      "text/plain": [
       "array([[3, 4],\n",
       "       [4, 5]])"
      ]
     },
     "execution_count": 37,
     "metadata": {},
     "output_type": "execute_result"
    }
   ],
   "source": [
    "# 右下\n",
    "array6[1:,1:]"
   ]
  },
  {
   "cell_type": "code",
   "execution_count": 38,
   "id": "ad5e67e4",
   "metadata": {},
   "outputs": [
    {
     "data": {
      "text/plain": [
       "array([[1, 3],\n",
       "       [3, 5]])"
      ]
     },
     "execution_count": 38,
     "metadata": {},
     "output_type": "execute_result"
    }
   ],
   "source": [
    "array6[::2,::2]"
   ]
  },
  {
   "cell_type": "markdown",
   "id": "4a526182",
   "metadata": {},
   "source": [
    "### 三维数组（图片）"
   ]
  },
  {
   "cell_type": "code",
   "execution_count": 39,
   "id": "7cca5e08",
   "metadata": {},
   "outputs": [
    {
     "data": {
      "text/plain": [
       "(1006, 1440, 3)"
      ]
     },
     "execution_count": 39,
     "metadata": {},
     "output_type": "execute_result"
    }
   ],
   "source": [
    "# 图片\n",
    "array13 = plt.imread('../1.jpg')\n",
    "array13.shape   # (1006, 1440, 3) - 高，宽，三原色"
   ]
  },
  {
   "cell_type": "code",
   "execution_count": 40,
   "id": "fca7990f",
   "metadata": {},
   "outputs": [
    {
     "data": {
      "text/plain": [
       "<matplotlib.image.AxesImage at 0x2ef53eb2d60>"
      ]
     },
     "execution_count": 40,
     "metadata": {},
     "output_type": "execute_result"
    },
    {
     "data": {
      "image/svg+xml": [
       "<?xml version=\"1.0\" encoding=\"utf-8\" standalone=\"no\"?>\r\n",
       "<!DOCTYPE svg PUBLIC \"-//W3C//DTD SVG 1.1//EN\"\r\n",
       "  \"http://www.w3.org/Graphics/SVG/1.1/DTD/svg11.dtd\">\r\n",
       "<!-- Created with matplotlib (https://matplotlib.org/) -->\r\n",
       "<svg height=\"251.202241pt\" version=\"1.1\" viewBox=\"0 0 352.252219 251.202241\" width=\"352.252219pt\" xmlns=\"http://www.w3.org/2000/svg\" xmlns:xlink=\"http://www.w3.org/1999/xlink\">\r\n",
       " <defs>\r\n",
       "  <style type=\"text/css\">\r\n",
       "*{stroke-linecap:butt;stroke-linejoin:round;}\r\n",
       "  </style>\r\n",
       " </defs>\r\n",
       " <g id=\"figure_1\">\r\n",
       "  <g id=\"patch_1\">\r\n",
       "   <path d=\"M 0 251.202241 \r\n",
       "L 352.252219 251.202241 \r\n",
       "L 352.252219 0 \r\n",
       "L 0 0 \r\n",
       "z\r\n",
       "\" style=\"fill:none;\"/>\r\n",
       "  </g>\r\n",
       "  <g id=\"axes_1\">\r\n",
       "   <g id=\"patch_2\">\r\n",
       "    <path d=\"M 32.9625 227.831928 \r\n",
       "L 344.208623 227.831928 \r\n",
       "L 344.208623 10.391928 \r\n",
       "L 32.9625 10.391928 \r\n",
       "z\r\n",
       "\" style=\"fill:#ffffff;\"/>\r\n",
       "   </g>\r\n",
       "   <g clip-path=\"url(#p5bbb076891)\">\r\n",
       "    <image height=\"218\" id=\"imageea9114e113\" transform=\"scale(1 -1)translate(0 -218)\" width=\"312\" x=\"32.9625\" xlink:href=\"data:image/png;base64,\r\n",
       "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\" y=\"-9.831928\"/>\r\n",
       "   </g>\r\n",
       "   <g id=\"matplotlib.axis_1\">\r\n",
       "    <g id=\"xtick_1\">\r\n",
       "     <g id=\"line2d_1\">\r\n",
       "      <defs>\r\n",
       "       <path d=\"M 0 0 \r\n",
       "L 0 3.5 \r\n",
       "\" id=\"mf127c42a9b\" style=\"stroke:#000000;stroke-width:0.8;\"/>\r\n",
       "      </defs>\r\n",
       "      <g>\r\n",
       "       <use style=\"stroke:#000000;stroke-width:0.8;\" x=\"33.070572\" xlink:href=\"#mf127c42a9b\" y=\"227.831928\"/>\r\n",
       "      </g>\r\n",
       "     </g>\r\n",
       "     <g id=\"text_1\">\r\n",
       "      <!-- 0 -->\r\n",
       "      <defs>\r\n",
       "       <path d=\"M 23.703125 63.5 \r\n",
       "Q 32 63.5 38.046875 54.140625 \r\n",
       "Q 44.09375 44.796875 44.09375 30.90625 \r\n",
       "Q 44.09375 17.09375 38.046875 7.75 \r\n",
       "Q 32 -1.59375 23.703125 -1.59375 \r\n",
       "Q 15.703125 -1.59375 9.5 7.65625 \r\n",
       "Q 3.296875 16.90625 3.296875 30.90625 \r\n",
       "Q 3.296875 44.796875 9.34375 54.140625 \r\n",
       "Q 15.40625 63.5 23.703125 63.5 \r\n",
       "z\r\n",
       "M 23.703125 0.703125 \r\n",
       "Q 31.09375 0.703125 33.9375 8.046875 \r\n",
       "Q 36.796875 15.40625 36.796875 30.90625 \r\n",
       "Q 36.796875 46.40625 33.9375 53.796875 \r\n",
       "Q 31.09375 61.203125 23.703125 61.203125 \r\n",
       "Q 16.296875 61.203125 13.4375 53.796875 \r\n",
       "Q 10.59375 46.40625 10.59375 30.90625 \r\n",
       "Q 10.59375 0.703125 23.703125 0.703125 \r\n",
       "z\r\n",
       "\" id=\"STFangsong-48\"/>\r\n",
       "      </defs>\r\n",
       "      <g transform=\"translate(30.725259 241.431928)scale(0.1 -0.1)\">\r\n",
       "       <use xlink:href=\"#STFangsong-48\"/>\r\n",
       "      </g>\r\n",
       "     </g>\r\n",
       "    </g>\r\n",
       "    <g id=\"xtick_2\">\r\n",
       "     <g id=\"line2d_2\">\r\n",
       "      <g>\r\n",
       "       <use style=\"stroke:#000000;stroke-width:0.8;\" x=\"76.2992\" xlink:href=\"#mf127c42a9b\" y=\"227.831928\"/>\r\n",
       "      </g>\r\n",
       "     </g>\r\n",
       "     <g id=\"text_2\">\r\n",
       "      <!-- 200 -->\r\n",
       "      <defs>\r\n",
       "       <path d=\"M 42.59375 -0.296875 \r\n",
       "Q 35.40625 0 22.203125 0 \r\n",
       "Q 9.296875 0 2.203125 -0.296875 \r\n",
       "Q 4.09375 3.59375 7 7.09375 \r\n",
       "Q 9.90625 10.59375 16.296875 17 \r\n",
       "Q 25.59375 26.296875 29.890625 32.84375 \r\n",
       "Q 34.203125 39.40625 34.203125 46.09375 \r\n",
       "Q 34.203125 51.59375 30.75 55 \r\n",
       "Q 27.296875 58.40625 22.203125 58.40625 \r\n",
       "Q 17.203125 58.40625 13.09375 54.953125 \r\n",
       "Q 9 51.5 7.40625 45.203125 \r\n",
       "L 5.09375 45.59375 \r\n",
       "Q 6.703125 54.09375 11.796875 58.796875 \r\n",
       "Q 16.90625 63.5 24.203125 63.5 \r\n",
       "Q 31.5 63.5 36.59375 58.640625 \r\n",
       "Q 41.703125 53.796875 41.703125 47 \r\n",
       "Q 41.703125 40.203125 36.953125 34.25 \r\n",
       "Q 32.203125 28.296875 22.59375 19.40625 \r\n",
       "Q 17.5 14.703125 9.90625 5.296875 \r\n",
       "L 33.40625 5.296875 \r\n",
       "Q 37.203125 5.296875 38.75 6.640625 \r\n",
       "Q 40.296875 8 42 12.5 \r\n",
       "L 44.09375 12.5 \r\n",
       "z\r\n",
       "\" id=\"STFangsong-50\"/>\r\n",
       "      </defs>\r\n",
       "      <g transform=\"translate(69.263262 241.431928)scale(0.1 -0.1)\">\r\n",
       "       <use xlink:href=\"#STFangsong-50\"/>\r\n",
       "       <use x=\"46.899994\" xlink:href=\"#STFangsong-48\"/>\r\n",
       "       <use x=\"93.799988\" xlink:href=\"#STFangsong-48\"/>\r\n",
       "      </g>\r\n",
       "     </g>\r\n",
       "    </g>\r\n",
       "    <g id=\"xtick_3\">\r\n",
       "     <g id=\"line2d_3\">\r\n",
       "      <g>\r\n",
       "       <use style=\"stroke:#000000;stroke-width:0.8;\" x=\"119.527828\" xlink:href=\"#mf127c42a9b\" y=\"227.831928\"/>\r\n",
       "      </g>\r\n",
       "     </g>\r\n",
       "     <g id=\"text_3\">\r\n",
       "      <!-- 400 -->\r\n",
       "      <defs>\r\n",
       "       <path d=\"M 32.59375 63.5 \r\n",
       "L 35 63.5 \r\n",
       "L 35 22 \r\n",
       "L 45.59375 22 \r\n",
       "L 45.59375 17.40625 \r\n",
       "L 35 17.40625 \r\n",
       "L 35 -1.59375 \r\n",
       "L 28.40625 -1.59375 \r\n",
       "L 28.40625 17.40625 \r\n",
       "L 2.796875 17.40625 \r\n",
       "L 2.796875 20.703125 \r\n",
       "L 14.703125 38.09375 \r\n",
       "z\r\n",
       "M 28.40625 22 \r\n",
       "L 28.40625 52.703125 \r\n",
       "Q 14.796875 33.796875 7.59375 22 \r\n",
       "z\r\n",
       "\" id=\"STFangsong-52\"/>\r\n",
       "      </defs>\r\n",
       "      <g transform=\"translate(112.491891 241.431928)scale(0.1 -0.1)\">\r\n",
       "       <use xlink:href=\"#STFangsong-52\"/>\r\n",
       "       <use x=\"46.899994\" xlink:href=\"#STFangsong-48\"/>\r\n",
       "       <use x=\"93.799988\" xlink:href=\"#STFangsong-48\"/>\r\n",
       "      </g>\r\n",
       "     </g>\r\n",
       "    </g>\r\n",
       "    <g id=\"xtick_4\">\r\n",
       "     <g id=\"line2d_4\">\r\n",
       "      <g>\r\n",
       "       <use style=\"stroke:#000000;stroke-width:0.8;\" x=\"162.756456\" xlink:href=\"#mf127c42a9b\" y=\"227.831928\"/>\r\n",
       "      </g>\r\n",
       "     </g>\r\n",
       "     <g id=\"text_4\">\r\n",
       "      <!-- 600 -->\r\n",
       "      <defs>\r\n",
       "       <path d=\"M 38.40625 63.796875 \r\n",
       "L 39.203125 61.90625 \r\n",
       "Q 26.703125 57.203125 19.25 45.84375 \r\n",
       "Q 11.796875 34.5 11.796875 21.5 \r\n",
       "Q 11.796875 12.90625 15.390625 6.75 \r\n",
       "Q 19 0.59375 24.203125 0.59375 \r\n",
       "Q 35.40625 0.59375 35.40625 18.40625 \r\n",
       "Q 35.40625 25.90625 32.5 30.09375 \r\n",
       "Q 29.59375 34.296875 25.203125 34.296875 \r\n",
       "Q 23.5 34.296875 21.90625 33.59375 \r\n",
       "L 20.796875 35.203125 \r\n",
       "Q 24 36.59375 27.296875 36.59375 \r\n",
       "Q 33.90625 36.59375 38.25 31.59375 \r\n",
       "Q 42.59375 26.59375 42.59375 17.90625 \r\n",
       "Q 42.59375 9.59375 37.4375 4 \r\n",
       "Q 32.296875 -1.59375 24.09375 -1.59375 \r\n",
       "Q 15.59375 -1.59375 10.25 5.046875 \r\n",
       "Q 4.90625 11.703125 4.90625 23.09375 \r\n",
       "Q 4.90625 36.90625 13.953125 48.25 \r\n",
       "Q 23 59.59375 38.40625 63.796875 \r\n",
       "z\r\n",
       "\" id=\"STFangsong-54\"/>\r\n",
       "      </defs>\r\n",
       "      <g transform=\"translate(155.720519 241.431928)scale(0.1 -0.1)\">\r\n",
       "       <use xlink:href=\"#STFangsong-54\"/>\r\n",
       "       <use x=\"46.899994\" xlink:href=\"#STFangsong-48\"/>\r\n",
       "       <use x=\"93.799988\" xlink:href=\"#STFangsong-48\"/>\r\n",
       "      </g>\r\n",
       "     </g>\r\n",
       "    </g>\r\n",
       "    <g id=\"xtick_5\">\r\n",
       "     <g id=\"line2d_5\">\r\n",
       "      <g>\r\n",
       "       <use style=\"stroke:#000000;stroke-width:0.8;\" x=\"205.985084\" xlink:href=\"#mf127c42a9b\" y=\"227.831928\"/>\r\n",
       "      </g>\r\n",
       "     </g>\r\n",
       "     <g id=\"text_5\">\r\n",
       "      <!-- 800 -->\r\n",
       "      <defs>\r\n",
       "       <path d=\"M 19.796875 31.203125 \r\n",
       "Q 7.703125 37.203125 7.703125 47.5 \r\n",
       "Q 7.703125 53.703125 12.640625 58.59375 \r\n",
       "Q 17.59375 63.5 24.296875 63.5 \r\n",
       "Q 31.90625 63.5 36.59375 59.390625 \r\n",
       "Q 41.296875 55.296875 41.296875 49.09375 \r\n",
       "Q 41.296875 43.703125 38.296875 40.390625 \r\n",
       "Q 35.296875 37.09375 29.703125 34.296875 \r\n",
       "Q 38.90625 29.90625 41.5 25.40625 \r\n",
       "Q 44.09375 20.90625 44.09375 16.40625 \r\n",
       "Q 44.09375 9.09375 38.640625 3.75 \r\n",
       "Q 33.203125 -1.59375 25.09375 -1.59375 \r\n",
       "Q 16.703125 -1.59375 11.703125 3.046875 \r\n",
       "Q 6.703125 7.703125 6.703125 14.796875 \r\n",
       "Q 6.703125 19.09375 8.703125 23.25 \r\n",
       "Q 10.703125 27.40625 19.796875 31.203125 \r\n",
       "z\r\n",
       "M 27.5 35.5 \r\n",
       "Q 31.59375 37.40625 33.796875 41.046875 \r\n",
       "Q 36 44.703125 36 49 \r\n",
       "Q 36 54.296875 32.953125 57.75 \r\n",
       "Q 29.90625 61.203125 24.5 61.203125 \r\n",
       "Q 19.59375 61.203125 16.5 57.84375 \r\n",
       "Q 13.40625 54.5 13.40625 49.59375 \r\n",
       "Q 13.40625 47.09375 14.296875 44.6875 \r\n",
       "Q 15.203125 42.296875 19.25 39.5 \r\n",
       "Q 23.296875 36.703125 27.5 35.5 \r\n",
       "z\r\n",
       "M 22.203125 30.09375 \r\n",
       "Q 17.09375 27.59375 14.890625 23.9375 \r\n",
       "Q 12.703125 20.296875 12.703125 14.203125 \r\n",
       "Q 12.703125 8.09375 16.203125 4.4375 \r\n",
       "Q 19.703125 0.796875 25 0.796875 \r\n",
       "Q 30.5 0.796875 34.140625 4.4375 \r\n",
       "Q 37.796875 8.09375 37.796875 13.796875 \r\n",
       "Q 37.796875 19.796875 34.140625 23.390625 \r\n",
       "Q 30.5 27 22.203125 30.09375 \r\n",
       "z\r\n",
       "\" id=\"STFangsong-56\"/>\r\n",
       "      </defs>\r\n",
       "      <g transform=\"translate(198.949147 241.431928)scale(0.1 -0.1)\">\r\n",
       "       <use xlink:href=\"#STFangsong-56\"/>\r\n",
       "       <use x=\"46.899994\" xlink:href=\"#STFangsong-48\"/>\r\n",
       "       <use x=\"93.799988\" xlink:href=\"#STFangsong-48\"/>\r\n",
       "      </g>\r\n",
       "     </g>\r\n",
       "    </g>\r\n",
       "    <g id=\"xtick_6\">\r\n",
       "     <g id=\"line2d_6\">\r\n",
       "      <g>\r\n",
       "       <use style=\"stroke:#000000;stroke-width:0.8;\" x=\"249.213713\" xlink:href=\"#mf127c42a9b\" y=\"227.831928\"/>\r\n",
       "      </g>\r\n",
       "     </g>\r\n",
       "     <g id=\"text_6\">\r\n",
       "      <!-- 1000 -->\r\n",
       "      <defs>\r\n",
       "       <path d=\"M 35.5 -0.296875 \r\n",
       "Q 30.296875 0 23.796875 0 \r\n",
       "Q 17.296875 0 12.09375 -0.296875 \r\n",
       "L 12.09375 1.296875 \r\n",
       "L 17.296875 2.203125 \r\n",
       "Q 20.796875 2.90625 20.796875 6.09375 \r\n",
       "L 20.796875 55.5 \r\n",
       "L 8.90625 47.796875 \r\n",
       "L 7.5 49.703125 \r\n",
       "Q 14.40625 54.203125 24.09375 63.5 \r\n",
       "L 27.40625 63.5 \r\n",
       "L 27.40625 6.09375 \r\n",
       "Q 27.40625 2.703125 30.90625 2.09375 \r\n",
       "L 35.5 1.296875 \r\n",
       "z\r\n",
       "\" id=\"STFangsong-49\"/>\r\n",
       "      </defs>\r\n",
       "      <g transform=\"translate(239.832463 241.431928)scale(0.1 -0.1)\">\r\n",
       "       <use xlink:href=\"#STFangsong-49\"/>\r\n",
       "       <use x=\"46.899994\" xlink:href=\"#STFangsong-48\"/>\r\n",
       "       <use x=\"93.799988\" xlink:href=\"#STFangsong-48\"/>\r\n",
       "       <use x=\"140.699982\" xlink:href=\"#STFangsong-48\"/>\r\n",
       "      </g>\r\n",
       "     </g>\r\n",
       "    </g>\r\n",
       "    <g id=\"xtick_7\">\r\n",
       "     <g id=\"line2d_7\">\r\n",
       "      <g>\r\n",
       "       <use style=\"stroke:#000000;stroke-width:0.8;\" x=\"292.442341\" xlink:href=\"#mf127c42a9b\" y=\"227.831928\"/>\r\n",
       "      </g>\r\n",
       "     </g>\r\n",
       "     <g id=\"text_7\">\r\n",
       "      <!-- 1200 -->\r\n",
       "      <g transform=\"translate(283.061091 241.431928)scale(0.1 -0.1)\">\r\n",
       "       <use xlink:href=\"#STFangsong-49\"/>\r\n",
       "       <use x=\"46.899994\" xlink:href=\"#STFangsong-50\"/>\r\n",
       "       <use x=\"93.799988\" xlink:href=\"#STFangsong-48\"/>\r\n",
       "       <use x=\"140.699982\" xlink:href=\"#STFangsong-48\"/>\r\n",
       "      </g>\r\n",
       "     </g>\r\n",
       "    </g>\r\n",
       "    <g id=\"xtick_8\">\r\n",
       "     <g id=\"line2d_8\">\r\n",
       "      <g>\r\n",
       "       <use style=\"stroke:#000000;stroke-width:0.8;\" x=\"335.670969\" xlink:href=\"#mf127c42a9b\" y=\"227.831928\"/>\r\n",
       "      </g>\r\n",
       "     </g>\r\n",
       "     <g id=\"text_8\">\r\n",
       "      <!-- 1400 -->\r\n",
       "      <g transform=\"translate(326.289719 241.431928)scale(0.1 -0.1)\">\r\n",
       "       <use xlink:href=\"#STFangsong-49\"/>\r\n",
       "       <use x=\"46.899994\" xlink:href=\"#STFangsong-52\"/>\r\n",
       "       <use x=\"93.799988\" xlink:href=\"#STFangsong-48\"/>\r\n",
       "       <use x=\"140.699982\" xlink:href=\"#STFangsong-48\"/>\r\n",
       "      </g>\r\n",
       "     </g>\r\n",
       "    </g>\r\n",
       "   </g>\r\n",
       "   <g id=\"matplotlib.axis_2\">\r\n",
       "    <g id=\"ytick_1\">\r\n",
       "     <g id=\"line2d_9\">\r\n",
       "      <defs>\r\n",
       "       <path d=\"M 0 0 \r\n",
       "L -3.5 0 \r\n",
       "\" id=\"m18d573c320\" style=\"stroke:#000000;stroke-width:0.8;\"/>\r\n",
       "      </defs>\r\n",
       "      <g>\r\n",
       "       <use style=\"stroke:#000000;stroke-width:0.8;\" x=\"32.9625\" xlink:href=\"#m18d573c320\" y=\"10.5\"/>\r\n",
       "      </g>\r\n",
       "     </g>\r\n",
       "     <g id=\"text_9\">\r\n",
       "      <!-- 0 -->\r\n",
       "      <g transform=\"translate(21.271875 13.8)scale(0.1 -0.1)\">\r\n",
       "       <use xlink:href=\"#STFangsong-48\"/>\r\n",
       "      </g>\r\n",
       "     </g>\r\n",
       "    </g>\r\n",
       "    <g id=\"ytick_2\">\r\n",
       "     <g id=\"line2d_10\">\r\n",
       "      <g>\r\n",
       "       <use style=\"stroke:#000000;stroke-width:0.8;\" x=\"32.9625\" xlink:href=\"#m18d573c320\" y=\"53.728628\"/>\r\n",
       "      </g>\r\n",
       "     </g>\r\n",
       "     <g id=\"text_10\">\r\n",
       "      <!-- 200 -->\r\n",
       "      <g transform=\"translate(11.890625 57.028628)scale(0.1 -0.1)\">\r\n",
       "       <use xlink:href=\"#STFangsong-50\"/>\r\n",
       "       <use x=\"46.899994\" xlink:href=\"#STFangsong-48\"/>\r\n",
       "       <use x=\"93.799988\" xlink:href=\"#STFangsong-48\"/>\r\n",
       "      </g>\r\n",
       "     </g>\r\n",
       "    </g>\r\n",
       "    <g id=\"ytick_3\">\r\n",
       "     <g id=\"line2d_11\">\r\n",
       "      <g>\r\n",
       "       <use style=\"stroke:#000000;stroke-width:0.8;\" x=\"32.9625\" xlink:href=\"#m18d573c320\" y=\"96.957256\"/>\r\n",
       "      </g>\r\n",
       "     </g>\r\n",
       "     <g id=\"text_11\">\r\n",
       "      <!-- 400 -->\r\n",
       "      <g transform=\"translate(11.890625 100.257256)scale(0.1 -0.1)\">\r\n",
       "       <use xlink:href=\"#STFangsong-52\"/>\r\n",
       "       <use x=\"46.899994\" xlink:href=\"#STFangsong-48\"/>\r\n",
       "       <use x=\"93.799988\" xlink:href=\"#STFangsong-48\"/>\r\n",
       "      </g>\r\n",
       "     </g>\r\n",
       "    </g>\r\n",
       "    <g id=\"ytick_4\">\r\n",
       "     <g id=\"line2d_12\">\r\n",
       "      <g>\r\n",
       "       <use style=\"stroke:#000000;stroke-width:0.8;\" x=\"32.9625\" xlink:href=\"#m18d573c320\" y=\"140.185885\"/>\r\n",
       "      </g>\r\n",
       "     </g>\r\n",
       "     <g id=\"text_12\">\r\n",
       "      <!-- 600 -->\r\n",
       "      <g transform=\"translate(11.890625 143.485885)scale(0.1 -0.1)\">\r\n",
       "       <use xlink:href=\"#STFangsong-54\"/>\r\n",
       "       <use x=\"46.899994\" xlink:href=\"#STFangsong-48\"/>\r\n",
       "       <use x=\"93.799988\" xlink:href=\"#STFangsong-48\"/>\r\n",
       "      </g>\r\n",
       "     </g>\r\n",
       "    </g>\r\n",
       "    <g id=\"ytick_5\">\r\n",
       "     <g id=\"line2d_13\">\r\n",
       "      <g>\r\n",
       "       <use style=\"stroke:#000000;stroke-width:0.8;\" x=\"32.9625\" xlink:href=\"#m18d573c320\" y=\"183.414513\"/>\r\n",
       "      </g>\r\n",
       "     </g>\r\n",
       "     <g id=\"text_13\">\r\n",
       "      <!-- 800 -->\r\n",
       "      <g transform=\"translate(11.890625 186.714513)scale(0.1 -0.1)\">\r\n",
       "       <use xlink:href=\"#STFangsong-56\"/>\r\n",
       "       <use x=\"46.899994\" xlink:href=\"#STFangsong-48\"/>\r\n",
       "       <use x=\"93.799988\" xlink:href=\"#STFangsong-48\"/>\r\n",
       "      </g>\r\n",
       "     </g>\r\n",
       "    </g>\r\n",
       "    <g id=\"ytick_6\">\r\n",
       "     <g id=\"line2d_14\">\r\n",
       "      <g>\r\n",
       "       <use style=\"stroke:#000000;stroke-width:0.8;\" x=\"32.9625\" xlink:href=\"#m18d573c320\" y=\"226.643141\"/>\r\n",
       "      </g>\r\n",
       "     </g>\r\n",
       "     <g id=\"text_14\">\r\n",
       "      <!-- 1000 -->\r\n",
       "      <g transform=\"translate(7.2 229.943141)scale(0.1 -0.1)\">\r\n",
       "       <use xlink:href=\"#STFangsong-49\"/>\r\n",
       "       <use x=\"46.899994\" xlink:href=\"#STFangsong-48\"/>\r\n",
       "       <use x=\"93.799988\" xlink:href=\"#STFangsong-48\"/>\r\n",
       "       <use x=\"140.699982\" xlink:href=\"#STFangsong-48\"/>\r\n",
       "      </g>\r\n",
       "     </g>\r\n",
       "    </g>\r\n",
       "   </g>\r\n",
       "   <g id=\"patch_3\">\r\n",
       "    <path d=\"M 32.9625 227.831928 \r\n",
       "L 32.9625 10.391928 \r\n",
       "\" style=\"fill:none;stroke:#000000;stroke-linecap:square;stroke-linejoin:miter;stroke-width:0.8;\"/>\r\n",
       "   </g>\r\n",
       "   <g id=\"patch_4\">\r\n",
       "    <path d=\"M 344.208623 227.831928 \r\n",
       "L 344.208623 10.391928 \r\n",
       "\" style=\"fill:none;stroke:#000000;stroke-linecap:square;stroke-linejoin:miter;stroke-width:0.8;\"/>\r\n",
       "   </g>\r\n",
       "   <g id=\"patch_5\">\r\n",
       "    <path d=\"M 32.9625 227.831928 \r\n",
       "L 344.208623 227.831928 \r\n",
       "\" style=\"fill:none;stroke:#000000;stroke-linecap:square;stroke-linejoin:miter;stroke-width:0.8;\"/>\r\n",
       "   </g>\r\n",
       "   <g id=\"patch_6\">\r\n",
       "    <path d=\"M 32.9625 10.391928 \r\n",
       "L 344.208623 10.391928 \r\n",
       "\" style=\"fill:none;stroke:#000000;stroke-linecap:square;stroke-linejoin:miter;stroke-width:0.8;\"/>\r\n",
       "   </g>\r\n",
       "  </g>\r\n",
       " </g>\r\n",
       " <defs>\r\n",
       "  <clipPath id=\"p5bbb076891\">\r\n",
       "   <rect height=\"217.44\" width=\"311.246123\" x=\"32.9625\" y=\"10.391928\"/>\r\n",
       "  </clipPath>\r\n",
       " </defs>\r\n",
       "</svg>\r\n"
      ],
      "text/plain": [
       "<Figure size 432x288 with 1 Axes>"
      ]
     },
     "metadata": {
      "needs_background": "light"
     },
     "output_type": "display_data"
    }
   ],
   "source": [
    "plt.imshow(array13)"
   ]
  },
  {
   "cell_type": "code",
   "execution_count": 41,
   "id": "b72a98ea",
   "metadata": {},
   "outputs": [
    {
     "data": {
      "text/plain": [
       "<matplotlib.image.AxesImage at 0x2ef543abb50>"
      ]
     },
     "execution_count": 41,
     "metadata": {},
     "output_type": "execute_result"
    },
    {
     "data": {
      "image/svg+xml": [
       "<?xml version=\"1.0\" encoding=\"utf-8\" standalone=\"no\"?>\r\n",
       "<!DOCTYPE svg PUBLIC \"-//W3C//DTD SVG 1.1//EN\"\r\n",
       "  \"http://www.w3.org/Graphics/SVG/1.1/DTD/svg11.dtd\">\r\n",
       "<!-- Created with matplotlib (https://matplotlib.org/) -->\r\n",
       "<svg height=\"251.202241pt\" version=\"1.1\" viewBox=\"0 0 352.252219 251.202241\" width=\"352.252219pt\" xmlns=\"http://www.w3.org/2000/svg\" xmlns:xlink=\"http://www.w3.org/1999/xlink\">\r\n",
       " <defs>\r\n",
       "  <style type=\"text/css\">\r\n",
       "*{stroke-linecap:butt;stroke-linejoin:round;}\r\n",
       "  </style>\r\n",
       " </defs>\r\n",
       " <g id=\"figure_1\">\r\n",
       "  <g id=\"patch_1\">\r\n",
       "   <path d=\"M 0 251.202241 \r\n",
       "L 352.252219 251.202241 \r\n",
       "L 352.252219 0 \r\n",
       "L 0 0 \r\n",
       "z\r\n",
       "\" style=\"fill:none;\"/>\r\n",
       "  </g>\r\n",
       "  <g id=\"axes_1\">\r\n",
       "   <g id=\"patch_2\">\r\n",
       "    <path d=\"M 32.9625 227.831928 \r\n",
       "L 344.208623 227.831928 \r\n",
       "L 344.208623 10.391928 \r\n",
       "L 32.9625 10.391928 \r\n",
       "z\r\n",
       "\" style=\"fill:#ffffff;\"/>\r\n",
       "   </g>\r\n",
       "   <g clip-path=\"url(#pa9559c40cf)\">\r\n",
       "    <image height=\"218\" id=\"image7c3be7daae\" transform=\"scale(1 -1)translate(0 -218)\" width=\"312\" x=\"32.9625\" xlink:href=\"data:image/png;base64,\r\n",
       "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\" y=\"-9.831928\"/>\r\n",
       "   </g>\r\n",
       "   <g id=\"matplotlib.axis_1\">\r\n",
       "    <g id=\"xtick_1\">\r\n",
       "     <g id=\"line2d_1\">\r\n",
       "      <defs>\r\n",
       "       <path d=\"M 0 0 \r\n",
       "L 0 3.5 \r\n",
       "\" id=\"mc8d4d5ac7a\" style=\"stroke:#000000;stroke-width:0.8;\"/>\r\n",
       "      </defs>\r\n",
       "      <g>\r\n",
       "       <use style=\"stroke:#000000;stroke-width:0.8;\" x=\"33.070572\" xlink:href=\"#mc8d4d5ac7a\" y=\"227.831928\"/>\r\n",
       "      </g>\r\n",
       "     </g>\r\n",
       "     <g id=\"text_1\">\r\n",
       "      <!-- 0 -->\r\n",
       "      <defs>\r\n",
       "       <path d=\"M 23.703125 63.5 \r\n",
       "Q 32 63.5 38.046875 54.140625 \r\n",
       "Q 44.09375 44.796875 44.09375 30.90625 \r\n",
       "Q 44.09375 17.09375 38.046875 7.75 \r\n",
       "Q 32 -1.59375 23.703125 -1.59375 \r\n",
       "Q 15.703125 -1.59375 9.5 7.65625 \r\n",
       "Q 3.296875 16.90625 3.296875 30.90625 \r\n",
       "Q 3.296875 44.796875 9.34375 54.140625 \r\n",
       "Q 15.40625 63.5 23.703125 63.5 \r\n",
       "z\r\n",
       "M 23.703125 0.703125 \r\n",
       "Q 31.09375 0.703125 33.9375 8.046875 \r\n",
       "Q 36.796875 15.40625 36.796875 30.90625 \r\n",
       "Q 36.796875 46.40625 33.9375 53.796875 \r\n",
       "Q 31.09375 61.203125 23.703125 61.203125 \r\n",
       "Q 16.296875 61.203125 13.4375 53.796875 \r\n",
       "Q 10.59375 46.40625 10.59375 30.90625 \r\n",
       "Q 10.59375 0.703125 23.703125 0.703125 \r\n",
       "z\r\n",
       "\" id=\"STFangsong-48\"/>\r\n",
       "      </defs>\r\n",
       "      <g transform=\"translate(30.725259 241.431928)scale(0.1 -0.1)\">\r\n",
       "       <use xlink:href=\"#STFangsong-48\"/>\r\n",
       "      </g>\r\n",
       "     </g>\r\n",
       "    </g>\r\n",
       "    <g id=\"xtick_2\">\r\n",
       "     <g id=\"line2d_2\">\r\n",
       "      <g>\r\n",
       "       <use style=\"stroke:#000000;stroke-width:0.8;\" x=\"76.2992\" xlink:href=\"#mc8d4d5ac7a\" y=\"227.831928\"/>\r\n",
       "      </g>\r\n",
       "     </g>\r\n",
       "     <g id=\"text_2\">\r\n",
       "      <!-- 200 -->\r\n",
       "      <defs>\r\n",
       "       <path d=\"M 42.59375 -0.296875 \r\n",
       "Q 35.40625 0 22.203125 0 \r\n",
       "Q 9.296875 0 2.203125 -0.296875 \r\n",
       "Q 4.09375 3.59375 7 7.09375 \r\n",
       "Q 9.90625 10.59375 16.296875 17 \r\n",
       "Q 25.59375 26.296875 29.890625 32.84375 \r\n",
       "Q 34.203125 39.40625 34.203125 46.09375 \r\n",
       "Q 34.203125 51.59375 30.75 55 \r\n",
       "Q 27.296875 58.40625 22.203125 58.40625 \r\n",
       "Q 17.203125 58.40625 13.09375 54.953125 \r\n",
       "Q 9 51.5 7.40625 45.203125 \r\n",
       "L 5.09375 45.59375 \r\n",
       "Q 6.703125 54.09375 11.796875 58.796875 \r\n",
       "Q 16.90625 63.5 24.203125 63.5 \r\n",
       "Q 31.5 63.5 36.59375 58.640625 \r\n",
       "Q 41.703125 53.796875 41.703125 47 \r\n",
       "Q 41.703125 40.203125 36.953125 34.25 \r\n",
       "Q 32.203125 28.296875 22.59375 19.40625 \r\n",
       "Q 17.5 14.703125 9.90625 5.296875 \r\n",
       "L 33.40625 5.296875 \r\n",
       "Q 37.203125 5.296875 38.75 6.640625 \r\n",
       "Q 40.296875 8 42 12.5 \r\n",
       "L 44.09375 12.5 \r\n",
       "z\r\n",
       "\" id=\"STFangsong-50\"/>\r\n",
       "      </defs>\r\n",
       "      <g transform=\"translate(69.263262 241.431928)scale(0.1 -0.1)\">\r\n",
       "       <use xlink:href=\"#STFangsong-50\"/>\r\n",
       "       <use x=\"46.899994\" xlink:href=\"#STFangsong-48\"/>\r\n",
       "       <use x=\"93.799988\" xlink:href=\"#STFangsong-48\"/>\r\n",
       "      </g>\r\n",
       "     </g>\r\n",
       "    </g>\r\n",
       "    <g id=\"xtick_3\">\r\n",
       "     <g id=\"line2d_3\">\r\n",
       "      <g>\r\n",
       "       <use style=\"stroke:#000000;stroke-width:0.8;\" x=\"119.527828\" xlink:href=\"#mc8d4d5ac7a\" y=\"227.831928\"/>\r\n",
       "      </g>\r\n",
       "     </g>\r\n",
       "     <g id=\"text_3\">\r\n",
       "      <!-- 400 -->\r\n",
       "      <defs>\r\n",
       "       <path d=\"M 32.59375 63.5 \r\n",
       "L 35 63.5 \r\n",
       "L 35 22 \r\n",
       "L 45.59375 22 \r\n",
       "L 45.59375 17.40625 \r\n",
       "L 35 17.40625 \r\n",
       "L 35 -1.59375 \r\n",
       "L 28.40625 -1.59375 \r\n",
       "L 28.40625 17.40625 \r\n",
       "L 2.796875 17.40625 \r\n",
       "L 2.796875 20.703125 \r\n",
       "L 14.703125 38.09375 \r\n",
       "z\r\n",
       "M 28.40625 22 \r\n",
       "L 28.40625 52.703125 \r\n",
       "Q 14.796875 33.796875 7.59375 22 \r\n",
       "z\r\n",
       "\" id=\"STFangsong-52\"/>\r\n",
       "      </defs>\r\n",
       "      <g transform=\"translate(112.491891 241.431928)scale(0.1 -0.1)\">\r\n",
       "       <use xlink:href=\"#STFangsong-52\"/>\r\n",
       "       <use x=\"46.899994\" xlink:href=\"#STFangsong-48\"/>\r\n",
       "       <use x=\"93.799988\" xlink:href=\"#STFangsong-48\"/>\r\n",
       "      </g>\r\n",
       "     </g>\r\n",
       "    </g>\r\n",
       "    <g id=\"xtick_4\">\r\n",
       "     <g id=\"line2d_4\">\r\n",
       "      <g>\r\n",
       "       <use style=\"stroke:#000000;stroke-width:0.8;\" x=\"162.756456\" xlink:href=\"#mc8d4d5ac7a\" y=\"227.831928\"/>\r\n",
       "      </g>\r\n",
       "     </g>\r\n",
       "     <g id=\"text_4\">\r\n",
       "      <!-- 600 -->\r\n",
       "      <defs>\r\n",
       "       <path d=\"M 38.40625 63.796875 \r\n",
       "L 39.203125 61.90625 \r\n",
       "Q 26.703125 57.203125 19.25 45.84375 \r\n",
       "Q 11.796875 34.5 11.796875 21.5 \r\n",
       "Q 11.796875 12.90625 15.390625 6.75 \r\n",
       "Q 19 0.59375 24.203125 0.59375 \r\n",
       "Q 35.40625 0.59375 35.40625 18.40625 \r\n",
       "Q 35.40625 25.90625 32.5 30.09375 \r\n",
       "Q 29.59375 34.296875 25.203125 34.296875 \r\n",
       "Q 23.5 34.296875 21.90625 33.59375 \r\n",
       "L 20.796875 35.203125 \r\n",
       "Q 24 36.59375 27.296875 36.59375 \r\n",
       "Q 33.90625 36.59375 38.25 31.59375 \r\n",
       "Q 42.59375 26.59375 42.59375 17.90625 \r\n",
       "Q 42.59375 9.59375 37.4375 4 \r\n",
       "Q 32.296875 -1.59375 24.09375 -1.59375 \r\n",
       "Q 15.59375 -1.59375 10.25 5.046875 \r\n",
       "Q 4.90625 11.703125 4.90625 23.09375 \r\n",
       "Q 4.90625 36.90625 13.953125 48.25 \r\n",
       "Q 23 59.59375 38.40625 63.796875 \r\n",
       "z\r\n",
       "\" id=\"STFangsong-54\"/>\r\n",
       "      </defs>\r\n",
       "      <g transform=\"translate(155.720519 241.431928)scale(0.1 -0.1)\">\r\n",
       "       <use xlink:href=\"#STFangsong-54\"/>\r\n",
       "       <use x=\"46.899994\" xlink:href=\"#STFangsong-48\"/>\r\n",
       "       <use x=\"93.799988\" xlink:href=\"#STFangsong-48\"/>\r\n",
       "      </g>\r\n",
       "     </g>\r\n",
       "    </g>\r\n",
       "    <g id=\"xtick_5\">\r\n",
       "     <g id=\"line2d_5\">\r\n",
       "      <g>\r\n",
       "       <use style=\"stroke:#000000;stroke-width:0.8;\" x=\"205.985084\" xlink:href=\"#mc8d4d5ac7a\" y=\"227.831928\"/>\r\n",
       "      </g>\r\n",
       "     </g>\r\n",
       "     <g id=\"text_5\">\r\n",
       "      <!-- 800 -->\r\n",
       "      <defs>\r\n",
       "       <path d=\"M 19.796875 31.203125 \r\n",
       "Q 7.703125 37.203125 7.703125 47.5 \r\n",
       "Q 7.703125 53.703125 12.640625 58.59375 \r\n",
       "Q 17.59375 63.5 24.296875 63.5 \r\n",
       "Q 31.90625 63.5 36.59375 59.390625 \r\n",
       "Q 41.296875 55.296875 41.296875 49.09375 \r\n",
       "Q 41.296875 43.703125 38.296875 40.390625 \r\n",
       "Q 35.296875 37.09375 29.703125 34.296875 \r\n",
       "Q 38.90625 29.90625 41.5 25.40625 \r\n",
       "Q 44.09375 20.90625 44.09375 16.40625 \r\n",
       "Q 44.09375 9.09375 38.640625 3.75 \r\n",
       "Q 33.203125 -1.59375 25.09375 -1.59375 \r\n",
       "Q 16.703125 -1.59375 11.703125 3.046875 \r\n",
       "Q 6.703125 7.703125 6.703125 14.796875 \r\n",
       "Q 6.703125 19.09375 8.703125 23.25 \r\n",
       "Q 10.703125 27.40625 19.796875 31.203125 \r\n",
       "z\r\n",
       "M 27.5 35.5 \r\n",
       "Q 31.59375 37.40625 33.796875 41.046875 \r\n",
       "Q 36 44.703125 36 49 \r\n",
       "Q 36 54.296875 32.953125 57.75 \r\n",
       "Q 29.90625 61.203125 24.5 61.203125 \r\n",
       "Q 19.59375 61.203125 16.5 57.84375 \r\n",
       "Q 13.40625 54.5 13.40625 49.59375 \r\n",
       "Q 13.40625 47.09375 14.296875 44.6875 \r\n",
       "Q 15.203125 42.296875 19.25 39.5 \r\n",
       "Q 23.296875 36.703125 27.5 35.5 \r\n",
       "z\r\n",
       "M 22.203125 30.09375 \r\n",
       "Q 17.09375 27.59375 14.890625 23.9375 \r\n",
       "Q 12.703125 20.296875 12.703125 14.203125 \r\n",
       "Q 12.703125 8.09375 16.203125 4.4375 \r\n",
       "Q 19.703125 0.796875 25 0.796875 \r\n",
       "Q 30.5 0.796875 34.140625 4.4375 \r\n",
       "Q 37.796875 8.09375 37.796875 13.796875 \r\n",
       "Q 37.796875 19.796875 34.140625 23.390625 \r\n",
       "Q 30.5 27 22.203125 30.09375 \r\n",
       "z\r\n",
       "\" id=\"STFangsong-56\"/>\r\n",
       "      </defs>\r\n",
       "      <g transform=\"translate(198.949147 241.431928)scale(0.1 -0.1)\">\r\n",
       "       <use xlink:href=\"#STFangsong-56\"/>\r\n",
       "       <use x=\"46.899994\" xlink:href=\"#STFangsong-48\"/>\r\n",
       "       <use x=\"93.799988\" xlink:href=\"#STFangsong-48\"/>\r\n",
       "      </g>\r\n",
       "     </g>\r\n",
       "    </g>\r\n",
       "    <g id=\"xtick_6\">\r\n",
       "     <g id=\"line2d_6\">\r\n",
       "      <g>\r\n",
       "       <use style=\"stroke:#000000;stroke-width:0.8;\" x=\"249.213713\" xlink:href=\"#mc8d4d5ac7a\" y=\"227.831928\"/>\r\n",
       "      </g>\r\n",
       "     </g>\r\n",
       "     <g id=\"text_6\">\r\n",
       "      <!-- 1000 -->\r\n",
       "      <defs>\r\n",
       "       <path d=\"M 35.5 -0.296875 \r\n",
       "Q 30.296875 0 23.796875 0 \r\n",
       "Q 17.296875 0 12.09375 -0.296875 \r\n",
       "L 12.09375 1.296875 \r\n",
       "L 17.296875 2.203125 \r\n",
       "Q 20.796875 2.90625 20.796875 6.09375 \r\n",
       "L 20.796875 55.5 \r\n",
       "L 8.90625 47.796875 \r\n",
       "L 7.5 49.703125 \r\n",
       "Q 14.40625 54.203125 24.09375 63.5 \r\n",
       "L 27.40625 63.5 \r\n",
       "L 27.40625 6.09375 \r\n",
       "Q 27.40625 2.703125 30.90625 2.09375 \r\n",
       "L 35.5 1.296875 \r\n",
       "z\r\n",
       "\" id=\"STFangsong-49\"/>\r\n",
       "      </defs>\r\n",
       "      <g transform=\"translate(239.832463 241.431928)scale(0.1 -0.1)\">\r\n",
       "       <use xlink:href=\"#STFangsong-49\"/>\r\n",
       "       <use x=\"46.899994\" xlink:href=\"#STFangsong-48\"/>\r\n",
       "       <use x=\"93.799988\" xlink:href=\"#STFangsong-48\"/>\r\n",
       "       <use x=\"140.699982\" xlink:href=\"#STFangsong-48\"/>\r\n",
       "      </g>\r\n",
       "     </g>\r\n",
       "    </g>\r\n",
       "    <g id=\"xtick_7\">\r\n",
       "     <g id=\"line2d_7\">\r\n",
       "      <g>\r\n",
       "       <use style=\"stroke:#000000;stroke-width:0.8;\" x=\"292.442341\" xlink:href=\"#mc8d4d5ac7a\" y=\"227.831928\"/>\r\n",
       "      </g>\r\n",
       "     </g>\r\n",
       "     <g id=\"text_7\">\r\n",
       "      <!-- 1200 -->\r\n",
       "      <g transform=\"translate(283.061091 241.431928)scale(0.1 -0.1)\">\r\n",
       "       <use xlink:href=\"#STFangsong-49\"/>\r\n",
       "       <use x=\"46.899994\" xlink:href=\"#STFangsong-50\"/>\r\n",
       "       <use x=\"93.799988\" xlink:href=\"#STFangsong-48\"/>\r\n",
       "       <use x=\"140.699982\" xlink:href=\"#STFangsong-48\"/>\r\n",
       "      </g>\r\n",
       "     </g>\r\n",
       "    </g>\r\n",
       "    <g id=\"xtick_8\">\r\n",
       "     <g id=\"line2d_8\">\r\n",
       "      <g>\r\n",
       "       <use style=\"stroke:#000000;stroke-width:0.8;\" x=\"335.670969\" xlink:href=\"#mc8d4d5ac7a\" y=\"227.831928\"/>\r\n",
       "      </g>\r\n",
       "     </g>\r\n",
       "     <g id=\"text_8\">\r\n",
       "      <!-- 1400 -->\r\n",
       "      <g transform=\"translate(326.289719 241.431928)scale(0.1 -0.1)\">\r\n",
       "       <use xlink:href=\"#STFangsong-49\"/>\r\n",
       "       <use x=\"46.899994\" xlink:href=\"#STFangsong-52\"/>\r\n",
       "       <use x=\"93.799988\" xlink:href=\"#STFangsong-48\"/>\r\n",
       "       <use x=\"140.699982\" xlink:href=\"#STFangsong-48\"/>\r\n",
       "      </g>\r\n",
       "     </g>\r\n",
       "    </g>\r\n",
       "   </g>\r\n",
       "   <g id=\"matplotlib.axis_2\">\r\n",
       "    <g id=\"ytick_1\">\r\n",
       "     <g id=\"line2d_9\">\r\n",
       "      <defs>\r\n",
       "       <path d=\"M 0 0 \r\n",
       "L -3.5 0 \r\n",
       "\" id=\"ma2412d49b2\" style=\"stroke:#000000;stroke-width:0.8;\"/>\r\n",
       "      </defs>\r\n",
       "      <g>\r\n",
       "       <use style=\"stroke:#000000;stroke-width:0.8;\" x=\"32.9625\" xlink:href=\"#ma2412d49b2\" y=\"10.5\"/>\r\n",
       "      </g>\r\n",
       "     </g>\r\n",
       "     <g id=\"text_9\">\r\n",
       "      <!-- 0 -->\r\n",
       "      <g transform=\"translate(21.271875 13.8)scale(0.1 -0.1)\">\r\n",
       "       <use xlink:href=\"#STFangsong-48\"/>\r\n",
       "      </g>\r\n",
       "     </g>\r\n",
       "    </g>\r\n",
       "    <g id=\"ytick_2\">\r\n",
       "     <g id=\"line2d_10\">\r\n",
       "      <g>\r\n",
       "       <use style=\"stroke:#000000;stroke-width:0.8;\" x=\"32.9625\" xlink:href=\"#ma2412d49b2\" y=\"53.728628\"/>\r\n",
       "      </g>\r\n",
       "     </g>\r\n",
       "     <g id=\"text_10\">\r\n",
       "      <!-- 200 -->\r\n",
       "      <g transform=\"translate(11.890625 57.028628)scale(0.1 -0.1)\">\r\n",
       "       <use xlink:href=\"#STFangsong-50\"/>\r\n",
       "       <use x=\"46.899994\" xlink:href=\"#STFangsong-48\"/>\r\n",
       "       <use x=\"93.799988\" xlink:href=\"#STFangsong-48\"/>\r\n",
       "      </g>\r\n",
       "     </g>\r\n",
       "    </g>\r\n",
       "    <g id=\"ytick_3\">\r\n",
       "     <g id=\"line2d_11\">\r\n",
       "      <g>\r\n",
       "       <use style=\"stroke:#000000;stroke-width:0.8;\" x=\"32.9625\" xlink:href=\"#ma2412d49b2\" y=\"96.957256\"/>\r\n",
       "      </g>\r\n",
       "     </g>\r\n",
       "     <g id=\"text_11\">\r\n",
       "      <!-- 400 -->\r\n",
       "      <g transform=\"translate(11.890625 100.257256)scale(0.1 -0.1)\">\r\n",
       "       <use xlink:href=\"#STFangsong-52\"/>\r\n",
       "       <use x=\"46.899994\" xlink:href=\"#STFangsong-48\"/>\r\n",
       "       <use x=\"93.799988\" xlink:href=\"#STFangsong-48\"/>\r\n",
       "      </g>\r\n",
       "     </g>\r\n",
       "    </g>\r\n",
       "    <g id=\"ytick_4\">\r\n",
       "     <g id=\"line2d_12\">\r\n",
       "      <g>\r\n",
       "       <use style=\"stroke:#000000;stroke-width:0.8;\" x=\"32.9625\" xlink:href=\"#ma2412d49b2\" y=\"140.185885\"/>\r\n",
       "      </g>\r\n",
       "     </g>\r\n",
       "     <g id=\"text_12\">\r\n",
       "      <!-- 600 -->\r\n",
       "      <g transform=\"translate(11.890625 143.485885)scale(0.1 -0.1)\">\r\n",
       "       <use xlink:href=\"#STFangsong-54\"/>\r\n",
       "       <use x=\"46.899994\" xlink:href=\"#STFangsong-48\"/>\r\n",
       "       <use x=\"93.799988\" xlink:href=\"#STFangsong-48\"/>\r\n",
       "      </g>\r\n",
       "     </g>\r\n",
       "    </g>\r\n",
       "    <g id=\"ytick_5\">\r\n",
       "     <g id=\"line2d_13\">\r\n",
       "      <g>\r\n",
       "       <use style=\"stroke:#000000;stroke-width:0.8;\" x=\"32.9625\" xlink:href=\"#ma2412d49b2\" y=\"183.414513\"/>\r\n",
       "      </g>\r\n",
       "     </g>\r\n",
       "     <g id=\"text_13\">\r\n",
       "      <!-- 800 -->\r\n",
       "      <g transform=\"translate(11.890625 186.714513)scale(0.1 -0.1)\">\r\n",
       "       <use xlink:href=\"#STFangsong-56\"/>\r\n",
       "       <use x=\"46.899994\" xlink:href=\"#STFangsong-48\"/>\r\n",
       "       <use x=\"93.799988\" xlink:href=\"#STFangsong-48\"/>\r\n",
       "      </g>\r\n",
       "     </g>\r\n",
       "    </g>\r\n",
       "    <g id=\"ytick_6\">\r\n",
       "     <g id=\"line2d_14\">\r\n",
       "      <g>\r\n",
       "       <use style=\"stroke:#000000;stroke-width:0.8;\" x=\"32.9625\" xlink:href=\"#ma2412d49b2\" y=\"226.643141\"/>\r\n",
       "      </g>\r\n",
       "     </g>\r\n",
       "     <g id=\"text_14\">\r\n",
       "      <!-- 1000 -->\r\n",
       "      <g transform=\"translate(7.2 229.943141)scale(0.1 -0.1)\">\r\n",
       "       <use xlink:href=\"#STFangsong-49\"/>\r\n",
       "       <use x=\"46.899994\" xlink:href=\"#STFangsong-48\"/>\r\n",
       "       <use x=\"93.799988\" xlink:href=\"#STFangsong-48\"/>\r\n",
       "       <use x=\"140.699982\" xlink:href=\"#STFangsong-48\"/>\r\n",
       "      </g>\r\n",
       "     </g>\r\n",
       "    </g>\r\n",
       "   </g>\r\n",
       "   <g id=\"patch_3\">\r\n",
       "    <path d=\"M 32.9625 227.831928 \r\n",
       "L 32.9625 10.391928 \r\n",
       "\" style=\"fill:none;stroke:#000000;stroke-linecap:square;stroke-linejoin:miter;stroke-width:0.8;\"/>\r\n",
       "   </g>\r\n",
       "   <g id=\"patch_4\">\r\n",
       "    <path d=\"M 344.208623 227.831928 \r\n",
       "L 344.208623 10.391928 \r\n",
       "\" style=\"fill:none;stroke:#000000;stroke-linecap:square;stroke-linejoin:miter;stroke-width:0.8;\"/>\r\n",
       "   </g>\r\n",
       "   <g id=\"patch_5\">\r\n",
       "    <path d=\"M 32.9625 227.831928 \r\n",
       "L 344.208623 227.831928 \r\n",
       "\" style=\"fill:none;stroke:#000000;stroke-linecap:square;stroke-linejoin:miter;stroke-width:0.8;\"/>\r\n",
       "   </g>\r\n",
       "   <g id=\"patch_6\">\r\n",
       "    <path d=\"M 32.9625 10.391928 \r\n",
       "L 344.208623 10.391928 \r\n",
       "\" style=\"fill:none;stroke:#000000;stroke-linecap:square;stroke-linejoin:miter;stroke-width:0.8;\"/>\r\n",
       "   </g>\r\n",
       "  </g>\r\n",
       " </g>\r\n",
       " <defs>\r\n",
       "  <clipPath id=\"pa9559c40cf\">\r\n",
       "   <rect height=\"217.44\" width=\"311.246123\" x=\"32.9625\" y=\"10.391928\"/>\r\n",
       "  </clipPath>\r\n",
       " </defs>\r\n",
       "</svg>\r\n"
      ],
      "text/plain": [
       "<Figure size 432x288 with 1 Axes>"
      ]
     },
     "metadata": {
      "needs_background": "light"
     },
     "output_type": "display_data"
    }
   ],
   "source": [
    "# 水平翻转\n",
    "plt.imshow(array13[:,::-1,:])"
   ]
  },
  {
   "cell_type": "code",
   "execution_count": 42,
   "id": "706d65fb",
   "metadata": {},
   "outputs": [
    {
     "data": {
      "text/plain": [
       "<matplotlib.image.AxesImage at 0x2ef57c64700>"
      ]
     },
     "execution_count": 42,
     "metadata": {},
     "output_type": "execute_result"
    },
    {
     "data": {
      "image/svg+xml": [
       "<?xml version=\"1.0\" encoding=\"utf-8\" standalone=\"no\"?>\r\n",
       "<!DOCTYPE svg PUBLIC \"-//W3C//DTD SVG 1.1//EN\"\r\n",
       "  \"http://www.w3.org/Graphics/SVG/1.1/DTD/svg11.dtd\">\r\n",
       "<!-- Created with matplotlib (https://matplotlib.org/) -->\r\n",
       "<svg height=\"251.202241pt\" version=\"1.1\" viewBox=\"0 0 352.252219 251.202241\" width=\"352.252219pt\" xmlns=\"http://www.w3.org/2000/svg\" xmlns:xlink=\"http://www.w3.org/1999/xlink\">\r\n",
       " <defs>\r\n",
       "  <style type=\"text/css\">\r\n",
       "*{stroke-linecap:butt;stroke-linejoin:round;}\r\n",
       "  </style>\r\n",
       " </defs>\r\n",
       " <g id=\"figure_1\">\r\n",
       "  <g id=\"patch_1\">\r\n",
       "   <path d=\"M 0 251.202241 \r\n",
       "L 352.252219 251.202241 \r\n",
       "L 352.252219 0 \r\n",
       "L 0 0 \r\n",
       "z\r\n",
       "\" style=\"fill:none;\"/>\r\n",
       "  </g>\r\n",
       "  <g id=\"axes_1\">\r\n",
       "   <g id=\"patch_2\">\r\n",
       "    <path d=\"M 32.9625 227.831928 \r\n",
       "L 344.208623 227.831928 \r\n",
       "L 344.208623 10.391928 \r\n",
       "L 32.9625 10.391928 \r\n",
       "z\r\n",
       "\" style=\"fill:#ffffff;\"/>\r\n",
       "   </g>\r\n",
       "   <g clip-path=\"url(#p87d95c346f)\">\r\n",
       "    <image height=\"218\" id=\"image8fac0adaa7\" transform=\"scale(1 -1)translate(0 -218)\" width=\"312\" x=\"32.9625\" xlink:href=\"data:image/png;base64,\r\n",
       "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\" y=\"-9.831928\"/>\r\n",
       "   </g>\r\n",
       "   <g id=\"matplotlib.axis_1\">\r\n",
       "    <g id=\"xtick_1\">\r\n",
       "     <g id=\"line2d_1\">\r\n",
       "      <defs>\r\n",
       "       <path d=\"M 0 0 \r\n",
       "L 0 3.5 \r\n",
       "\" id=\"mc207b471ff\" style=\"stroke:#000000;stroke-width:0.8;\"/>\r\n",
       "      </defs>\r\n",
       "      <g>\r\n",
       "       <use style=\"stroke:#000000;stroke-width:0.8;\" x=\"33.070572\" xlink:href=\"#mc207b471ff\" y=\"227.831928\"/>\r\n",
       "      </g>\r\n",
       "     </g>\r\n",
       "     <g id=\"text_1\">\r\n",
       "      <!-- 0 -->\r\n",
       "      <defs>\r\n",
       "       <path d=\"M 23.703125 63.5 \r\n",
       "Q 32 63.5 38.046875 54.140625 \r\n",
       "Q 44.09375 44.796875 44.09375 30.90625 \r\n",
       "Q 44.09375 17.09375 38.046875 7.75 \r\n",
       "Q 32 -1.59375 23.703125 -1.59375 \r\n",
       "Q 15.703125 -1.59375 9.5 7.65625 \r\n",
       "Q 3.296875 16.90625 3.296875 30.90625 \r\n",
       "Q 3.296875 44.796875 9.34375 54.140625 \r\n",
       "Q 15.40625 63.5 23.703125 63.5 \r\n",
       "z\r\n",
       "M 23.703125 0.703125 \r\n",
       "Q 31.09375 0.703125 33.9375 8.046875 \r\n",
       "Q 36.796875 15.40625 36.796875 30.90625 \r\n",
       "Q 36.796875 46.40625 33.9375 53.796875 \r\n",
       "Q 31.09375 61.203125 23.703125 61.203125 \r\n",
       "Q 16.296875 61.203125 13.4375 53.796875 \r\n",
       "Q 10.59375 46.40625 10.59375 30.90625 \r\n",
       "Q 10.59375 0.703125 23.703125 0.703125 \r\n",
       "z\r\n",
       "\" id=\"STFangsong-48\"/>\r\n",
       "      </defs>\r\n",
       "      <g transform=\"translate(30.725259 241.431928)scale(0.1 -0.1)\">\r\n",
       "       <use xlink:href=\"#STFangsong-48\"/>\r\n",
       "      </g>\r\n",
       "     </g>\r\n",
       "    </g>\r\n",
       "    <g id=\"xtick_2\">\r\n",
       "     <g id=\"line2d_2\">\r\n",
       "      <g>\r\n",
       "       <use style=\"stroke:#000000;stroke-width:0.8;\" x=\"76.2992\" xlink:href=\"#mc207b471ff\" y=\"227.831928\"/>\r\n",
       "      </g>\r\n",
       "     </g>\r\n",
       "     <g id=\"text_2\">\r\n",
       "      <!-- 200 -->\r\n",
       "      <defs>\r\n",
       "       <path d=\"M 42.59375 -0.296875 \r\n",
       "Q 35.40625 0 22.203125 0 \r\n",
       "Q 9.296875 0 2.203125 -0.296875 \r\n",
       "Q 4.09375 3.59375 7 7.09375 \r\n",
       "Q 9.90625 10.59375 16.296875 17 \r\n",
       "Q 25.59375 26.296875 29.890625 32.84375 \r\n",
       "Q 34.203125 39.40625 34.203125 46.09375 \r\n",
       "Q 34.203125 51.59375 30.75 55 \r\n",
       "Q 27.296875 58.40625 22.203125 58.40625 \r\n",
       "Q 17.203125 58.40625 13.09375 54.953125 \r\n",
       "Q 9 51.5 7.40625 45.203125 \r\n",
       "L 5.09375 45.59375 \r\n",
       "Q 6.703125 54.09375 11.796875 58.796875 \r\n",
       "Q 16.90625 63.5 24.203125 63.5 \r\n",
       "Q 31.5 63.5 36.59375 58.640625 \r\n",
       "Q 41.703125 53.796875 41.703125 47 \r\n",
       "Q 41.703125 40.203125 36.953125 34.25 \r\n",
       "Q 32.203125 28.296875 22.59375 19.40625 \r\n",
       "Q 17.5 14.703125 9.90625 5.296875 \r\n",
       "L 33.40625 5.296875 \r\n",
       "Q 37.203125 5.296875 38.75 6.640625 \r\n",
       "Q 40.296875 8 42 12.5 \r\n",
       "L 44.09375 12.5 \r\n",
       "z\r\n",
       "\" id=\"STFangsong-50\"/>\r\n",
       "      </defs>\r\n",
       "      <g transform=\"translate(69.263262 241.431928)scale(0.1 -0.1)\">\r\n",
       "       <use xlink:href=\"#STFangsong-50\"/>\r\n",
       "       <use x=\"46.899994\" xlink:href=\"#STFangsong-48\"/>\r\n",
       "       <use x=\"93.799988\" xlink:href=\"#STFangsong-48\"/>\r\n",
       "      </g>\r\n",
       "     </g>\r\n",
       "    </g>\r\n",
       "    <g id=\"xtick_3\">\r\n",
       "     <g id=\"line2d_3\">\r\n",
       "      <g>\r\n",
       "       <use style=\"stroke:#000000;stroke-width:0.8;\" x=\"119.527828\" xlink:href=\"#mc207b471ff\" y=\"227.831928\"/>\r\n",
       "      </g>\r\n",
       "     </g>\r\n",
       "     <g id=\"text_3\">\r\n",
       "      <!-- 400 -->\r\n",
       "      <defs>\r\n",
       "       <path d=\"M 32.59375 63.5 \r\n",
       "L 35 63.5 \r\n",
       "L 35 22 \r\n",
       "L 45.59375 22 \r\n",
       "L 45.59375 17.40625 \r\n",
       "L 35 17.40625 \r\n",
       "L 35 -1.59375 \r\n",
       "L 28.40625 -1.59375 \r\n",
       "L 28.40625 17.40625 \r\n",
       "L 2.796875 17.40625 \r\n",
       "L 2.796875 20.703125 \r\n",
       "L 14.703125 38.09375 \r\n",
       "z\r\n",
       "M 28.40625 22 \r\n",
       "L 28.40625 52.703125 \r\n",
       "Q 14.796875 33.796875 7.59375 22 \r\n",
       "z\r\n",
       "\" id=\"STFangsong-52\"/>\r\n",
       "      </defs>\r\n",
       "      <g transform=\"translate(112.491891 241.431928)scale(0.1 -0.1)\">\r\n",
       "       <use xlink:href=\"#STFangsong-52\"/>\r\n",
       "       <use x=\"46.899994\" xlink:href=\"#STFangsong-48\"/>\r\n",
       "       <use x=\"93.799988\" xlink:href=\"#STFangsong-48\"/>\r\n",
       "      </g>\r\n",
       "     </g>\r\n",
       "    </g>\r\n",
       "    <g id=\"xtick_4\">\r\n",
       "     <g id=\"line2d_4\">\r\n",
       "      <g>\r\n",
       "       <use style=\"stroke:#000000;stroke-width:0.8;\" x=\"162.756456\" xlink:href=\"#mc207b471ff\" y=\"227.831928\"/>\r\n",
       "      </g>\r\n",
       "     </g>\r\n",
       "     <g id=\"text_4\">\r\n",
       "      <!-- 600 -->\r\n",
       "      <defs>\r\n",
       "       <path d=\"M 38.40625 63.796875 \r\n",
       "L 39.203125 61.90625 \r\n",
       "Q 26.703125 57.203125 19.25 45.84375 \r\n",
       "Q 11.796875 34.5 11.796875 21.5 \r\n",
       "Q 11.796875 12.90625 15.390625 6.75 \r\n",
       "Q 19 0.59375 24.203125 0.59375 \r\n",
       "Q 35.40625 0.59375 35.40625 18.40625 \r\n",
       "Q 35.40625 25.90625 32.5 30.09375 \r\n",
       "Q 29.59375 34.296875 25.203125 34.296875 \r\n",
       "Q 23.5 34.296875 21.90625 33.59375 \r\n",
       "L 20.796875 35.203125 \r\n",
       "Q 24 36.59375 27.296875 36.59375 \r\n",
       "Q 33.90625 36.59375 38.25 31.59375 \r\n",
       "Q 42.59375 26.59375 42.59375 17.90625 \r\n",
       "Q 42.59375 9.59375 37.4375 4 \r\n",
       "Q 32.296875 -1.59375 24.09375 -1.59375 \r\n",
       "Q 15.59375 -1.59375 10.25 5.046875 \r\n",
       "Q 4.90625 11.703125 4.90625 23.09375 \r\n",
       "Q 4.90625 36.90625 13.953125 48.25 \r\n",
       "Q 23 59.59375 38.40625 63.796875 \r\n",
       "z\r\n",
       "\" id=\"STFangsong-54\"/>\r\n",
       "      </defs>\r\n",
       "      <g transform=\"translate(155.720519 241.431928)scale(0.1 -0.1)\">\r\n",
       "       <use xlink:href=\"#STFangsong-54\"/>\r\n",
       "       <use x=\"46.899994\" xlink:href=\"#STFangsong-48\"/>\r\n",
       "       <use x=\"93.799988\" xlink:href=\"#STFangsong-48\"/>\r\n",
       "      </g>\r\n",
       "     </g>\r\n",
       "    </g>\r\n",
       "    <g id=\"xtick_5\">\r\n",
       "     <g id=\"line2d_5\">\r\n",
       "      <g>\r\n",
       "       <use style=\"stroke:#000000;stroke-width:0.8;\" x=\"205.985084\" xlink:href=\"#mc207b471ff\" y=\"227.831928\"/>\r\n",
       "      </g>\r\n",
       "     </g>\r\n",
       "     <g id=\"text_5\">\r\n",
       "      <!-- 800 -->\r\n",
       "      <defs>\r\n",
       "       <path d=\"M 19.796875 31.203125 \r\n",
       "Q 7.703125 37.203125 7.703125 47.5 \r\n",
       "Q 7.703125 53.703125 12.640625 58.59375 \r\n",
       "Q 17.59375 63.5 24.296875 63.5 \r\n",
       "Q 31.90625 63.5 36.59375 59.390625 \r\n",
       "Q 41.296875 55.296875 41.296875 49.09375 \r\n",
       "Q 41.296875 43.703125 38.296875 40.390625 \r\n",
       "Q 35.296875 37.09375 29.703125 34.296875 \r\n",
       "Q 38.90625 29.90625 41.5 25.40625 \r\n",
       "Q 44.09375 20.90625 44.09375 16.40625 \r\n",
       "Q 44.09375 9.09375 38.640625 3.75 \r\n",
       "Q 33.203125 -1.59375 25.09375 -1.59375 \r\n",
       "Q 16.703125 -1.59375 11.703125 3.046875 \r\n",
       "Q 6.703125 7.703125 6.703125 14.796875 \r\n",
       "Q 6.703125 19.09375 8.703125 23.25 \r\n",
       "Q 10.703125 27.40625 19.796875 31.203125 \r\n",
       "z\r\n",
       "M 27.5 35.5 \r\n",
       "Q 31.59375 37.40625 33.796875 41.046875 \r\n",
       "Q 36 44.703125 36 49 \r\n",
       "Q 36 54.296875 32.953125 57.75 \r\n",
       "Q 29.90625 61.203125 24.5 61.203125 \r\n",
       "Q 19.59375 61.203125 16.5 57.84375 \r\n",
       "Q 13.40625 54.5 13.40625 49.59375 \r\n",
       "Q 13.40625 47.09375 14.296875 44.6875 \r\n",
       "Q 15.203125 42.296875 19.25 39.5 \r\n",
       "Q 23.296875 36.703125 27.5 35.5 \r\n",
       "z\r\n",
       "M 22.203125 30.09375 \r\n",
       "Q 17.09375 27.59375 14.890625 23.9375 \r\n",
       "Q 12.703125 20.296875 12.703125 14.203125 \r\n",
       "Q 12.703125 8.09375 16.203125 4.4375 \r\n",
       "Q 19.703125 0.796875 25 0.796875 \r\n",
       "Q 30.5 0.796875 34.140625 4.4375 \r\n",
       "Q 37.796875 8.09375 37.796875 13.796875 \r\n",
       "Q 37.796875 19.796875 34.140625 23.390625 \r\n",
       "Q 30.5 27 22.203125 30.09375 \r\n",
       "z\r\n",
       "\" id=\"STFangsong-56\"/>\r\n",
       "      </defs>\r\n",
       "      <g transform=\"translate(198.949147 241.431928)scale(0.1 -0.1)\">\r\n",
       "       <use xlink:href=\"#STFangsong-56\"/>\r\n",
       "       <use x=\"46.899994\" xlink:href=\"#STFangsong-48\"/>\r\n",
       "       <use x=\"93.799988\" xlink:href=\"#STFangsong-48\"/>\r\n",
       "      </g>\r\n",
       "     </g>\r\n",
       "    </g>\r\n",
       "    <g id=\"xtick_6\">\r\n",
       "     <g id=\"line2d_6\">\r\n",
       "      <g>\r\n",
       "       <use style=\"stroke:#000000;stroke-width:0.8;\" x=\"249.213713\" xlink:href=\"#mc207b471ff\" y=\"227.831928\"/>\r\n",
       "      </g>\r\n",
       "     </g>\r\n",
       "     <g id=\"text_6\">\r\n",
       "      <!-- 1000 -->\r\n",
       "      <defs>\r\n",
       "       <path d=\"M 35.5 -0.296875 \r\n",
       "Q 30.296875 0 23.796875 0 \r\n",
       "Q 17.296875 0 12.09375 -0.296875 \r\n",
       "L 12.09375 1.296875 \r\n",
       "L 17.296875 2.203125 \r\n",
       "Q 20.796875 2.90625 20.796875 6.09375 \r\n",
       "L 20.796875 55.5 \r\n",
       "L 8.90625 47.796875 \r\n",
       "L 7.5 49.703125 \r\n",
       "Q 14.40625 54.203125 24.09375 63.5 \r\n",
       "L 27.40625 63.5 \r\n",
       "L 27.40625 6.09375 \r\n",
       "Q 27.40625 2.703125 30.90625 2.09375 \r\n",
       "L 35.5 1.296875 \r\n",
       "z\r\n",
       "\" id=\"STFangsong-49\"/>\r\n",
       "      </defs>\r\n",
       "      <g transform=\"translate(239.832463 241.431928)scale(0.1 -0.1)\">\r\n",
       "       <use xlink:href=\"#STFangsong-49\"/>\r\n",
       "       <use x=\"46.899994\" xlink:href=\"#STFangsong-48\"/>\r\n",
       "       <use x=\"93.799988\" xlink:href=\"#STFangsong-48\"/>\r\n",
       "       <use x=\"140.699982\" xlink:href=\"#STFangsong-48\"/>\r\n",
       "      </g>\r\n",
       "     </g>\r\n",
       "    </g>\r\n",
       "    <g id=\"xtick_7\">\r\n",
       "     <g id=\"line2d_7\">\r\n",
       "      <g>\r\n",
       "       <use style=\"stroke:#000000;stroke-width:0.8;\" x=\"292.442341\" xlink:href=\"#mc207b471ff\" y=\"227.831928\"/>\r\n",
       "      </g>\r\n",
       "     </g>\r\n",
       "     <g id=\"text_7\">\r\n",
       "      <!-- 1200 -->\r\n",
       "      <g transform=\"translate(283.061091 241.431928)scale(0.1 -0.1)\">\r\n",
       "       <use xlink:href=\"#STFangsong-49\"/>\r\n",
       "       <use x=\"46.899994\" xlink:href=\"#STFangsong-50\"/>\r\n",
       "       <use x=\"93.799988\" xlink:href=\"#STFangsong-48\"/>\r\n",
       "       <use x=\"140.699982\" xlink:href=\"#STFangsong-48\"/>\r\n",
       "      </g>\r\n",
       "     </g>\r\n",
       "    </g>\r\n",
       "    <g id=\"xtick_8\">\r\n",
       "     <g id=\"line2d_8\">\r\n",
       "      <g>\r\n",
       "       <use style=\"stroke:#000000;stroke-width:0.8;\" x=\"335.670969\" xlink:href=\"#mc207b471ff\" y=\"227.831928\"/>\r\n",
       "      </g>\r\n",
       "     </g>\r\n",
       "     <g id=\"text_8\">\r\n",
       "      <!-- 1400 -->\r\n",
       "      <g transform=\"translate(326.289719 241.431928)scale(0.1 -0.1)\">\r\n",
       "       <use xlink:href=\"#STFangsong-49\"/>\r\n",
       "       <use x=\"46.899994\" xlink:href=\"#STFangsong-52\"/>\r\n",
       "       <use x=\"93.799988\" xlink:href=\"#STFangsong-48\"/>\r\n",
       "       <use x=\"140.699982\" xlink:href=\"#STFangsong-48\"/>\r\n",
       "      </g>\r\n",
       "     </g>\r\n",
       "    </g>\r\n",
       "   </g>\r\n",
       "   <g id=\"matplotlib.axis_2\">\r\n",
       "    <g id=\"ytick_1\">\r\n",
       "     <g id=\"line2d_9\">\r\n",
       "      <defs>\r\n",
       "       <path d=\"M 0 0 \r\n",
       "L -3.5 0 \r\n",
       "\" id=\"m018968e77c\" style=\"stroke:#000000;stroke-width:0.8;\"/>\r\n",
       "      </defs>\r\n",
       "      <g>\r\n",
       "       <use style=\"stroke:#000000;stroke-width:0.8;\" x=\"32.9625\" xlink:href=\"#m018968e77c\" y=\"10.5\"/>\r\n",
       "      </g>\r\n",
       "     </g>\r\n",
       "     <g id=\"text_9\">\r\n",
       "      <!-- 0 -->\r\n",
       "      <g transform=\"translate(21.271875 13.8)scale(0.1 -0.1)\">\r\n",
       "       <use xlink:href=\"#STFangsong-48\"/>\r\n",
       "      </g>\r\n",
       "     </g>\r\n",
       "    </g>\r\n",
       "    <g id=\"ytick_2\">\r\n",
       "     <g id=\"line2d_10\">\r\n",
       "      <g>\r\n",
       "       <use style=\"stroke:#000000;stroke-width:0.8;\" x=\"32.9625\" xlink:href=\"#m018968e77c\" y=\"53.728628\"/>\r\n",
       "      </g>\r\n",
       "     </g>\r\n",
       "     <g id=\"text_10\">\r\n",
       "      <!-- 200 -->\r\n",
       "      <g transform=\"translate(11.890625 57.028628)scale(0.1 -0.1)\">\r\n",
       "       <use xlink:href=\"#STFangsong-50\"/>\r\n",
       "       <use x=\"46.899994\" xlink:href=\"#STFangsong-48\"/>\r\n",
       "       <use x=\"93.799988\" xlink:href=\"#STFangsong-48\"/>\r\n",
       "      </g>\r\n",
       "     </g>\r\n",
       "    </g>\r\n",
       "    <g id=\"ytick_3\">\r\n",
       "     <g id=\"line2d_11\">\r\n",
       "      <g>\r\n",
       "       <use style=\"stroke:#000000;stroke-width:0.8;\" x=\"32.9625\" xlink:href=\"#m018968e77c\" y=\"96.957256\"/>\r\n",
       "      </g>\r\n",
       "     </g>\r\n",
       "     <g id=\"text_11\">\r\n",
       "      <!-- 400 -->\r\n",
       "      <g transform=\"translate(11.890625 100.257256)scale(0.1 -0.1)\">\r\n",
       "       <use xlink:href=\"#STFangsong-52\"/>\r\n",
       "       <use x=\"46.899994\" xlink:href=\"#STFangsong-48\"/>\r\n",
       "       <use x=\"93.799988\" xlink:href=\"#STFangsong-48\"/>\r\n",
       "      </g>\r\n",
       "     </g>\r\n",
       "    </g>\r\n",
       "    <g id=\"ytick_4\">\r\n",
       "     <g id=\"line2d_12\">\r\n",
       "      <g>\r\n",
       "       <use style=\"stroke:#000000;stroke-width:0.8;\" x=\"32.9625\" xlink:href=\"#m018968e77c\" y=\"140.185885\"/>\r\n",
       "      </g>\r\n",
       "     </g>\r\n",
       "     <g id=\"text_12\">\r\n",
       "      <!-- 600 -->\r\n",
       "      <g transform=\"translate(11.890625 143.485885)scale(0.1 -0.1)\">\r\n",
       "       <use xlink:href=\"#STFangsong-54\"/>\r\n",
       "       <use x=\"46.899994\" xlink:href=\"#STFangsong-48\"/>\r\n",
       "       <use x=\"93.799988\" xlink:href=\"#STFangsong-48\"/>\r\n",
       "      </g>\r\n",
       "     </g>\r\n",
       "    </g>\r\n",
       "    <g id=\"ytick_5\">\r\n",
       "     <g id=\"line2d_13\">\r\n",
       "      <g>\r\n",
       "       <use style=\"stroke:#000000;stroke-width:0.8;\" x=\"32.9625\" xlink:href=\"#m018968e77c\" y=\"183.414513\"/>\r\n",
       "      </g>\r\n",
       "     </g>\r\n",
       "     <g id=\"text_13\">\r\n",
       "      <!-- 800 -->\r\n",
       "      <g transform=\"translate(11.890625 186.714513)scale(0.1 -0.1)\">\r\n",
       "       <use xlink:href=\"#STFangsong-56\"/>\r\n",
       "       <use x=\"46.899994\" xlink:href=\"#STFangsong-48\"/>\r\n",
       "       <use x=\"93.799988\" xlink:href=\"#STFangsong-48\"/>\r\n",
       "      </g>\r\n",
       "     </g>\r\n",
       "    </g>\r\n",
       "    <g id=\"ytick_6\">\r\n",
       "     <g id=\"line2d_14\">\r\n",
       "      <g>\r\n",
       "       <use style=\"stroke:#000000;stroke-width:0.8;\" x=\"32.9625\" xlink:href=\"#m018968e77c\" y=\"226.643141\"/>\r\n",
       "      </g>\r\n",
       "     </g>\r\n",
       "     <g id=\"text_14\">\r\n",
       "      <!-- 1000 -->\r\n",
       "      <g transform=\"translate(7.2 229.943141)scale(0.1 -0.1)\">\r\n",
       "       <use xlink:href=\"#STFangsong-49\"/>\r\n",
       "       <use x=\"46.899994\" xlink:href=\"#STFangsong-48\"/>\r\n",
       "       <use x=\"93.799988\" xlink:href=\"#STFangsong-48\"/>\r\n",
       "       <use x=\"140.699982\" xlink:href=\"#STFangsong-48\"/>\r\n",
       "      </g>\r\n",
       "     </g>\r\n",
       "    </g>\r\n",
       "   </g>\r\n",
       "   <g id=\"patch_3\">\r\n",
       "    <path d=\"M 32.9625 227.831928 \r\n",
       "L 32.9625 10.391928 \r\n",
       "\" style=\"fill:none;stroke:#000000;stroke-linecap:square;stroke-linejoin:miter;stroke-width:0.8;\"/>\r\n",
       "   </g>\r\n",
       "   <g id=\"patch_4\">\r\n",
       "    <path d=\"M 344.208623 227.831928 \r\n",
       "L 344.208623 10.391928 \r\n",
       "\" style=\"fill:none;stroke:#000000;stroke-linecap:square;stroke-linejoin:miter;stroke-width:0.8;\"/>\r\n",
       "   </g>\r\n",
       "   <g id=\"patch_5\">\r\n",
       "    <path d=\"M 32.9625 227.831928 \r\n",
       "L 344.208623 227.831928 \r\n",
       "\" style=\"fill:none;stroke:#000000;stroke-linecap:square;stroke-linejoin:miter;stroke-width:0.8;\"/>\r\n",
       "   </g>\r\n",
       "   <g id=\"patch_6\">\r\n",
       "    <path d=\"M 32.9625 10.391928 \r\n",
       "L 344.208623 10.391928 \r\n",
       "\" style=\"fill:none;stroke:#000000;stroke-linecap:square;stroke-linejoin:miter;stroke-width:0.8;\"/>\r\n",
       "   </g>\r\n",
       "  </g>\r\n",
       " </g>\r\n",
       " <defs>\r\n",
       "  <clipPath id=\"p87d95c346f\">\r\n",
       "   <rect height=\"217.44\" width=\"311.246123\" x=\"32.9625\" y=\"10.391928\"/>\r\n",
       "  </clipPath>\r\n",
       " </defs>\r\n",
       "</svg>\r\n"
      ],
      "text/plain": [
       "<Figure size 432x288 with 1 Axes>"
      ]
     },
     "metadata": {
      "needs_background": "light"
     },
     "output_type": "display_data"
    }
   ],
   "source": [
    "# 垂直翻转\n",
    "plt.imshow(array13[::-1,:,:])"
   ]
  },
  {
   "cell_type": "code",
   "execution_count": 43,
   "id": "77fd60fb",
   "metadata": {},
   "outputs": [
    {
     "data": {
      "text/plain": [
       "<matplotlib.image.AxesImage at 0x2ef580f9e50>"
      ]
     },
     "execution_count": 43,
     "metadata": {},
     "output_type": "execute_result"
    },
    {
     "data": {
      "image/svg+xml": [
       "<?xml version=\"1.0\" encoding=\"utf-8\" standalone=\"no\"?>\r\n",
       "<!DOCTYPE svg PUBLIC \"-//W3C//DTD SVG 1.1//EN\"\r\n",
       "  \"http://www.w3.org/Graphics/SVG/1.1/DTD/svg11.dtd\">\r\n",
       "<!-- Created with matplotlib (https://matplotlib.org/) -->\r\n",
       "<svg height=\"251.129113pt\" version=\"1.1\" viewBox=\"0 0 289.151875 251.129113\" width=\"289.151875pt\" xmlns=\"http://www.w3.org/2000/svg\" xmlns:xlink=\"http://www.w3.org/1999/xlink\">\r\n",
       " <defs>\r\n",
       "  <style type=\"text/css\">\r\n",
       "*{stroke-linecap:butt;stroke-linejoin:round;}\r\n",
       "  </style>\r\n",
       " </defs>\r\n",
       " <g id=\"figure_1\">\r\n",
       "  <g id=\"patch_1\">\r\n",
       "   <path d=\"M 0 251.129113 \r\n",
       "L 289.151875 251.129113 \r\n",
       "L 289.151875 0 \r\n",
       "L 0 0 \r\n",
       "z\r\n",
       "\" style=\"fill:none;\"/>\r\n",
       "  </g>\r\n",
       "  <g id=\"axes_1\">\r\n",
       "   <g id=\"patch_2\">\r\n",
       "    <path d=\"M 28.271875 227.7588 \r\n",
       "L 281.951875 227.7588 \r\n",
       "L 281.951875 10.3188 \r\n",
       "L 28.271875 10.3188 \r\n",
       "z\r\n",
       "\" style=\"fill:#ffffff;\"/>\r\n",
       "   </g>\r\n",
       "   <g clip-path=\"url(#p5f6bae8faa)\">\r\n",
       "    <image height=\"218\" id=\"image4267162767\" transform=\"scale(1 -1)translate(0 -218)\" width=\"254\" x=\"28.271875\" xlink:href=\"data:image/png;base64,\r\n",
       "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\" y=\"-9.7588\"/>\r\n",
       "   </g>\r\n",
       "   <g id=\"matplotlib.axis_1\">\r\n",
       "    <g id=\"xtick_1\">\r\n",
       "     <g id=\"line2d_1\">\r\n",
       "      <defs>\r\n",
       "       <path d=\"M 0 0 \r\n",
       "L 0 3.5 \r\n",
       "\" id=\"m35340e39fb\" style=\"stroke:#000000;stroke-width:0.8;\"/>\r\n",
       "      </defs>\r\n",
       "      <g>\r\n",
       "       <use style=\"stroke:#000000;stroke-width:0.8;\" x=\"28.453075\" xlink:href=\"#m35340e39fb\" y=\"227.7588\"/>\r\n",
       "      </g>\r\n",
       "     </g>\r\n",
       "     <g id=\"text_1\">\r\n",
       "      <!-- 0 -->\r\n",
       "      <defs>\r\n",
       "       <path d=\"M 23.703125 63.5 \r\n",
       "Q 32 63.5 38.046875 54.140625 \r\n",
       "Q 44.09375 44.796875 44.09375 30.90625 \r\n",
       "Q 44.09375 17.09375 38.046875 7.75 \r\n",
       "Q 32 -1.59375 23.703125 -1.59375 \r\n",
       "Q 15.703125 -1.59375 9.5 7.65625 \r\n",
       "Q 3.296875 16.90625 3.296875 30.90625 \r\n",
       "Q 3.296875 44.796875 9.34375 54.140625 \r\n",
       "Q 15.40625 63.5 23.703125 63.5 \r\n",
       "z\r\n",
       "M 23.703125 0.703125 \r\n",
       "Q 31.09375 0.703125 33.9375 8.046875 \r\n",
       "Q 36.796875 15.40625 36.796875 30.90625 \r\n",
       "Q 36.796875 46.40625 33.9375 53.796875 \r\n",
       "Q 31.09375 61.203125 23.703125 61.203125 \r\n",
       "Q 16.296875 61.203125 13.4375 53.796875 \r\n",
       "Q 10.59375 46.40625 10.59375 30.90625 \r\n",
       "Q 10.59375 0.703125 23.703125 0.703125 \r\n",
       "z\r\n",
       "\" id=\"STFangsong-48\"/>\r\n",
       "      </defs>\r\n",
       "      <g transform=\"translate(26.107763 241.3588)scale(0.1 -0.1)\">\r\n",
       "       <use xlink:href=\"#STFangsong-48\"/>\r\n",
       "      </g>\r\n",
       "     </g>\r\n",
       "    </g>\r\n",
       "    <g id=\"xtick_2\">\r\n",
       "     <g id=\"line2d_2\">\r\n",
       "      <g>\r\n",
       "       <use style=\"stroke:#000000;stroke-width:0.8;\" x=\"64.693075\" xlink:href=\"#m35340e39fb\" y=\"227.7588\"/>\r\n",
       "      </g>\r\n",
       "     </g>\r\n",
       "     <g id=\"text_2\">\r\n",
       "      <!-- 100 -->\r\n",
       "      <defs>\r\n",
       "       <path d=\"M 35.5 -0.296875 \r\n",
       "Q 30.296875 0 23.796875 0 \r\n",
       "Q 17.296875 0 12.09375 -0.296875 \r\n",
       "L 12.09375 1.296875 \r\n",
       "L 17.296875 2.203125 \r\n",
       "Q 20.796875 2.90625 20.796875 6.09375 \r\n",
       "L 20.796875 55.5 \r\n",
       "L 8.90625 47.796875 \r\n",
       "L 7.5 49.703125 \r\n",
       "Q 14.40625 54.203125 24.09375 63.5 \r\n",
       "L 27.40625 63.5 \r\n",
       "L 27.40625 6.09375 \r\n",
       "Q 27.40625 2.703125 30.90625 2.09375 \r\n",
       "L 35.5 1.296875 \r\n",
       "z\r\n",
       "\" id=\"STFangsong-49\"/>\r\n",
       "      </defs>\r\n",
       "      <g transform=\"translate(57.657138 241.3588)scale(0.1 -0.1)\">\r\n",
       "       <use xlink:href=\"#STFangsong-49\"/>\r\n",
       "       <use x=\"46.899994\" xlink:href=\"#STFangsong-48\"/>\r\n",
       "       <use x=\"93.799988\" xlink:href=\"#STFangsong-48\"/>\r\n",
       "      </g>\r\n",
       "     </g>\r\n",
       "    </g>\r\n",
       "    <g id=\"xtick_3\">\r\n",
       "     <g id=\"line2d_3\">\r\n",
       "      <g>\r\n",
       "       <use style=\"stroke:#000000;stroke-width:0.8;\" x=\"100.933075\" xlink:href=\"#m35340e39fb\" y=\"227.7588\"/>\r\n",
       "      </g>\r\n",
       "     </g>\r\n",
       "     <g id=\"text_3\">\r\n",
       "      <!-- 200 -->\r\n",
       "      <defs>\r\n",
       "       <path d=\"M 42.59375 -0.296875 \r\n",
       "Q 35.40625 0 22.203125 0 \r\n",
       "Q 9.296875 0 2.203125 -0.296875 \r\n",
       "Q 4.09375 3.59375 7 7.09375 \r\n",
       "Q 9.90625 10.59375 16.296875 17 \r\n",
       "Q 25.59375 26.296875 29.890625 32.84375 \r\n",
       "Q 34.203125 39.40625 34.203125 46.09375 \r\n",
       "Q 34.203125 51.59375 30.75 55 \r\n",
       "Q 27.296875 58.40625 22.203125 58.40625 \r\n",
       "Q 17.203125 58.40625 13.09375 54.953125 \r\n",
       "Q 9 51.5 7.40625 45.203125 \r\n",
       "L 5.09375 45.59375 \r\n",
       "Q 6.703125 54.09375 11.796875 58.796875 \r\n",
       "Q 16.90625 63.5 24.203125 63.5 \r\n",
       "Q 31.5 63.5 36.59375 58.640625 \r\n",
       "Q 41.703125 53.796875 41.703125 47 \r\n",
       "Q 41.703125 40.203125 36.953125 34.25 \r\n",
       "Q 32.203125 28.296875 22.59375 19.40625 \r\n",
       "Q 17.5 14.703125 9.90625 5.296875 \r\n",
       "L 33.40625 5.296875 \r\n",
       "Q 37.203125 5.296875 38.75 6.640625 \r\n",
       "Q 40.296875 8 42 12.5 \r\n",
       "L 44.09375 12.5 \r\n",
       "z\r\n",
       "\" id=\"STFangsong-50\"/>\r\n",
       "      </defs>\r\n",
       "      <g transform=\"translate(93.897138 241.3588)scale(0.1 -0.1)\">\r\n",
       "       <use xlink:href=\"#STFangsong-50\"/>\r\n",
       "       <use x=\"46.899994\" xlink:href=\"#STFangsong-48\"/>\r\n",
       "       <use x=\"93.799988\" xlink:href=\"#STFangsong-48\"/>\r\n",
       "      </g>\r\n",
       "     </g>\r\n",
       "    </g>\r\n",
       "    <g id=\"xtick_4\">\r\n",
       "     <g id=\"line2d_4\">\r\n",
       "      <g>\r\n",
       "       <use style=\"stroke:#000000;stroke-width:0.8;\" x=\"137.173075\" xlink:href=\"#m35340e39fb\" y=\"227.7588\"/>\r\n",
       "      </g>\r\n",
       "     </g>\r\n",
       "     <g id=\"text_4\">\r\n",
       "      <!-- 300 -->\r\n",
       "      <defs>\r\n",
       "       <path d=\"M 9.40625 48.90625 \r\n",
       "L 7.59375 49.90625 \r\n",
       "Q 10.5 56.796875 14.59375 60.140625 \r\n",
       "Q 18.703125 63.5 24.90625 63.5 \r\n",
       "Q 30.5 63.5 34.296875 60.296875 \r\n",
       "Q 38.09375 57.09375 38.09375 53.203125 \r\n",
       "Q 38.09375 49.296875 35.4375 45.796875 \r\n",
       "Q 32.796875 42.296875 27.203125 38.09375 \r\n",
       "Q 34.5 38.59375 38.890625 33.796875 \r\n",
       "Q 43.296875 29 43.296875 21.5 \r\n",
       "Q 43.296875 11.796875 36.390625 5.09375 \r\n",
       "Q 29.5 -1.59375 18.796875 -1.59375 \r\n",
       "Q 11.90625 -1.59375 8.296875 0.046875 \r\n",
       "Q 4.703125 1.703125 4.703125 3.90625 \r\n",
       "Q 4.703125 4.90625 5.640625 5.75 \r\n",
       "Q 6.59375 6.59375 7.703125 6.59375 \r\n",
       "Q 9.40625 6.59375 11.59375 4.796875 \r\n",
       "Q 17.203125 0.59375 21.09375 0.59375 \r\n",
       "Q 27.203125 0.59375 31.84375 5.890625 \r\n",
       "Q 36.5 11.203125 36.5 18.796875 \r\n",
       "Q 36.5 25.203125 33.34375 29.34375 \r\n",
       "Q 30.203125 33.5 25.40625 33.5 \r\n",
       "Q 21.703125 33.5 17.796875 30.09375 \r\n",
       "L 16.703125 32 \r\n",
       "Q 18.703125 33.796875 21.09375 35.59375 \r\n",
       "Q 32.09375 43.703125 32.09375 49.296875 \r\n",
       "Q 32.09375 53.40625 29.34375 55.90625 \r\n",
       "Q 26.59375 58.40625 22.5 58.40625 \r\n",
       "Q 18.5 58.40625 14.953125 55.953125 \r\n",
       "Q 11.40625 53.5 9.40625 48.90625 \r\n",
       "z\r\n",
       "\" id=\"STFangsong-51\"/>\r\n",
       "      </defs>\r\n",
       "      <g transform=\"translate(130.137138 241.3588)scale(0.1 -0.1)\">\r\n",
       "       <use xlink:href=\"#STFangsong-51\"/>\r\n",
       "       <use x=\"46.899994\" xlink:href=\"#STFangsong-48\"/>\r\n",
       "       <use x=\"93.799988\" xlink:href=\"#STFangsong-48\"/>\r\n",
       "      </g>\r\n",
       "     </g>\r\n",
       "    </g>\r\n",
       "    <g id=\"xtick_5\">\r\n",
       "     <g id=\"line2d_5\">\r\n",
       "      <g>\r\n",
       "       <use style=\"stroke:#000000;stroke-width:0.8;\" x=\"173.413075\" xlink:href=\"#m35340e39fb\" y=\"227.7588\"/>\r\n",
       "      </g>\r\n",
       "     </g>\r\n",
       "     <g id=\"text_5\">\r\n",
       "      <!-- 400 -->\r\n",
       "      <defs>\r\n",
       "       <path d=\"M 32.59375 63.5 \r\n",
       "L 35 63.5 \r\n",
       "L 35 22 \r\n",
       "L 45.59375 22 \r\n",
       "L 45.59375 17.40625 \r\n",
       "L 35 17.40625 \r\n",
       "L 35 -1.59375 \r\n",
       "L 28.40625 -1.59375 \r\n",
       "L 28.40625 17.40625 \r\n",
       "L 2.796875 17.40625 \r\n",
       "L 2.796875 20.703125 \r\n",
       "L 14.703125 38.09375 \r\n",
       "z\r\n",
       "M 28.40625 22 \r\n",
       "L 28.40625 52.703125 \r\n",
       "Q 14.796875 33.796875 7.59375 22 \r\n",
       "z\r\n",
       "\" id=\"STFangsong-52\"/>\r\n",
       "      </defs>\r\n",
       "      <g transform=\"translate(166.377138 241.3588)scale(0.1 -0.1)\">\r\n",
       "       <use xlink:href=\"#STFangsong-52\"/>\r\n",
       "       <use x=\"46.899994\" xlink:href=\"#STFangsong-48\"/>\r\n",
       "       <use x=\"93.799988\" xlink:href=\"#STFangsong-48\"/>\r\n",
       "      </g>\r\n",
       "     </g>\r\n",
       "    </g>\r\n",
       "    <g id=\"xtick_6\">\r\n",
       "     <g id=\"line2d_6\">\r\n",
       "      <g>\r\n",
       "       <use style=\"stroke:#000000;stroke-width:0.8;\" x=\"209.653075\" xlink:href=\"#m35340e39fb\" y=\"227.7588\"/>\r\n",
       "      </g>\r\n",
       "     </g>\r\n",
       "     <g id=\"text_6\">\r\n",
       "      <!-- 500 -->\r\n",
       "      <defs>\r\n",
       "       <path d=\"M 38 56.59375 \r\n",
       "L 24 56.59375 \r\n",
       "Q 16.203125 56.59375 15.40625 56.296875 \r\n",
       "L 14.09375 38 \r\n",
       "Q 18.5 40.09375 23.09375 40.09375 \r\n",
       "Q 31.296875 40.09375 37 34.5 \r\n",
       "Q 42.703125 28.90625 42.703125 19.90625 \r\n",
       "Q 42.703125 9.90625 35.640625 4.15625 \r\n",
       "Q 28.59375 -1.59375 19.59375 -1.59375 \r\n",
       "Q 14.59375 -1.59375 10.390625 0.15625 \r\n",
       "Q 6.203125 1.90625 6.203125 4 \r\n",
       "Q 6.203125 5 7.09375 6.046875 \r\n",
       "Q 8 7.09375 9.59375 7.09375 \r\n",
       "Q 10.703125 7.09375 11.40625 6.59375 \r\n",
       "Q 18.40625 1.296875 22.703125 1.296875 \r\n",
       "Q 28.296875 1.296875 32.59375 6.140625 \r\n",
       "Q 36.90625 11 36.90625 17.59375 \r\n",
       "Q 36.90625 24.59375 32.546875 29.25 \r\n",
       "Q 28.203125 33.90625 21.796875 33.90625 \r\n",
       "Q 19 33.90625 16.546875 33 \r\n",
       "Q 14.09375 32.09375 13 30.5 \r\n",
       "L 11.296875 30.5 \r\n",
       "L 13.203125 62.5 \r\n",
       "L 24.09375 62.5 \r\n",
       "Q 31.59375 62.5 34 62.703125 \r\n",
       "Q 36.40625 62.90625 37.40625 64.203125 \r\n",
       "L 38.90625 64.203125 \r\n",
       "z\r\n",
       "\" id=\"STFangsong-53\"/>\r\n",
       "      </defs>\r\n",
       "      <g transform=\"translate(202.617138 241.3588)scale(0.1 -0.1)\">\r\n",
       "       <use xlink:href=\"#STFangsong-53\"/>\r\n",
       "       <use x=\"46.899994\" xlink:href=\"#STFangsong-48\"/>\r\n",
       "       <use x=\"93.799988\" xlink:href=\"#STFangsong-48\"/>\r\n",
       "      </g>\r\n",
       "     </g>\r\n",
       "    </g>\r\n",
       "    <g id=\"xtick_7\">\r\n",
       "     <g id=\"line2d_7\">\r\n",
       "      <g>\r\n",
       "       <use style=\"stroke:#000000;stroke-width:0.8;\" x=\"245.893075\" xlink:href=\"#m35340e39fb\" y=\"227.7588\"/>\r\n",
       "      </g>\r\n",
       "     </g>\r\n",
       "     <g id=\"text_7\">\r\n",
       "      <!-- 600 -->\r\n",
       "      <defs>\r\n",
       "       <path d=\"M 38.40625 63.796875 \r\n",
       "L 39.203125 61.90625 \r\n",
       "Q 26.703125 57.203125 19.25 45.84375 \r\n",
       "Q 11.796875 34.5 11.796875 21.5 \r\n",
       "Q 11.796875 12.90625 15.390625 6.75 \r\n",
       "Q 19 0.59375 24.203125 0.59375 \r\n",
       "Q 35.40625 0.59375 35.40625 18.40625 \r\n",
       "Q 35.40625 25.90625 32.5 30.09375 \r\n",
       "Q 29.59375 34.296875 25.203125 34.296875 \r\n",
       "Q 23.5 34.296875 21.90625 33.59375 \r\n",
       "L 20.796875 35.203125 \r\n",
       "Q 24 36.59375 27.296875 36.59375 \r\n",
       "Q 33.90625 36.59375 38.25 31.59375 \r\n",
       "Q 42.59375 26.59375 42.59375 17.90625 \r\n",
       "Q 42.59375 9.59375 37.4375 4 \r\n",
       "Q 32.296875 -1.59375 24.09375 -1.59375 \r\n",
       "Q 15.59375 -1.59375 10.25 5.046875 \r\n",
       "Q 4.90625 11.703125 4.90625 23.09375 \r\n",
       "Q 4.90625 36.90625 13.953125 48.25 \r\n",
       "Q 23 59.59375 38.40625 63.796875 \r\n",
       "z\r\n",
       "\" id=\"STFangsong-54\"/>\r\n",
       "      </defs>\r\n",
       "      <g transform=\"translate(238.857138 241.3588)scale(0.1 -0.1)\">\r\n",
       "       <use xlink:href=\"#STFangsong-54\"/>\r\n",
       "       <use x=\"46.899994\" xlink:href=\"#STFangsong-48\"/>\r\n",
       "       <use x=\"93.799988\" xlink:href=\"#STFangsong-48\"/>\r\n",
       "      </g>\r\n",
       "     </g>\r\n",
       "    </g>\r\n",
       "   </g>\r\n",
       "   <g id=\"matplotlib.axis_2\">\r\n",
       "    <g id=\"ytick_1\">\r\n",
       "     <g id=\"line2d_8\">\r\n",
       "      <defs>\r\n",
       "       <path d=\"M 0 0 \r\n",
       "L -3.5 0 \r\n",
       "\" id=\"me75cf9bbe5\" style=\"stroke:#000000;stroke-width:0.8;\"/>\r\n",
       "      </defs>\r\n",
       "      <g>\r\n",
       "       <use style=\"stroke:#000000;stroke-width:0.8;\" x=\"28.271875\" xlink:href=\"#me75cf9bbe5\" y=\"10.5\"/>\r\n",
       "      </g>\r\n",
       "     </g>\r\n",
       "     <g id=\"text_8\">\r\n",
       "      <!-- 0 -->\r\n",
       "      <g transform=\"translate(16.58125 13.8)scale(0.1 -0.1)\">\r\n",
       "       <use xlink:href=\"#STFangsong-48\"/>\r\n",
       "      </g>\r\n",
       "     </g>\r\n",
       "    </g>\r\n",
       "    <g id=\"ytick_2\">\r\n",
       "     <g id=\"line2d_9\">\r\n",
       "      <g>\r\n",
       "       <use style=\"stroke:#000000;stroke-width:0.8;\" x=\"28.271875\" xlink:href=\"#me75cf9bbe5\" y=\"46.74\"/>\r\n",
       "      </g>\r\n",
       "     </g>\r\n",
       "     <g id=\"text_9\">\r\n",
       "      <!-- 100 -->\r\n",
       "      <g transform=\"translate(7.2 50.04)scale(0.1 -0.1)\">\r\n",
       "       <use xlink:href=\"#STFangsong-49\"/>\r\n",
       "       <use x=\"46.899994\" xlink:href=\"#STFangsong-48\"/>\r\n",
       "       <use x=\"93.799988\" xlink:href=\"#STFangsong-48\"/>\r\n",
       "      </g>\r\n",
       "     </g>\r\n",
       "    </g>\r\n",
       "    <g id=\"ytick_3\">\r\n",
       "     <g id=\"line2d_10\">\r\n",
       "      <g>\r\n",
       "       <use style=\"stroke:#000000;stroke-width:0.8;\" x=\"28.271875\" xlink:href=\"#me75cf9bbe5\" y=\"82.98\"/>\r\n",
       "      </g>\r\n",
       "     </g>\r\n",
       "     <g id=\"text_10\">\r\n",
       "      <!-- 200 -->\r\n",
       "      <g transform=\"translate(7.2 86.28)scale(0.1 -0.1)\">\r\n",
       "       <use xlink:href=\"#STFangsong-50\"/>\r\n",
       "       <use x=\"46.899994\" xlink:href=\"#STFangsong-48\"/>\r\n",
       "       <use x=\"93.799988\" xlink:href=\"#STFangsong-48\"/>\r\n",
       "      </g>\r\n",
       "     </g>\r\n",
       "    </g>\r\n",
       "    <g id=\"ytick_4\">\r\n",
       "     <g id=\"line2d_11\">\r\n",
       "      <g>\r\n",
       "       <use style=\"stroke:#000000;stroke-width:0.8;\" x=\"28.271875\" xlink:href=\"#me75cf9bbe5\" y=\"119.22\"/>\r\n",
       "      </g>\r\n",
       "     </g>\r\n",
       "     <g id=\"text_11\">\r\n",
       "      <!-- 300 -->\r\n",
       "      <g transform=\"translate(7.2 122.52)scale(0.1 -0.1)\">\r\n",
       "       <use xlink:href=\"#STFangsong-51\"/>\r\n",
       "       <use x=\"46.899994\" xlink:href=\"#STFangsong-48\"/>\r\n",
       "       <use x=\"93.799988\" xlink:href=\"#STFangsong-48\"/>\r\n",
       "      </g>\r\n",
       "     </g>\r\n",
       "    </g>\r\n",
       "    <g id=\"ytick_5\">\r\n",
       "     <g id=\"line2d_12\">\r\n",
       "      <g>\r\n",
       "       <use style=\"stroke:#000000;stroke-width:0.8;\" x=\"28.271875\" xlink:href=\"#me75cf9bbe5\" y=\"155.46\"/>\r\n",
       "      </g>\r\n",
       "     </g>\r\n",
       "     <g id=\"text_12\">\r\n",
       "      <!-- 400 -->\r\n",
       "      <g transform=\"translate(7.2 158.76)scale(0.1 -0.1)\">\r\n",
       "       <use xlink:href=\"#STFangsong-52\"/>\r\n",
       "       <use x=\"46.899994\" xlink:href=\"#STFangsong-48\"/>\r\n",
       "       <use x=\"93.799988\" xlink:href=\"#STFangsong-48\"/>\r\n",
       "      </g>\r\n",
       "     </g>\r\n",
       "    </g>\r\n",
       "    <g id=\"ytick_6\">\r\n",
       "     <g id=\"line2d_13\">\r\n",
       "      <g>\r\n",
       "       <use style=\"stroke:#000000;stroke-width:0.8;\" x=\"28.271875\" xlink:href=\"#me75cf9bbe5\" y=\"191.7\"/>\r\n",
       "      </g>\r\n",
       "     </g>\r\n",
       "     <g id=\"text_13\">\r\n",
       "      <!-- 500 -->\r\n",
       "      <g transform=\"translate(7.2 195)scale(0.1 -0.1)\">\r\n",
       "       <use xlink:href=\"#STFangsong-53\"/>\r\n",
       "       <use x=\"46.899994\" xlink:href=\"#STFangsong-48\"/>\r\n",
       "       <use x=\"93.799988\" xlink:href=\"#STFangsong-48\"/>\r\n",
       "      </g>\r\n",
       "     </g>\r\n",
       "    </g>\r\n",
       "   </g>\r\n",
       "   <g id=\"patch_3\">\r\n",
       "    <path d=\"M 28.271875 227.7588 \r\n",
       "L 28.271875 10.3188 \r\n",
       "\" style=\"fill:none;stroke:#000000;stroke-linecap:square;stroke-linejoin:miter;stroke-width:0.8;\"/>\r\n",
       "   </g>\r\n",
       "   <g id=\"patch_4\">\r\n",
       "    <path d=\"M 281.951875 227.7588 \r\n",
       "L 281.951875 10.3188 \r\n",
       "\" style=\"fill:none;stroke:#000000;stroke-linecap:square;stroke-linejoin:miter;stroke-width:0.8;\"/>\r\n",
       "   </g>\r\n",
       "   <g id=\"patch_5\">\r\n",
       "    <path d=\"M 28.271875 227.7588 \r\n",
       "L 281.951875 227.7588 \r\n",
       "\" style=\"fill:none;stroke:#000000;stroke-linecap:square;stroke-linejoin:miter;stroke-width:0.8;\"/>\r\n",
       "   </g>\r\n",
       "   <g id=\"patch_6\">\r\n",
       "    <path d=\"M 28.271875 10.3188 \r\n",
       "L 281.951875 10.3188 \r\n",
       "\" style=\"fill:none;stroke:#000000;stroke-linecap:square;stroke-linejoin:miter;stroke-width:0.8;\"/>\r\n",
       "   </g>\r\n",
       "  </g>\r\n",
       " </g>\r\n",
       " <defs>\r\n",
       "  <clipPath id=\"p5f6bae8faa\">\r\n",
       "   <rect height=\"217.44\" width=\"253.68\" x=\"28.271875\" y=\"10.3188\"/>\r\n",
       "  </clipPath>\r\n",
       " </defs>\r\n",
       "</svg>\r\n"
      ],
      "text/plain": [
       "<Figure size 432x288 with 1 Axes>"
      ]
     },
     "metadata": {
      "needs_background": "light"
     },
     "output_type": "display_data"
    }
   ],
   "source": [
    "# 抠图\n",
    "plt.imshow(array13[:600,400:1100,:])"
   ]
  },
  {
   "cell_type": "code",
   "execution_count": 44,
   "id": "27a03322",
   "metadata": {},
   "outputs": [
    {
     "data": {
      "text/plain": [
       "<matplotlib.image.AxesImage at 0x2ef5828ee80>"
      ]
     },
     "execution_count": 44,
     "metadata": {},
     "output_type": "execute_result"
    },
    {
     "data": {
      "image/svg+xml": [
       "<?xml version=\"1.0\" encoding=\"utf-8\" standalone=\"no\"?>\r\n",
       "<!DOCTYPE svg PUBLIC \"-//W3C//DTD SVG 1.1//EN\"\r\n",
       "  \"http://www.w3.org/Graphics/SVG/1.1/DTD/svg11.dtd\">\r\n",
       "<!-- Created with matplotlib (https://matplotlib.org/) -->\r\n",
       "<svg height=\"251.202241pt\" version=\"1.1\" viewBox=\"0 0 352.252219 251.202241\" width=\"352.252219pt\" xmlns=\"http://www.w3.org/2000/svg\" xmlns:xlink=\"http://www.w3.org/1999/xlink\">\r\n",
       " <defs>\r\n",
       "  <style type=\"text/css\">\r\n",
       "*{stroke-linecap:butt;stroke-linejoin:round;}\r\n",
       "  </style>\r\n",
       " </defs>\r\n",
       " <g id=\"figure_1\">\r\n",
       "  <g id=\"patch_1\">\r\n",
       "   <path d=\"M 0 251.202241 \r\n",
       "L 352.252219 251.202241 \r\n",
       "L 352.252219 0 \r\n",
       "L 0 0 \r\n",
       "z\r\n",
       "\" style=\"fill:none;\"/>\r\n",
       "  </g>\r\n",
       "  <g id=\"axes_1\">\r\n",
       "   <g id=\"patch_2\">\r\n",
       "    <path d=\"M 32.9625 227.831928 \r\n",
       "L 344.208623 227.831928 \r\n",
       "L 344.208623 10.391928 \r\n",
       "L 32.9625 10.391928 \r\n",
       "z\r\n",
       "\" style=\"fill:#ffffff;\"/>\r\n",
       "   </g>\r\n",
       "   <g clip-path=\"url(#pab2d8c9950)\">\r\n",
       "    <image height=\"218\" id=\"image025abcb5f4\" transform=\"scale(1 -1)translate(0 -218)\" width=\"312\" x=\"32.9625\" xlink:href=\"data:image/png;base64,\r\n",
       "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\" y=\"-9.831928\"/>\r\n",
       "   </g>\r\n",
       "   <g id=\"matplotlib.axis_1\">\r\n",
       "    <g id=\"xtick_1\">\r\n",
       "     <g id=\"line2d_1\">\r\n",
       "      <defs>\r\n",
       "       <path d=\"M 0 0 \r\n",
       "L 0 3.5 \r\n",
       "\" id=\"mb3231d8c31\" style=\"stroke:#000000;stroke-width:0.8;\"/>\r\n",
       "      </defs>\r\n",
       "      <g>\r\n",
       "       <use style=\"stroke:#000000;stroke-width:0.8;\" x=\"33.070572\" xlink:href=\"#mb3231d8c31\" y=\"227.831928\"/>\r\n",
       "      </g>\r\n",
       "     </g>\r\n",
       "     <g id=\"text_1\">\r\n",
       "      <!-- 0 -->\r\n",
       "      <defs>\r\n",
       "       <path d=\"M 23.703125 63.5 \r\n",
       "Q 32 63.5 38.046875 54.140625 \r\n",
       "Q 44.09375 44.796875 44.09375 30.90625 \r\n",
       "Q 44.09375 17.09375 38.046875 7.75 \r\n",
       "Q 32 -1.59375 23.703125 -1.59375 \r\n",
       "Q 15.703125 -1.59375 9.5 7.65625 \r\n",
       "Q 3.296875 16.90625 3.296875 30.90625 \r\n",
       "Q 3.296875 44.796875 9.34375 54.140625 \r\n",
       "Q 15.40625 63.5 23.703125 63.5 \r\n",
       "z\r\n",
       "M 23.703125 0.703125 \r\n",
       "Q 31.09375 0.703125 33.9375 8.046875 \r\n",
       "Q 36.796875 15.40625 36.796875 30.90625 \r\n",
       "Q 36.796875 46.40625 33.9375 53.796875 \r\n",
       "Q 31.09375 61.203125 23.703125 61.203125 \r\n",
       "Q 16.296875 61.203125 13.4375 53.796875 \r\n",
       "Q 10.59375 46.40625 10.59375 30.90625 \r\n",
       "Q 10.59375 0.703125 23.703125 0.703125 \r\n",
       "z\r\n",
       "\" id=\"STFangsong-48\"/>\r\n",
       "      </defs>\r\n",
       "      <g transform=\"translate(30.725259 241.431928)scale(0.1 -0.1)\">\r\n",
       "       <use xlink:href=\"#STFangsong-48\"/>\r\n",
       "      </g>\r\n",
       "     </g>\r\n",
       "    </g>\r\n",
       "    <g id=\"xtick_2\">\r\n",
       "     <g id=\"line2d_2\">\r\n",
       "      <g>\r\n",
       "       <use style=\"stroke:#000000;stroke-width:0.8;\" x=\"76.2992\" xlink:href=\"#mb3231d8c31\" y=\"227.831928\"/>\r\n",
       "      </g>\r\n",
       "     </g>\r\n",
       "     <g id=\"text_2\">\r\n",
       "      <!-- 200 -->\r\n",
       "      <defs>\r\n",
       "       <path d=\"M 42.59375 -0.296875 \r\n",
       "Q 35.40625 0 22.203125 0 \r\n",
       "Q 9.296875 0 2.203125 -0.296875 \r\n",
       "Q 4.09375 3.59375 7 7.09375 \r\n",
       "Q 9.90625 10.59375 16.296875 17 \r\n",
       "Q 25.59375 26.296875 29.890625 32.84375 \r\n",
       "Q 34.203125 39.40625 34.203125 46.09375 \r\n",
       "Q 34.203125 51.59375 30.75 55 \r\n",
       "Q 27.296875 58.40625 22.203125 58.40625 \r\n",
       "Q 17.203125 58.40625 13.09375 54.953125 \r\n",
       "Q 9 51.5 7.40625 45.203125 \r\n",
       "L 5.09375 45.59375 \r\n",
       "Q 6.703125 54.09375 11.796875 58.796875 \r\n",
       "Q 16.90625 63.5 24.203125 63.5 \r\n",
       "Q 31.5 63.5 36.59375 58.640625 \r\n",
       "Q 41.703125 53.796875 41.703125 47 \r\n",
       "Q 41.703125 40.203125 36.953125 34.25 \r\n",
       "Q 32.203125 28.296875 22.59375 19.40625 \r\n",
       "Q 17.5 14.703125 9.90625 5.296875 \r\n",
       "L 33.40625 5.296875 \r\n",
       "Q 37.203125 5.296875 38.75 6.640625 \r\n",
       "Q 40.296875 8 42 12.5 \r\n",
       "L 44.09375 12.5 \r\n",
       "z\r\n",
       "\" id=\"STFangsong-50\"/>\r\n",
       "      </defs>\r\n",
       "      <g transform=\"translate(69.263262 241.431928)scale(0.1 -0.1)\">\r\n",
       "       <use xlink:href=\"#STFangsong-50\"/>\r\n",
       "       <use x=\"46.899994\" xlink:href=\"#STFangsong-48\"/>\r\n",
       "       <use x=\"93.799988\" xlink:href=\"#STFangsong-48\"/>\r\n",
       "      </g>\r\n",
       "     </g>\r\n",
       "    </g>\r\n",
       "    <g id=\"xtick_3\">\r\n",
       "     <g id=\"line2d_3\">\r\n",
       "      <g>\r\n",
       "       <use style=\"stroke:#000000;stroke-width:0.8;\" x=\"119.527828\" xlink:href=\"#mb3231d8c31\" y=\"227.831928\"/>\r\n",
       "      </g>\r\n",
       "     </g>\r\n",
       "     <g id=\"text_3\">\r\n",
       "      <!-- 400 -->\r\n",
       "      <defs>\r\n",
       "       <path d=\"M 32.59375 63.5 \r\n",
       "L 35 63.5 \r\n",
       "L 35 22 \r\n",
       "L 45.59375 22 \r\n",
       "L 45.59375 17.40625 \r\n",
       "L 35 17.40625 \r\n",
       "L 35 -1.59375 \r\n",
       "L 28.40625 -1.59375 \r\n",
       "L 28.40625 17.40625 \r\n",
       "L 2.796875 17.40625 \r\n",
       "L 2.796875 20.703125 \r\n",
       "L 14.703125 38.09375 \r\n",
       "z\r\n",
       "M 28.40625 22 \r\n",
       "L 28.40625 52.703125 \r\n",
       "Q 14.796875 33.796875 7.59375 22 \r\n",
       "z\r\n",
       "\" id=\"STFangsong-52\"/>\r\n",
       "      </defs>\r\n",
       "      <g transform=\"translate(112.491891 241.431928)scale(0.1 -0.1)\">\r\n",
       "       <use xlink:href=\"#STFangsong-52\"/>\r\n",
       "       <use x=\"46.899994\" xlink:href=\"#STFangsong-48\"/>\r\n",
       "       <use x=\"93.799988\" xlink:href=\"#STFangsong-48\"/>\r\n",
       "      </g>\r\n",
       "     </g>\r\n",
       "    </g>\r\n",
       "    <g id=\"xtick_4\">\r\n",
       "     <g id=\"line2d_4\">\r\n",
       "      <g>\r\n",
       "       <use style=\"stroke:#000000;stroke-width:0.8;\" x=\"162.756456\" xlink:href=\"#mb3231d8c31\" y=\"227.831928\"/>\r\n",
       "      </g>\r\n",
       "     </g>\r\n",
       "     <g id=\"text_4\">\r\n",
       "      <!-- 600 -->\r\n",
       "      <defs>\r\n",
       "       <path d=\"M 38.40625 63.796875 \r\n",
       "L 39.203125 61.90625 \r\n",
       "Q 26.703125 57.203125 19.25 45.84375 \r\n",
       "Q 11.796875 34.5 11.796875 21.5 \r\n",
       "Q 11.796875 12.90625 15.390625 6.75 \r\n",
       "Q 19 0.59375 24.203125 0.59375 \r\n",
       "Q 35.40625 0.59375 35.40625 18.40625 \r\n",
       "Q 35.40625 25.90625 32.5 30.09375 \r\n",
       "Q 29.59375 34.296875 25.203125 34.296875 \r\n",
       "Q 23.5 34.296875 21.90625 33.59375 \r\n",
       "L 20.796875 35.203125 \r\n",
       "Q 24 36.59375 27.296875 36.59375 \r\n",
       "Q 33.90625 36.59375 38.25 31.59375 \r\n",
       "Q 42.59375 26.59375 42.59375 17.90625 \r\n",
       "Q 42.59375 9.59375 37.4375 4 \r\n",
       "Q 32.296875 -1.59375 24.09375 -1.59375 \r\n",
       "Q 15.59375 -1.59375 10.25 5.046875 \r\n",
       "Q 4.90625 11.703125 4.90625 23.09375 \r\n",
       "Q 4.90625 36.90625 13.953125 48.25 \r\n",
       "Q 23 59.59375 38.40625 63.796875 \r\n",
       "z\r\n",
       "\" id=\"STFangsong-54\"/>\r\n",
       "      </defs>\r\n",
       "      <g transform=\"translate(155.720519 241.431928)scale(0.1 -0.1)\">\r\n",
       "       <use xlink:href=\"#STFangsong-54\"/>\r\n",
       "       <use x=\"46.899994\" xlink:href=\"#STFangsong-48\"/>\r\n",
       "       <use x=\"93.799988\" xlink:href=\"#STFangsong-48\"/>\r\n",
       "      </g>\r\n",
       "     </g>\r\n",
       "    </g>\r\n",
       "    <g id=\"xtick_5\">\r\n",
       "     <g id=\"line2d_5\">\r\n",
       "      <g>\r\n",
       "       <use style=\"stroke:#000000;stroke-width:0.8;\" x=\"205.985084\" xlink:href=\"#mb3231d8c31\" y=\"227.831928\"/>\r\n",
       "      </g>\r\n",
       "     </g>\r\n",
       "     <g id=\"text_5\">\r\n",
       "      <!-- 800 -->\r\n",
       "      <defs>\r\n",
       "       <path d=\"M 19.796875 31.203125 \r\n",
       "Q 7.703125 37.203125 7.703125 47.5 \r\n",
       "Q 7.703125 53.703125 12.640625 58.59375 \r\n",
       "Q 17.59375 63.5 24.296875 63.5 \r\n",
       "Q 31.90625 63.5 36.59375 59.390625 \r\n",
       "Q 41.296875 55.296875 41.296875 49.09375 \r\n",
       "Q 41.296875 43.703125 38.296875 40.390625 \r\n",
       "Q 35.296875 37.09375 29.703125 34.296875 \r\n",
       "Q 38.90625 29.90625 41.5 25.40625 \r\n",
       "Q 44.09375 20.90625 44.09375 16.40625 \r\n",
       "Q 44.09375 9.09375 38.640625 3.75 \r\n",
       "Q 33.203125 -1.59375 25.09375 -1.59375 \r\n",
       "Q 16.703125 -1.59375 11.703125 3.046875 \r\n",
       "Q 6.703125 7.703125 6.703125 14.796875 \r\n",
       "Q 6.703125 19.09375 8.703125 23.25 \r\n",
       "Q 10.703125 27.40625 19.796875 31.203125 \r\n",
       "z\r\n",
       "M 27.5 35.5 \r\n",
       "Q 31.59375 37.40625 33.796875 41.046875 \r\n",
       "Q 36 44.703125 36 49 \r\n",
       "Q 36 54.296875 32.953125 57.75 \r\n",
       "Q 29.90625 61.203125 24.5 61.203125 \r\n",
       "Q 19.59375 61.203125 16.5 57.84375 \r\n",
       "Q 13.40625 54.5 13.40625 49.59375 \r\n",
       "Q 13.40625 47.09375 14.296875 44.6875 \r\n",
       "Q 15.203125 42.296875 19.25 39.5 \r\n",
       "Q 23.296875 36.703125 27.5 35.5 \r\n",
       "z\r\n",
       "M 22.203125 30.09375 \r\n",
       "Q 17.09375 27.59375 14.890625 23.9375 \r\n",
       "Q 12.703125 20.296875 12.703125 14.203125 \r\n",
       "Q 12.703125 8.09375 16.203125 4.4375 \r\n",
       "Q 19.703125 0.796875 25 0.796875 \r\n",
       "Q 30.5 0.796875 34.140625 4.4375 \r\n",
       "Q 37.796875 8.09375 37.796875 13.796875 \r\n",
       "Q 37.796875 19.796875 34.140625 23.390625 \r\n",
       "Q 30.5 27 22.203125 30.09375 \r\n",
       "z\r\n",
       "\" id=\"STFangsong-56\"/>\r\n",
       "      </defs>\r\n",
       "      <g transform=\"translate(198.949147 241.431928)scale(0.1 -0.1)\">\r\n",
       "       <use xlink:href=\"#STFangsong-56\"/>\r\n",
       "       <use x=\"46.899994\" xlink:href=\"#STFangsong-48\"/>\r\n",
       "       <use x=\"93.799988\" xlink:href=\"#STFangsong-48\"/>\r\n",
       "      </g>\r\n",
       "     </g>\r\n",
       "    </g>\r\n",
       "    <g id=\"xtick_6\">\r\n",
       "     <g id=\"line2d_6\">\r\n",
       "      <g>\r\n",
       "       <use style=\"stroke:#000000;stroke-width:0.8;\" x=\"249.213713\" xlink:href=\"#mb3231d8c31\" y=\"227.831928\"/>\r\n",
       "      </g>\r\n",
       "     </g>\r\n",
       "     <g id=\"text_6\">\r\n",
       "      <!-- 1000 -->\r\n",
       "      <defs>\r\n",
       "       <path d=\"M 35.5 -0.296875 \r\n",
       "Q 30.296875 0 23.796875 0 \r\n",
       "Q 17.296875 0 12.09375 -0.296875 \r\n",
       "L 12.09375 1.296875 \r\n",
       "L 17.296875 2.203125 \r\n",
       "Q 20.796875 2.90625 20.796875 6.09375 \r\n",
       "L 20.796875 55.5 \r\n",
       "L 8.90625 47.796875 \r\n",
       "L 7.5 49.703125 \r\n",
       "Q 14.40625 54.203125 24.09375 63.5 \r\n",
       "L 27.40625 63.5 \r\n",
       "L 27.40625 6.09375 \r\n",
       "Q 27.40625 2.703125 30.90625 2.09375 \r\n",
       "L 35.5 1.296875 \r\n",
       "z\r\n",
       "\" id=\"STFangsong-49\"/>\r\n",
       "      </defs>\r\n",
       "      <g transform=\"translate(239.832463 241.431928)scale(0.1 -0.1)\">\r\n",
       "       <use xlink:href=\"#STFangsong-49\"/>\r\n",
       "       <use x=\"46.899994\" xlink:href=\"#STFangsong-48\"/>\r\n",
       "       <use x=\"93.799988\" xlink:href=\"#STFangsong-48\"/>\r\n",
       "       <use x=\"140.699982\" xlink:href=\"#STFangsong-48\"/>\r\n",
       "      </g>\r\n",
       "     </g>\r\n",
       "    </g>\r\n",
       "    <g id=\"xtick_7\">\r\n",
       "     <g id=\"line2d_7\">\r\n",
       "      <g>\r\n",
       "       <use style=\"stroke:#000000;stroke-width:0.8;\" x=\"292.442341\" xlink:href=\"#mb3231d8c31\" y=\"227.831928\"/>\r\n",
       "      </g>\r\n",
       "     </g>\r\n",
       "     <g id=\"text_7\">\r\n",
       "      <!-- 1200 -->\r\n",
       "      <g transform=\"translate(283.061091 241.431928)scale(0.1 -0.1)\">\r\n",
       "       <use xlink:href=\"#STFangsong-49\"/>\r\n",
       "       <use x=\"46.899994\" xlink:href=\"#STFangsong-50\"/>\r\n",
       "       <use x=\"93.799988\" xlink:href=\"#STFangsong-48\"/>\r\n",
       "       <use x=\"140.699982\" xlink:href=\"#STFangsong-48\"/>\r\n",
       "      </g>\r\n",
       "     </g>\r\n",
       "    </g>\r\n",
       "    <g id=\"xtick_8\">\r\n",
       "     <g id=\"line2d_8\">\r\n",
       "      <g>\r\n",
       "       <use style=\"stroke:#000000;stroke-width:0.8;\" x=\"335.670969\" xlink:href=\"#mb3231d8c31\" y=\"227.831928\"/>\r\n",
       "      </g>\r\n",
       "     </g>\r\n",
       "     <g id=\"text_8\">\r\n",
       "      <!-- 1400 -->\r\n",
       "      <g transform=\"translate(326.289719 241.431928)scale(0.1 -0.1)\">\r\n",
       "       <use xlink:href=\"#STFangsong-49\"/>\r\n",
       "       <use x=\"46.899994\" xlink:href=\"#STFangsong-52\"/>\r\n",
       "       <use x=\"93.799988\" xlink:href=\"#STFangsong-48\"/>\r\n",
       "       <use x=\"140.699982\" xlink:href=\"#STFangsong-48\"/>\r\n",
       "      </g>\r\n",
       "     </g>\r\n",
       "    </g>\r\n",
       "   </g>\r\n",
       "   <g id=\"matplotlib.axis_2\">\r\n",
       "    <g id=\"ytick_1\">\r\n",
       "     <g id=\"line2d_9\">\r\n",
       "      <defs>\r\n",
       "       <path d=\"M 0 0 \r\n",
       "L -3.5 0 \r\n",
       "\" id=\"ma0a0c1c32b\" style=\"stroke:#000000;stroke-width:0.8;\"/>\r\n",
       "      </defs>\r\n",
       "      <g>\r\n",
       "       <use style=\"stroke:#000000;stroke-width:0.8;\" x=\"32.9625\" xlink:href=\"#ma0a0c1c32b\" y=\"10.5\"/>\r\n",
       "      </g>\r\n",
       "     </g>\r\n",
       "     <g id=\"text_9\">\r\n",
       "      <!-- 0 -->\r\n",
       "      <g transform=\"translate(21.271875 13.8)scale(0.1 -0.1)\">\r\n",
       "       <use xlink:href=\"#STFangsong-48\"/>\r\n",
       "      </g>\r\n",
       "     </g>\r\n",
       "    </g>\r\n",
       "    <g id=\"ytick_2\">\r\n",
       "     <g id=\"line2d_10\">\r\n",
       "      <g>\r\n",
       "       <use style=\"stroke:#000000;stroke-width:0.8;\" x=\"32.9625\" xlink:href=\"#ma0a0c1c32b\" y=\"53.728628\"/>\r\n",
       "      </g>\r\n",
       "     </g>\r\n",
       "     <g id=\"text_10\">\r\n",
       "      <!-- 200 -->\r\n",
       "      <g transform=\"translate(11.890625 57.028628)scale(0.1 -0.1)\">\r\n",
       "       <use xlink:href=\"#STFangsong-50\"/>\r\n",
       "       <use x=\"46.899994\" xlink:href=\"#STFangsong-48\"/>\r\n",
       "       <use x=\"93.799988\" xlink:href=\"#STFangsong-48\"/>\r\n",
       "      </g>\r\n",
       "     </g>\r\n",
       "    </g>\r\n",
       "    <g id=\"ytick_3\">\r\n",
       "     <g id=\"line2d_11\">\r\n",
       "      <g>\r\n",
       "       <use style=\"stroke:#000000;stroke-width:0.8;\" x=\"32.9625\" xlink:href=\"#ma0a0c1c32b\" y=\"96.957256\"/>\r\n",
       "      </g>\r\n",
       "     </g>\r\n",
       "     <g id=\"text_11\">\r\n",
       "      <!-- 400 -->\r\n",
       "      <g transform=\"translate(11.890625 100.257256)scale(0.1 -0.1)\">\r\n",
       "       <use xlink:href=\"#STFangsong-52\"/>\r\n",
       "       <use x=\"46.899994\" xlink:href=\"#STFangsong-48\"/>\r\n",
       "       <use x=\"93.799988\" xlink:href=\"#STFangsong-48\"/>\r\n",
       "      </g>\r\n",
       "     </g>\r\n",
       "    </g>\r\n",
       "    <g id=\"ytick_4\">\r\n",
       "     <g id=\"line2d_12\">\r\n",
       "      <g>\r\n",
       "       <use style=\"stroke:#000000;stroke-width:0.8;\" x=\"32.9625\" xlink:href=\"#ma0a0c1c32b\" y=\"140.185885\"/>\r\n",
       "      </g>\r\n",
       "     </g>\r\n",
       "     <g id=\"text_12\">\r\n",
       "      <!-- 600 -->\r\n",
       "      <g transform=\"translate(11.890625 143.485885)scale(0.1 -0.1)\">\r\n",
       "       <use xlink:href=\"#STFangsong-54\"/>\r\n",
       "       <use x=\"46.899994\" xlink:href=\"#STFangsong-48\"/>\r\n",
       "       <use x=\"93.799988\" xlink:href=\"#STFangsong-48\"/>\r\n",
       "      </g>\r\n",
       "     </g>\r\n",
       "    </g>\r\n",
       "    <g id=\"ytick_5\">\r\n",
       "     <g id=\"line2d_13\">\r\n",
       "      <g>\r\n",
       "       <use style=\"stroke:#000000;stroke-width:0.8;\" x=\"32.9625\" xlink:href=\"#ma0a0c1c32b\" y=\"183.414513\"/>\r\n",
       "      </g>\r\n",
       "     </g>\r\n",
       "     <g id=\"text_13\">\r\n",
       "      <!-- 800 -->\r\n",
       "      <g transform=\"translate(11.890625 186.714513)scale(0.1 -0.1)\">\r\n",
       "       <use xlink:href=\"#STFangsong-56\"/>\r\n",
       "       <use x=\"46.899994\" xlink:href=\"#STFangsong-48\"/>\r\n",
       "       <use x=\"93.799988\" xlink:href=\"#STFangsong-48\"/>\r\n",
       "      </g>\r\n",
       "     </g>\r\n",
       "    </g>\r\n",
       "    <g id=\"ytick_6\">\r\n",
       "     <g id=\"line2d_14\">\r\n",
       "      <g>\r\n",
       "       <use style=\"stroke:#000000;stroke-width:0.8;\" x=\"32.9625\" xlink:href=\"#ma0a0c1c32b\" y=\"226.643141\"/>\r\n",
       "      </g>\r\n",
       "     </g>\r\n",
       "     <g id=\"text_14\">\r\n",
       "      <!-- 1000 -->\r\n",
       "      <g transform=\"translate(7.2 229.943141)scale(0.1 -0.1)\">\r\n",
       "       <use xlink:href=\"#STFangsong-49\"/>\r\n",
       "       <use x=\"46.899994\" xlink:href=\"#STFangsong-48\"/>\r\n",
       "       <use x=\"93.799988\" xlink:href=\"#STFangsong-48\"/>\r\n",
       "       <use x=\"140.699982\" xlink:href=\"#STFangsong-48\"/>\r\n",
       "      </g>\r\n",
       "     </g>\r\n",
       "    </g>\r\n",
       "   </g>\r\n",
       "   <g id=\"patch_3\">\r\n",
       "    <path d=\"M 32.9625 227.831928 \r\n",
       "L 32.9625 10.391928 \r\n",
       "\" style=\"fill:none;stroke:#000000;stroke-linecap:square;stroke-linejoin:miter;stroke-width:0.8;\"/>\r\n",
       "   </g>\r\n",
       "   <g id=\"patch_4\">\r\n",
       "    <path d=\"M 344.208623 227.831928 \r\n",
       "L 344.208623 10.391928 \r\n",
       "\" style=\"fill:none;stroke:#000000;stroke-linecap:square;stroke-linejoin:miter;stroke-width:0.8;\"/>\r\n",
       "   </g>\r\n",
       "   <g id=\"patch_5\">\r\n",
       "    <path d=\"M 32.9625 227.831928 \r\n",
       "L 344.208623 227.831928 \r\n",
       "\" style=\"fill:none;stroke:#000000;stroke-linecap:square;stroke-linejoin:miter;stroke-width:0.8;\"/>\r\n",
       "   </g>\r\n",
       "   <g id=\"patch_6\">\r\n",
       "    <path d=\"M 32.9625 10.391928 \r\n",
       "L 344.208623 10.391928 \r\n",
       "\" style=\"fill:none;stroke:#000000;stroke-linecap:square;stroke-linejoin:miter;stroke-width:0.8;\"/>\r\n",
       "   </g>\r\n",
       "  </g>\r\n",
       " </g>\r\n",
       " <defs>\r\n",
       "  <clipPath id=\"pab2d8c9950\">\r\n",
       "   <rect height=\"217.44\" width=\"311.246123\" x=\"32.9625\" y=\"10.391928\"/>\r\n",
       "  </clipPath>\r\n",
       " </defs>\r\n",
       "</svg>\r\n"
      ],
      "text/plain": [
       "<Figure size 432x288 with 1 Axes>"
      ]
     },
     "metadata": {
      "needs_background": "light"
     },
     "output_type": "display_data"
    }
   ],
   "source": [
    "plt.imshow(array13[:,:,::-1])"
   ]
  },
  {
   "cell_type": "markdown",
   "id": "6789403a",
   "metadata": {},
   "source": [
    "### 获取描述性统计信息\n",
    "\n",
    "1. 均值（mean）\n",
    "$$\n",
    "\\bar{x} = \\frac{1}{N}\\sum_{i=1}^{N}{x_i}\n",
    "$$\n",
    "2. 中位数（median）\n",
    "\n",
    "将数据按照升序或降序排列后位于中间的。\n",
    "\n",
    "3. 众数\n",
    "\n",
    "数据集合中出现次数最多的数据，代表数据的一般水平。\n",
    "\n",
    "4. 最大值/最小值（max/min） - 极差（ptp）\n",
    "\n",
    "5. 方差/标准差（var/std）\n",
    "\n",
    "总体方差：\n",
    "$$\n",
    "\\sigma^2 = \\frac{1}{N}\\sum_{i=1}^{N}(x_i - \\mu)^2\n",
    "$$\n",
    "总体标准差：\n",
    "$$\n",
    "\\sigma = \\sqrt{\\frac{1}{N}\\sum_{i=1}^{N}(x_i - \\mu)^2}\n",
    "$$\n",
    "样本方差：\n",
    "$$\n",
    "S^2 = \\frac{1}{N-1}\\sum_{i=1}^{N}(x_i - \\bar{x})^2\n",
    "$$\n",
    "样本标准差：\n",
    "$$\n",
    "S = \\sqrt[2]{\\frac{1}{N-1}\\sum_{i=1}^{N}(x_i - \\bar{x})^2}\n",
    "$$\n",
    "6. 四分位距离\n",
    "$$\n",
    "IQR = Q_3 - Q_1\n",
    "$$"
   ]
  },
  {
   "cell_type": "code",
   "execution_count": 45,
   "id": "914c03d0",
   "metadata": {},
   "outputs": [
    {
     "data": {
      "text/plain": [
       "array([43, 23, 31, 27, 47, 44, 29, 30, 49, 38])"
      ]
     },
     "execution_count": 45,
     "metadata": {},
     "output_type": "execute_result"
    }
   ],
   "source": [
    "array14 = np.random.randint(20,51,10)\n",
    "array14"
   ]
  },
  {
   "cell_type": "code",
   "execution_count": 46,
   "id": "885b6696",
   "metadata": {},
   "outputs": [
    {
     "data": {
      "text/plain": [
       "36.1"
      ]
     },
     "execution_count": 46,
     "metadata": {},
     "output_type": "execute_result"
    }
   ],
   "source": [
    "# 均值\n",
    "array14.mean()"
   ]
  },
  {
   "cell_type": "code",
   "execution_count": 47,
   "id": "3c52d53c",
   "metadata": {},
   "outputs": [
    {
     "data": {
      "text/plain": [
       "array([23, 27, 29, 30, 31, 38, 43, 44, 47, 49])"
      ]
     },
     "execution_count": 47,
     "metadata": {},
     "output_type": "execute_result"
    }
   ],
   "source": [
    "# 排序\n",
    "np.sort(array14)"
   ]
  },
  {
   "cell_type": "code",
   "execution_count": 48,
   "id": "2371b67a",
   "metadata": {},
   "outputs": [
    {
     "data": {
      "text/plain": [
       "34.5"
      ]
     },
     "execution_count": 48,
     "metadata": {},
     "output_type": "execute_result"
    }
   ],
   "source": [
    "# 中位数\n",
    "np.median(array14)"
   ]
  },
  {
   "cell_type": "code",
   "execution_count": 49,
   "id": "50f7f6c4",
   "metadata": {},
   "outputs": [
    {
     "data": {
      "text/plain": [
       "(26, 26)"
      ]
     },
     "execution_count": 49,
     "metadata": {},
     "output_type": "execute_result"
    }
   ],
   "source": [
    "# 极差  np.max()-np.min() / np.ptp\n",
    "array14.max() - array14.min(),np.ptp(array14)"
   ]
  },
  {
   "cell_type": "code",
   "execution_count": 50,
   "id": "c73c3d9c",
   "metadata": {},
   "outputs": [
    {
     "data": {
      "text/plain": [
       "8.757282683572571"
      ]
     },
     "execution_count": 50,
     "metadata": {},
     "output_type": "execute_result"
    }
   ],
   "source": [
    "# 标准差\n",
    "np.std(array14)"
   ]
  },
  {
   "cell_type": "code",
   "execution_count": 51,
   "id": "8a94497f",
   "metadata": {},
   "outputs": [
    {
     "data": {
      "text/plain": [
       "76.69000000000001"
      ]
     },
     "execution_count": 51,
     "metadata": {},
     "output_type": "execute_result"
    }
   ],
   "source": [
    "# 方差\n",
    "np.var(array14)"
   ]
  },
  {
   "cell_type": "code",
   "execution_count": 52,
   "id": "8d64a56d",
   "metadata": {},
   "outputs": [
    {
     "data": {
      "text/plain": [
       "(29.25, 34.5, 43.75)"
      ]
     },
     "execution_count": 52,
     "metadata": {},
     "output_type": "execute_result"
    }
   ],
   "source": [
    "# 四分位数\n",
    "# 下四分位数\n",
    "q1 = np.quantile(array14,0.25)\n",
    "# 中位数 - 百分之50分位数\n",
    "q2 = np.quantile(array14,0.5)\n",
    "# 上四分位数\n",
    "q3 = np.quantile(array14,0.75)\n",
    "q1,q2,q3"
   ]
  },
  {
   "cell_type": "code",
   "execution_count": 53,
   "id": "593b5789",
   "metadata": {},
   "outputs": [
    {
     "data": {
      "text/plain": [
       "14.5"
      ]
     },
     "execution_count": 53,
     "metadata": {},
     "output_type": "execute_result"
    }
   ],
   "source": [
    "# 四分位距离\n",
    "IQR = q3 - q1\n",
    "IQR\n",
    "\n",
    "# 极端值判断\n",
    "# >Q3 + 1.5*IQR  or  < Q1 - 1.5*IQR"
   ]
  },
  {
   "cell_type": "markdown",
   "id": "e1ded1d2",
   "metadata": {},
   "source": [
    "## 数组的其他方法"
   ]
  },
  {
   "cell_type": "code",
   "execution_count": 54,
   "id": "3beb9c26",
   "metadata": {},
   "outputs": [
    {
     "data": {
      "text/plain": [
       "array([43, 23, 31, 27, 47, 44, 29, 30, 49, 38])"
      ]
     },
     "execution_count": 54,
     "metadata": {},
     "output_type": "execute_result"
    }
   ],
   "source": [
    "array14"
   ]
  },
  {
   "cell_type": "code",
   "execution_count": 55,
   "id": "eabf4f61",
   "metadata": {},
   "outputs": [
    {
     "data": {
      "text/plain": [
       "array([ 43,  66,  97, 124, 171, 215, 244, 274, 323, 361], dtype=int32)"
      ]
     },
     "execution_count": 55,
     "metadata": {},
     "output_type": "execute_result"
    }
   ],
   "source": [
    "# 累计和\n",
    "array14.cumsum()"
   ]
  },
  {
   "cell_type": "code",
   "execution_count": 56,
   "id": "c496285c",
   "metadata": {},
   "outputs": [
    {
     "data": {
      "text/plain": [
       "(8, 1)"
      ]
     },
     "execution_count": 56,
     "metadata": {},
     "output_type": "execute_result"
    }
   ],
   "source": [
    "# 最大/最小值索引\n",
    "np.argmax(array14),np.argmin(array14)"
   ]
  },
  {
   "cell_type": "code",
   "execution_count": 57,
   "id": "e6895b99",
   "metadata": {},
   "outputs": [],
   "source": [
    "# 保存数组到文件中\n",
    "# 将数组对象以pickle协议进行序列化（把对象变成了bytes最后写到文件中）\n",
    "\n",
    "# 存\n",
    "# array14.dump('a')\n",
    "\n",
    "# 读\n",
    "# array15 = np.load('a',allow_pickle=True)\n",
    "# array14,array15"
   ]
  },
  {
   "cell_type": "code",
   "execution_count": 58,
   "id": "cedeed4b",
   "metadata": {},
   "outputs": [
    {
     "data": {
      "text/plain": [
       "(array([1, 3, 6, 7], dtype=int64),)"
      ]
     },
     "execution_count": 58,
     "metadata": {},
     "output_type": "execute_result"
    }
   ],
   "source": [
    "array16 = np.array([0,1,0,1,0,0,2,5,0])\n",
    "# 非零元素下标\n",
    "array16.nonzero()"
   ]
  },
  {
   "cell_type": "code",
   "execution_count": 59,
   "id": "68398717",
   "metadata": {},
   "outputs": [
    {
     "data": {
      "text/plain": [
       "array([1, 1, 2, 5])"
      ]
     },
     "execution_count": 59,
     "metadata": {},
     "output_type": "execute_result"
    }
   ],
   "source": [
    "# 将nonzero()作为花式索引获取非零元素\n",
    "array16[array16.nonzero()]"
   ]
  },
  {
   "cell_type": "code",
   "execution_count": 60,
   "id": "1442e457",
   "metadata": {},
   "outputs": [
    {
     "data": {
      "text/plain": [
       "<matplotlib.image.AxesImage at 0x2ef5872fe80>"
      ]
     },
     "execution_count": 60,
     "metadata": {},
     "output_type": "execute_result"
    },
    {
     "data": {
      "image/svg+xml": [
       "<?xml version=\"1.0\" encoding=\"utf-8\" standalone=\"no\"?>\r\n",
       "<!DOCTYPE svg PUBLIC \"-//W3C//DTD SVG 1.1//EN\"\r\n",
       "  \"http://www.w3.org/Graphics/SVG/1.1/DTD/svg11.dtd\">\r\n",
       "<!-- Created with matplotlib (https://matplotlib.org/) -->\r\n",
       "<svg height=\"251.234813pt\" version=\"1.1\" viewBox=\"0 0 200.61925 251.234813\" width=\"200.61925pt\" xmlns=\"http://www.w3.org/2000/svg\" xmlns:xlink=\"http://www.w3.org/1999/xlink\">\r\n",
       " <defs>\r\n",
       "  <style type=\"text/css\">\r\n",
       "*{stroke-linecap:butt;stroke-linejoin:round;}\r\n",
       "  </style>\r\n",
       " </defs>\r\n",
       " <g id=\"figure_1\">\r\n",
       "  <g id=\"patch_1\">\r\n",
       "   <path d=\"M 0 251.234813 \r\n",
       "L 200.61925 251.234813 \r\n",
       "L 200.61925 0 \r\n",
       "L 0 0 \r\n",
       "z\r\n",
       "\" style=\"fill:none;\"/>\r\n",
       "  </g>\r\n",
       "  <g id=\"axes_1\">\r\n",
       "   <g id=\"patch_2\">\r\n",
       "    <path d=\"M 32.9625 227.8645 \r\n",
       "L 184.8685 227.8645 \r\n",
       "L 184.8685 10.4245 \r\n",
       "L 32.9625 10.4245 \r\n",
       "z\r\n",
       "\" style=\"fill:#ffffff;\"/>\r\n",
       "   </g>\r\n",
       "   <g clip-path=\"url(#pbc3b88e196)\">\r\n",
       "    <image height=\"218\" id=\"image0e2e585520\" transform=\"scale(1 -1)translate(0 -218)\" width=\"152\" x=\"32.9625\" xlink:href=\"data:image/png;base64,\r\n",
       "iVBORw0KGgoAAAANSUhEUgAAAJgAAADaCAYAAABaUotGAAAABHNCSVQICAgIfAhkiAAAIABJREFUeJzEvVmzLMt13/dbmVlDd+95n+meO2IgCWIQQXkIymaYoZBDtmWTskzbClmmTNvhB/vFz/4i/hgWg1YwaFNWGCRBAAQI4OISBDERuPMZ9969e6yqHPyQmdXVvfucewCCdN3Y93RXV2XlsHIN/zWU/O//2/8cRIT8BxBC/PcnOUKAAHhARFBKISK8dO8O9fgAL4L3QvAKL4AIIQRCCMNWgIDAzvlnPRSE+Peih2d4g0Ze4G5RH90PMMBwHgPg9jQGItv3SgAJgtqcArVpK8/n7qEBQsB7j/eerutYzOes12tWqzV/+vVv8m++9jWu12v8YD5vznvq2qBjLzT/L3CdeaFWXvDIjxp2tGnWVONJJNpAmt3dToW9H3nBQd5o7nmXSWx2s5mef3O87CffcB/dl/jcDYH3s4ekqRr2zXu/Na8AznuC9wBYa1mtVrRtS9O0fOsvvsMXvv5nzNumb2v3/r+N42dHYAIqbc/hzlsulhwcnSJaRe7RE9nuEbY4kmR2+DM8tp4aAiJ/M6QTO/6sBQ09cQ2Jip19J4nD430kENllfYBzhMS91us1bdvSWct3/+qv+MKffpXrdYPz+7nV39bxDAILL8w8hoeIIu7J+B8B2rZlvVwxOjyKBLRPpgX6Oe5/Ts//WRJAGLQbnxe2ROTPZhlC31IIgRvycPh5ONAw5GQD9cGHKAZ7AbDhvOI9tuto2xZrLW3b8oO33+b/+eKfcLFY4FzicML/L9wLEoFtPzx+ln7wuyx8cF3Y/poHsjWlHpbLJaODw9iGqM19YbMYsqf5xNR+Jkcm3Cwm945L9jxvr0jf03jwiVg3/ElE9gzs5kDFR2Lf5mCxTXb0Je9j+8F7XNfRtS3OObrO8u777/Ov/+iPeXx9jQ3bz/hpj4/S1T7qMLmRzU0vKqsjt9p6cF6hqKXHM8rQtS3NeoUui7ijguqvv8E/woCs1c9u1w0Y19bZG8u/+0gJe5ZnzxllSWQSv4sgL9B/FQIqL2LYzEHmXCH4pDOqyNWcwweHcx7XNXhn8Z3l6cU1f/DHf8LbT57iA3hCHIuSSOMDXiFINLSecWSiysZDP8ZkbPwkItfcuFjghvUTbsp/yQS0hxh3LbOusywXCw6K49Re3/D2Y4aWDvt3z097PEsf2v16g75e4L7IEGVAXumseraNOpyC4AciNTaVCCsMLD6P9wHvHcFZgvN453DOMV0u+YM/+SLf/+B9Ouv7fmdiCIlYtzr8jKnNfdg397kve9c8c/oBIxYZcLDtyUpUGzKXChC2iS5qL+rGvSLSD0ZEej19vVozOphglCEEH5vcJ5IGh/pZ6qYvanbvnhBQL8DRJYSdjRVuSsftZgdd274wcg63DScEcN4RnCckwnKuY900fPGrX+dbP/wR667rWXCGiUSEgI884llj3OnHNmHvv2ZrLLvMB4hMKkQO1lssm2Zu9mR3toLFh7xbIARBoZCkoOaHeon72ntPM19SHB4m01oidvaMtZOdf59/PP+qn4QTqqyD7rYuz29L9rCFF4EGdtsLSSx677cWOVuLzjmCdThnsc2ab3zr23z1zT9n3bT4pPLl9ezvzW0/57nbz9/cu6//Q0Lcwk/j6qc11dwLHuOd3VwkecGT0A5JRwkBxCedPHcgNhiCj4a3DwgGybpZkvlu2CnnGdc1XvQG6yHpYvsW4oWU/J+tddS3NpBh4QX0/KE5tHX+o4h7ixCSiAkeSbqPhIAPUTQ65/DOJfFo+fF77/FvvvpnXDQJjlCJuLaemwlFkYVLCEPdMyMGof9t674XnN/cpgoBCYHbSvFbd+9jfNf0yExuXEU6jN/T87ZwmdzBTCRBpelxZMrZqMYbnWBxbVmdn1LWI7L+FhXQ/YBX+EjRJMBHweybCfioQ2Sg/A4efdMQvEn5IYNqAz1OvcDiBALOdVtSREIA7xAi5w/eg3dRwXeOYD2X0ylf+Mqf8WTeRosx4T8+tbp7aCWIUgTvCT4MJIfgwza3zMeLzSy9ISACDs3Ye/6T03N+4+5djF1bEMGL31hMIdPtRjn00BOY95H3SBjsiBD1NCGxcu/w3oGzOO8hOLwF8Wve+MVfQrTZTMQzOMRHE8Wz+MZPf+w+86b68KwnRg7QG9C8CPd9hr4TJxXnoi7mfdS78B6cY7Fc8Ydf/jp/8f4D2pDYwa4eNMTLksKf3U1bxtRQhx628QKdvzE3IpQ+8B+MRvyX9+9wS2tMu5wmRHujAkYXhCOkwUWCsYk9t2lXxV28oX5PsA24SKg+OELwkWVuesCT5QX3Xn4Vc3IHHRWGng9tgRbPsWa2j5+lJfATHPusgXw6b8oX4Jq9pBie8z5tZNfrXbgoJlerhq987Zt89S+/x8oTVZceu9wQ1d8aep+kmPaR837KKH77lVd4pRrhRGPmD36Qhjn4v/dx0ZM8DUBQsdMqgX8q6W16ODEKgoQNfprYtiSFXlBo33H1/o84PzzGS7GxPLnJKX62k/QCix0yGrNN6Lv6YQh7sLGwzU17eOAF+jXEmno1xNl+c8cNbVmtG770jbf4w29+m1nrEL0xDTOXcu6mgz2EEI2DPdxyH4f+yY9oXdxF+K07t/m5gwN0ErBG+WW6RHpuIigy9J2N7+gGSn4xfDIMdqX0xsXks5D3qSFIotdz9eDHHL72CYrxCUYLJAU0tfD8sdyYjBdzWH5ku/2FO6STrZHnHQKS9ND+VFKcIXd5txHp8S4JSe0IIVmLURz6EKKq4Tyr1YIvf+1N/t9vfpsr5xAVoYghgT0LCM0WaSa+ELYhFJUQvBfhuPnIZomEyFTGIvxHp7f4e+fn1IlOAIweuiPTLuxlNZsdvSFAISRd7abltxETIZGmeH1jbtvVnMv33+HWGxNCMCgzCFTpYZObus5+Duf4aAp48WMPGdw8J/ncBlyUpDIMOcIurgRs6UFZnEZ1xEdpkf2H0UZHnKNZWb781W/xhW9+iysXFfSgtvG5jxKL2zoeWxt1Y5T8pEech8p7fm1U85vnd5gUNV5836ZRKhPYkG1utRFN3MQG4wmViG27S2Fwj+4/qs1J8sA8Vx/8mKPbL6MPT3DBYxI3/EjcaPd7cEQiG0z2HoJ7YXN7514Je1xiogYxX7kfHoJshdVk0RcGV2YuMjSifBJf4jexXSF4wLPqVnzlrb/kC2/+ORcuKfMhJO53c5wvdG6HwJ513412hnOQvpQCv1KO+O17r/ByZRLJbZiW2fb3ZYGYF5vNZMSouPgY2UWt6S/0OyeCjr7HniNlRbSdcfX+jzAf/0VUMeKn2T/0uA7bEya7JPHi7H+Xvv0eCEUpCNnSTs26HO6w5whJB4W0IcLg0uA3YTeBHmT13mNdx7f/8gf84de+ybVziJLI6Z6jzD8PQI3jk4S3PX8+nkdwUYpBLcKvVjX/7Uuv8LG6whiDCoIaTIVRKiunSSxt7czQN9l3KmEToXcCb2bL31jZZ5vA3nsun3xIfesuprhLqMyOwrlf+dw78Bts7a8jNG8I5huL4X3mINvA7LNEetybiVsF17cXoEfohw5ml1xBP/zx2/xfX/oqT5sGJ2pz33Ms7KHB8Mwj7K7vzWPg8ducSPd6AsfA35/U/Nbd+3y8rNGmzGp76lekBSMSIGSUPja6ic5Ngybq6vEZKv71HE0gZGBW6MOtQ9QjEJ1aGhCOBHzwuGbJkw/fYzQ+RCuN1nrjoA2e3VjlEG4udtbZ9s9j7N+zd/XOpO7b2XsC2KTvx2BUgZ3rBlbkgCC8TyE4bDwivShNin1nLT9+511+74/+mAfLNZ7kMbnBrdIcP2M8w75sXbNnM+w7VD/2eINPcNY9hN88PeMfnd/mblGC0RA8XiXUQEAlA8CINwSSgFJpkja0QLbaHSGy8AElb65LeoqKIXwoIWQrUzSiNn9aaZQxKFUQ9Ihqcox1gbZtKYqCoig2D9/gBvun7SOU2rC9vi90/z7U/gYBZ4LYUZRv0L7fJoqhSNvyNaZzzkXc68fvvM3vfeGLfDhv43xKSJt/D6se9n3PVD1zjvaoETeazhwYCEqoCHyuqvinp3f4lckh46JEa41Ir/8MXI2RjsyqGCcTl94fKaIT3SbrUQmqUJFgEpdBCpSqotdeKZTWaG1QSiNagy7i3VqhRMfYqOzdFyGg8GiUVlgC1trezI6d/unE3EZ8bL5/lF6yfe6jr7sR/gL0G2JweH+T62Ru5ZNHJATfixXnHe+8+z6//4df5v35EtBbnK5/0s1H/Q0dSXUCjn3gHx1M+I1b93i9HlObCkpJES/bYrmfewLm8PWf63GouMAaY7Yty0xAShQhWVBhEHCowiAOP93VQ5F7DAKXvmrxKBV3p3PRlWGtjW2q1P6LGX87k5IH+uywk/z7zXMffc0W99551vDwezjdkHMNic05x7sffsj/+Yd/xHuzFYgiBxFsfH0/8WT8dEdSLQSNVXBLO/6b49v8x7dOuFOMKUyB1rqndOlvuzlXZnJ2O1liAe8DSkUiS7cAGQXbEFOUs1kHi/uM/u9ZUi3qarHVfEHWISJgmCc6T6TS5kbHt1FoNlbkjp6Rx/QTodR7xVA8N5zEG1br4PG7fY3E4Qff82+OHK3qXeCDBw/5V1/4E967Xva6zotYiD8tCv88jFEg6sliuaMD/+z0nH9yesZxXWNUiWQlPURjRyVdecOxQ/8EowbhAyFxGwlqwHXSIiViChISgYShqN0GXgfiTUuKKRhEvGUtK2STWVRCkj3WO4KNv5V6QyTDQMb8fajzD+d5W5xsT+U299gBVYLciIAIKStHGOpn28p1fmZIH3pIxEt6ziYUJhKVJcfgB+958OCS3/mjL/L29RSUhhCwzmZGstX3v6lDkGQdS/QsaLilhX9+csavH9/mqBqhdZn6PUwkGQDRQymWImvNcDrzDYphEi6JYEKes5v+utT4ftYlg7aHZwZepJDxJkXIPrPUsDFmk3QqAt734hhIEQdDrhYbHPoQXxgrYl821SYReENgG269dWYgkqNPMf7i+5Bo31uR2sVd+PDimt/546/w46sZonRP/D2RfoQu+dcRm1s2bxpSAJwYbgXHPz8849dPbjGuDaLy1gtbdw8f3/clGwcimL3ungFB5V7kvb4vyzgJzf2jUGFgWTxjoCJ4H58ZF9PjrcU7j7UWY0wktAFhZcxMRKHU5nsc3/N3+vMcvDdR7w3cMFRet0Xy5rlDyzAMLUWGv2lcEJ7Orvm9L32ZH10+jv5AnyJZ/gaIaf9gN6PxhITIBI6859cPT/lPT+4yKjVFKJA+cfrFms5MwMielPTdAMBNUvZ25Gn+rMMzCEwEn8TJtoTfHeXGcR4HGxmvDKIJnHPRYh30Y0hs+d8Xcnl8xDXbfrtBxOlzCGzXoIifXS9iN9cKBM9s3fEHX/pTvvPhg2T0hL3tDI+/WSXf40RzpIX/7OCY/+rkNgdGo71GtIIgeBdQ+rnI0VZfRWRPVhH7BhL6JILh7zeIakd0RjltbtCUDKzDEFJntgJ/gES0mWiydUnYxIHHIDrZM+D9onF7fPvE4f5jo+RvW6jDzzeJy0cCi+EGvQ4Giqbt+MI3vsm333uYrPGbMfjP6sdPc+yRUT1G3gsq0ZwB//jwhN88vcstpfBK7WccYUBke7q0WV/Zn9m926SWm8S11VwmFiV9tEtPgqI3LaZBDQmsp8l+oFn0xRvCjWvyYmZ0+yaBieid73Lju4jCuf1ulW1f36ZPvs+G8nhcb+n1v7EhtrxBeqMqEanzlm9853t84/s/wvouxtqzm6K23zj5aY64eTfRthCtPp0ssVYi6v6qKvjHZ3f49ZMzTnSESLSK0NSWbuWzBSm9yvK8fIobBPa8GyShn1vx470RKgPLYtAeWZMf/LOlGe78208K0BPahusML3yWSIwRFtvX7eqN+9Yri999UEieg6020n/DDbL962CbR0uIdx9c8MW/+EvmtsV6ixuoI0OL+UUNkxtj2CN9QraYBnATRC52EODvjg74z++8xOcOJpxoicGCPtB7aAbDDyG38/znZqXI7Mv5u9HJPdxrL0cTlZO28wlikOFNDvJRhwBK7T5vnzh8/rFxzbibxL+nLlNPEgNOIipx1cw99xKUDM6F3V9APIuV5U++9RbTxQrrHDb7gHfG9HzR/vxrbp7PAVPZBowGiEdxjuI/PDrhn9y6x8vjiqKIFrvyIJJJZNC5XvUMN0b5rP7ssSKfQQB7iOvGPTs6mJAza3a5GjfO3Whv+5H9MzKXGR7P2+0bcZdT8Ifj2NH7AMJOmaQ0odmdtunHDpcJ+7ni8McfvvchP3rwkM67aC1CX17gozjWvjl/Ea62ERAbKRJC4BPG8E9P7/Crx0eclyXGFGil0hgiJqr2WOZ5NXd10Gcxjb0EtrejL0CI+mZhh60oL8niZK9Mke3/S74jCZpMXP29ezjowMobTgjEeLCEHvTt3RjPc8bXc648xWHnsyQOl/shAsHF/kugaS1/9pff57rtcGFjlT/r+OsS1OYmMkUQJFr8ny5q/vvzu3x+cshI1RRKYxBc9rGKRidXXZAM0yR1IHdhqDs8x3o3+yrn7R3cnmt2xesNzhQCAbehqV4k7SsokttN+UXDxdzqxX7Hav/sTFjp/MaPl2LmB7pk3s0knMuHmOSSLbo+6cI5rHN9mSTbdXRtR2cj2j4a1UwOJpRFgdYgKokh8fhUdefdJ094//ISF2JUykcw8J/qiBIjflIhz8FGnCmBzxcj/qfTl/jUqKZQglGOgBADbXO5gdBPfRasksKFVLbusymZxrPDf3uCe3ERueeafdbZ9mPSwxhynv7i+OsO5WfLZJ9FtfFz5bEF8pRGJhJ/y2Evu58zntZ1kTg629F1He26oWka2qZhvVrRNM2moFuqv9V1HdamTB83tPqIYUalYTKZcPfuOScnBxwcHDAZj6mrGofmG999m1Vne+bWL90ecb57vIhONpjwFHicLdnoMTEBPl/W/A9nt/hMWZBdb947ui6kCBbdtyuSPDqpYY/f2Co7K9oz853+hhBu4mDPGuS+szetrZs+us21asBRNyHEuZ3eevIRfiCkSIK8kD5CAYGAs46ua7GdxTpL07bYrsN1li5V+WubhlWzZt00NE1LZyOBdF3X35cjRzMYmhXgDWYVUKJ6XWTT503AIEDnO8JKuLi65p33308ZP5qyqpiMJ4wPD/jeux/SDqroPBv2+WtAEhAV9NjFfs008EtFyf94+y6fqeoYXuajSPcERAVcF5Oms/QQkRg5kxuWbDNL4oYp6BRhJ6FqawxmX4jtszjT7m7bZxLn64Z/UdTEqIG8qJGLJFHTc4mWpukiQbSxuFrXdXgfgVbrbLS+bCpflDPIE0HKDmruQ+hLAezjihvMTZI4kF7Xi2ISgorBlhHrGlhP/fe4rWOubMAFH/OcQgdLR3i6oCsesQwKF4r98MiOAbVbl2t3fnfuHvwatogri7Jf1BX/4uwWnyorCmPi3KUxBO+x3kdH/yDsCiD02eAh1g0MAZ9+9/gUWZOeusPBegKz1m0wouEOzRwlT24KjnPO4azD2o7OtlgbdZO23RBG5BRZvHSpvGOHtZE48l/kTn7DQYYWS7bfBws/XIwMfsigGjMqxByWID0RRLfXhpCCGyLmvseI8hg3ay09V8tYlVI6GYSZA22UXCkURoRCKYLEQEqlY6L7w/mSLi3GUDwOVmTrjCApBCatQyB6BAbqxlA9GCrxWZGP2UfCz5uC/+7sFp8ZjygKg9aaIArlkg/SJT0xCKB7WKYnFO/j+Ab43BZzEdn4KRP3yxIawDx6+JQQAs5lIujouihKmqbZ0j9yHdD4fY3zXdJrQqoHOlTKh8r1fvB2S3ZL6uzGoB7s12wRxv/6giBAcKE35FwSY1Gk5Yzo+HtWtvGZYHPuQYohV5ocQ6e1TgF1YNJnUdEX530WI5tS7T4EuuA4PDri/ssvE9JvSjxX8xUf/OlbsbaEbFu2EVsbcK+k1WiVKCURvReJlRCzkaIUPgR0YlcuZKKLc+iT5frpquJfnN7hlyY1lVGU2qAlxt5lR7zLz80GQbKToroSNrUH1WZj9ZIpJWDrsKlF1mttaVjmD/7gD3rOscnJu+kTu4k9uWghigA+ym1VQF+Ubkg52+K151TkPbmtGAK5PGkSXzlKb7N7g/NxEXX6E9AyUFCVQSudLNcYSBlCiKUzcimjfhPAaDTi9ddfI/sQc4SG0hqlNN55Hj16woMHD2jblJCStmog4JVwenbGeDzGJmPCB8/FdEpru7xCOxtne/NszZcEQFPqwInAaVUwVpoyRY+EAF0QOutYW8dV6GisIwRBK80vjyr+61u3+GQxwhiJmylEbqwYZIBLjP+KRDck/2cZupu17fHAIXyxs8ZmtVrE4Q19ToOjF5M9YxoE64nH+7jbYnsOkl+tt/K83bY8MmfNsffERdQqihWtYmhOWZaYQlOYAqUlxuwnzSJyh0xI8TllaagKj7YdSjxGx/DuuRU67+k6y+XVJVdXc1wniNY4HVPIdAhY2+G84/D4kK5ZJkLz8bxdY20yCAI0PjqxRVTMQVYaowUVPO/96Me89/hRmmXh4fUibhbZ78hWg7IJm9URhEgIv3J8zH/xxsu8OqqpUKgQa4aEELA+0HrHsrM8sparxrKwHaWHz1Yj7hcaHUAHF/VT4iZUJDEY0ucgKWJmsPHDxlK8SWDbNX2TFrL3MNlaGnKdfUh5rjag2IBqGyRcoZWgU9xWURRUVUVZlhRaUxRFxFCUwnuPKQuMMT23qaqKqqp7FvxzP/dzvPzKy6giZgq36xXf/vaf8603/5zHj5/gvU9mtURO6j0nx4fcv3NMVRiEjoCnc5bGCq33OAdBND5A5ywKCCoVcQmarg188MFD6ukFl08eYROkMCxgolTJ7du3uVONe2W3Nxa8p8Izvb5mvV6jRNF5YdnYmPb3rHzFFG2RFyiHAmmv+Lujkv/105/h1UrQeEgxc55oVSunCSK4yvHJ4PGoWEcM0C6XbvCEtiHYaCB5B0YCauDFiHpXnyx1kyPJLk1sDCX20FZWG4AYDxb1zg1xaW1Selkkjpzlo7VGS1zYsjRoLSitqKqaoijwLkY5HB8f89nPfpa7d+9itGaxmPP1r3+Dt956iydPnuB8FG+j0agnxDt37lCWJbPZNW++OcMFy+27dwne0a6XHB0ecvv2OVdXV0yn015Pih5/YTmbcaU6xkbz6GLBk9UK5y0dpi/Ga4zh+PiEylRRp9KgtKJMoLFSisViwXKxjtmfaiPuo6i22K5hOp1zvVwTkBRFEcDDUQn37t7m1mTMysGTywWt7/H9tBU3CjAQQV412LREeqtR/MZrr/GxyQTtLbjsC00VpAmIjtcabRDAJandx+dlXbUyuM4SbKxIbTuHCRGCyV1JKvCW9U8fHq96dWVDZwNrPDtnkwEU4/njVeal+y8lUbNRjEUKJpMJr33sDV559VW8s7z/zju8/fbbXF1OWcwXtG2DCFRVxdHREWfnZ2ilWa/XXFw84fHjh3zmM5/h7t27eO85PTvh7r07dLbl6dOntF2HMSayemv58MP3uXv3Lrdv3+Kdd97hX/7L/wPnHaMiEiBEsXrnzm3Oz89YrVaMx2Pu3buPBpazS+bXT1iuV7Q2MG0sIXiUdiivKAS8t7jSUozGTKdTVs06cdaUZBqgMgWnkxOUa8j1RoOkeDhTUKqAb1uaVQvaEPCJEMF5RSmK88mYHz1dsLCeoKT3FGRsb8sKC7E2RX9OBBOEcyN85uycItgYFu6SOu6jtyEzPiWC0vHeAoVXcS1JyjjBE5xGiigmnbW4pgPrkMQRQwixVn+2Gh29BR01H4d4SQlBpBi8pKL0cE8eTiRKn3RY8/jxY7TW1HVFWRaEIDhnWS6XXF5PefjoEW+8/honJycsl0ts6+jajuVykawvxdXVFdfX19y6dYv79+/Tti3vvPMOv/u7v4tzrhebdV0zHo/55Cc/hvOOZt3hvfD6669zdnYKAl3bcnx8zKpZ8+TJE8TFCdCRCphOpxwdHVGWJQ8fPuTtd95DCCgVsRpxLbVoXj0/jNUVg4A2mKKiKArKsqIoSqbTKdZalNYRxFWRQzs8ldFoU9D7H7OIUEJwHXVVMbKCQzCFpq5rjk5PeOPePV576TYX0ylf+f0v4Iecis0CDEUrbOdPighO4NwIJ0rAdviuI7i0iD6Ai/phYKPLGmPQhUKLSiBoFmEBr3Vf31UZjS4MobXgPDrhieIBFRDnoxXrorHDoLym9yBpnpVS6KBREjCDYFGV1slLHKdpG4dSAWs9xrRUdc3p6TlKKS6uLvnud7/Hn3/rLbQEClNQmorJeMzx0QHKCM45mqahMAX37t1lPB4DcHR0hDGGJ08ucM5jtNCuLa6bs14pzs5OqA5HPHr4hK986ct4CZRl2ddimRwe8MYbb9Ct1ti2JQSPNgVFVaFEmEwmOOd47/33Iq5DgVEKbQosHSelwUiBtZaXf+GznN1/DR88XdOynM1iVebgQRcEb3HORhMlwGw9Z1IWLFcNrY1FR0SpuDO9R+kaAxxMJvzaP/j7vPLKKxwcTCiMxtuON//Vv2bWNgRRWzpc1nIzxLFLXPm7KEMXFC2Wzno628Xyo46+Pn7w8QUOIoJXCl8UUHl0VUSumY0hrfryWBnXUkoTjCLo2JZYj/JRJCrxOK0IzoNXUccNkEsXOCwZ1HbBk0OeVMLPtmAKJZjDg4Mej9I6Zm933nEwGTNqx7jk7HVtVFxt6JhOp5hCc3x6yGQyQSRylq9+9at4H/okjbqueeWVV9Bas5gvsJ1NSr1mtVojdJycnOBD4PL6aoOUe8/19BrnHGdHxziBtu1orYWELrdti9aae3dusVyvaWzAenA+YKVgfd0wLhR1Ad966xvMvvZmD+yK9xQiTCYjFqsVy2bLhkJAAAAgAElEQVSdFJFYiq3F4kaGtvNYHzAYNAGd9BvlLWOleOX+PT796V+krmusjd6I6/k13/nhD2Mm0U4dAmGDse1D7DOhaee5cI5HV0uOaoOzDm9DNNKdx1mbxFpIAKtgjMG1HaYte8+E1gZdGMwk6pxZpxStCEIUuyKIePBRCqB9FMPKpdJVhuyNid6MDcAcRTDYEKN7JUS4SJLeBmBuv/IK0+tr2vWSzkX5/PjtK5yzaCKmUhaG44NjyrLE2+Q8VoH1eh2tQm04OT5Bq4LVKuo1WmucC1xdTRmPx5RVhXeBddOwWi0IxDeAiAh1XXN4eMB6vcLayMpdCDSXLfPrKyb1CIWwbBo+fPQ4ihetECUUWpiMJxBgOl2mHauRYLGNRR9WKC106yWgkh6RANK2ozYa8VUf219ooVRQi4VC0AkS0aJSgnEK/RHh3q0xzrWsG4e38X2Ny/mSi6sZwYa+nGhI0QlFEAqlUajoMLcuQg5ZHZPs3hIugudP3/2Al1+6HaP2O09IQG8Udz4p/imkSRTrZYOpTF9ExhQFRV3BqIwgq9GIuMRVfdTfXISbCAHRHix461Go6DpKhgUq+2sV2W2W/bORX0aA1+FRQaXyq4L55X/n32Uxn3Px5CFPHj1kOp0SgqJpGowIOukJTZPfIhF6hHzZtgS/iNaD92htqOsR3vvkPlrj/Iqr2TVaFEbH1DPrNo5qEWHVrAhBYQoDQUV/o7PRcxvALzsKZWJ9/SJ5/JMFqbXCWUddFJxPCkQJWglGlZRiMAKlEkZnkUgVgiYpp8HFWla16qEGSe4cCbEKtrAJS8ovOXC5eHGINbwCntB5grU419HhIvblHSiFVoFSaSoTC8AAdM73oS8uA93EhXMCKwW/f/mIz43HvF7oSKgDAnPOE7rBi8VwiFhM02BM1MnKyoFWVCFz54QPe9e7d3QfhZzc2FptXGEhUn3cHzkIIAHXYWMgZHHvvMOFyBVV+jNnZ2ccHR1x59YZ69df53p6zcNHj3j86DHTiwvadeRI665lsVrFxnWsVREt4WgFBu/R0rJaryjLMmEhEYsKIeBE8K5NyrIHHTBRH0yiWUfWK4Gq0pBe1mAkUGSiAKSueo6idPaheiR0MEqOWAlIqsOlJDkEQ0zo7YHNlBQ7dG/E50v8LekxZAtrAEQqYn81OinDgjiHalrGixX3S8OPBJxW1GVBqYWRJPUjCDZZjVrrSFTeD7yMRNePc/xABf7vyyf8s6NTSq2j3pPCj5x1BGeSey5rdz6+AcRoCuPwBFRVsotvyhauNQBU+wRnEC+xIzc8LBtUNRNebksresLN1qXJ7NQbQ1mPOTw549bdO6zmcx4/esT7777L4wePWCxX/USEaJMneQsmodkiHmNAiY3ixkChk4cgBMokblzPEaJzOiLzuwke8dAhBs8pyTh+BCIVMW9SYgF/tE4047Mvb1A/AYkE3OtEkmYnurgU2bpL7F7Fk9GzIL0/MuuWxhSUVcXJ+Rnaxr4o23L03gNefXDF//LxX+BL1ft8bzHjwlo68ZTK0FroXJfcSFHMbhT8jW4DARcE54Uvzud8XsZ8qtJotdHbvI9BgDFIMBNAIBVQxOFQ1m1wuq1DesLYcrMrAVFo0XjxKPH9izcykcmA2BKAGklUBEGlN8dl3ZBIYPmIMtajCqGqSg4OJoyqkm65RPkWV5QRRc8hHEmhUz0I5zaY0rDTqRuxKFmMcc0YSoRsVAr9oK+cGOuQSQIN8/RvXFDZGtPJ12hMtHSyQ1xpjdGKQoM2BtERx9FGURQGYxTGgCkMpSkojMEUhsJEL4PqvyuMjlBAUZjkUgtAwSycsE4TWc8bzh5eIM2aTxnFS6+c87CZ8J3ZnO8vF7w9W/N07elyjdY075uyB4OYtLxowIfe8zvLC37bTzg3ZrDAEaWP37dJNKRzQ4CX7HeUnaLGg7WKc54U9bQ+DDbB0Gc9PG5GRUf8DcAMaz9Ea8FhtMapEoUwGY8ZjQx+rUBUXMQQOYBPAWrayWZh+wiFZLVo6bOyvXdIgCrVH8sAryTsRCUvgtJRXytN9lHqSADGYJJ3YVyV0V9pDFo8hQkoLMG1KCNoEzmzInKiHNaTQUKl1VAi9L7Y/k9tcKqcG7gJa3IENKvOg7d4hG694Ho5Q+yaEZqJKnijFu6Zgk+PR3xntOQLT2a8s2jpHIgLuOCiTioBG2LMHDLw/wVwSvEN1/HGesU/rEfUIW1GIRFY2Mx12tAukWcRNEaKPghRQiQO610ffpPxMvEKcamNkInVbnZ3YvrR2IkEG8ibfShuM+IaWzDZZM5mM0DUTQNaGw4PDzk+PiI0s97HpFIvNg7cCPAVWlEYg1ZR31BK0FVJUUZikBTzbbRB6w1AWBQFpjSUZRH9mVpTaEMxKKu5+yoUkxB0UQpcg/dLvF2Ca/uXQg2jRncz03d/3/fbbiBgH4gXdPT7uWjq29Yh02v8uqMk4FRA6wLlhbFWfHxseLms+fjkhDcvZ3zl4op31h2tC1So+ALRHgrvQYDEXQIt8Ce25bO24lUdN43xbLKzyfjZAIdK6lPwRGiji6/0aWwX8Smle04V0ibqI3ezGhSprx8/SZ3JoVKbh8TPkkRmNi1DSEkf2V3T14GwMZxYgHo84eOf+Hmuj4+SxRBjk4K3tF2DSwDowcEBo1Es7+Odp0g5vVJqirKMURFEblTWFWVRRmwmsWFJ7pgsXkOysmKsmtsCI5VIX5jNKIUpDUKJ61pCCqRjh1CGG2mXcHY/D902wi5xRc4dguCbwLpdsZ6uOF8sKEOgLkuCRI+EIlAWBUprxrbjs0XgtcLw+YOaL11M+dPpjIcdqYw5G1nHgHLStw+D4s/bhru1oVQqKuH593xfX9ZWeuzKOUfTNgTXRQIxJqL5bM+FFo1io+Ntgio38V9a617UDsO+MzfbCOnNPabrotJpE1H5JNeVUlgflc1ifMLpnYrFYs5yfk2zuMbaNaKjW0H5wOzpBVdYlIKyHFEWVWK30ldMLEoDCB5JnEkSXmMY1RVVVTGqa5RSlClPD+i52HDgyseN4bwFLKWJzuyAx2fRNngpZ+7DPu61e+RdHRIx38ieEugaT7dumV4uKGxgFDpMpei6NkE2mkk1jlw3BLwWahUw2nBoDPfrgs+eHvK1iylvzma8v3S02cjpC/WFXoFuxPND6/hVpxiJBmPQqRTUkMjywopIWteO1WpFOa6p61F8rTX0IrL/cxu1pp+XwebeipyQPcS9mZ2eA3rvMfP5HO9ibHsvSoDFYkHbWtom7sRuveT6eka3WlGIQRdjnO1YtQ2X6xld1wGa4IXOzUilSjA++vqst1STmD1c6oj2+2AJwVEYQ5V0psODwxjaqzSFaEajmoODg6RvxeA/rVT0FyYxG1yM69fiNwSxRUQbwrkhAgc6z9AfmP/N7Q2jOZ0NzGYLLi8tSpUcVgbtYyHjUoSqrpNumEKKUvSI955CKXRRcq4Un9clnxyN+febM75yccXXL695t+lw3hDEQegSocXEjR/S8CPX8DmtMdk/O+h7b0kOFti5aFYWRYHSKlmV0t8rPZemJ2aVOFUIHh8kRg2zbVz1hEw0DobWZQZgAcx8tkiiKe6+9XqN87bnaNPplNn1jMV8FpH79LZVkpXinCW4LopPr5EQrSOd4r3KMoOYQnO9itaYzkmqlqLQjOoRoVAgHucWVHUZQVRRrFrLdLbAFDEM2IjGoKjKmtFoRD0p0cqBb1F0GOVRmkSMCoWK4kwii/c5BtiDJALQA4LqReFw4dJn5xy2s1xOZ0yv50wm9wlSwocPkOkSrQxVWVBojRGJOZbO9f5IRdRhox9RcWBKJmXgrCr4WFXw7x0f82dXc758fcUHK4vzMUpDCeAVMwn8hWv4mCsoRGLsv4rBohGtiWU5s1sIoGs7BGK9iUCqsws5073IXo0+PDpvOIGgUVIQVHzbG8Okmqx/5c8DIo+BpoL3gskhNpeXlzx9+pTOdvFd0Os1i8WCpmmifmY3L1LKVmFuPCRWrXzUzQRQXdx9q1V+qIveejbahUocR5j2AGjUlxTGaEZ1SVWW1JXh5HTM4eGESkeraNW0PLm4iICteMpCqAtDIZ6i9tR1QV1XVEWNNgWK9JKpGArQM3ORXHJ9W0RkESnQu0W6ruPy8hIfFGdnZzxdaViuOWgsY1NgQlwoh4sRDZmwBsbJ5hm+X0yjQJcVh0XFJw8O+VV7zjcvpnzx4oL31g0LGyOIA4G/8i0Pu5YqxBq2OqToiZC4rDYR5fISjQcXQ3x8Z5PzW28qIG1Yd6xgmGLrhyHtJP01vq7R3iCmXcLqdbgUpWG+853vsFwuaZqmd/Gs1su+Hpd3MdHU+1htMDfSF4zLVgQxlDdbFMoNdZykTeT0ssyKyRZwGFghmfiE+XzdW50fPryirhVVqahMwWQ0oq5rikKjceA6sB0qWKrSUI9KDiYTJgcNo4mmrBKkURQoZdIulw2B5b7mzZMMkOyp6DrLxZOnIMLR0THL1RpvC26FgtOlxdgUFEBAoQl6Uywvz1PWIbNFHJ8dBWAICuUd98Yj7teGv3PnFr/2+IzvXs/59uyKHy7WPGgaLq3jPecYh2hgFUpTJgU9YccbKCYhA+26icaV9xQhUNRltDaFwVpkGCrRXLYkwzbntc4yPIZE1buxrMMn746Zz+e0bRSNXRdFnVYGL3HHRiPA9i8nHcr6zIt6JFcJpYlgZaYVl/LKlQatU0aQ7aKfapA4sbsTomUbuaZzgabtmC+iO0JrjVFzjDGRw5WGuhBqHagLhe0Cq8WK68s1RVkwnhiOTkZMDsbUozFVLRRFgZRZJKZa/ynoMqRdHd+VHWhax8XTKYKiLiu8dRyMxlR2TPPwCfbqmtB26JQ8oUUiFwvbC5G52TCiQkLgqbN8r1nzmZNTDsoRGEWhAq+i+fjt2/zDe/dZNC3fWy556/EFcrngcedY0VBpzQEFBdnBbKPxJJHQQieMGoO1HWphKEc1hydHjCfjbQNHSLWNw6b0p/eId3gXYtBhehOcTYp/pofOWWxOeu46vHVIF0PZTdM0TKfT5AYi1l1IlqVLkEUvMEIgp6Fl4lJKMRqPOTk54fAopss/ffqUy4uLSKyoGLozqqiqgrqqKFVc4OPJIRICzWqdOKhLxL5K/8as7K1aEc7TdVEEibKsG8dcqSgmS5hUBSfjisNJTVFEf+hi0cZJsEIIBUiBMTVGpyDEhOArJfhgUzp9TONbrxsW8xXOBurKJJB3hPMKdz1Dffgh4qM6IErAx6gKxCUvQzz6CAdjEg4YCazzgbfmFzxF8ctF5LJeBLf2LGcrauD05IDzoyPurhv+raMjfvT4gr94+wHzrmHtY+pZqTQmSPKWRGoRAd8IR63BhhhpulqtQAnjySRmS3nf61wBevjHOw/BEzqLbSPReOuwSdVwnaWxLfNVDGawbYsEKJSmNgWVaLQI5jJFdmaiymyuX9CQIwpi1TvBJJScCIxqnWLpZ1xNpxRlye3zc37+5z/F2dkpr7/6Kndu345ull5tC73+Ic4T2o5useDq6RPee/A2Dx89oGkLpjMdQ6AGDl4JKT6JuON820RAVwmND6ysY7luqedLTo9G3Ds/pa5LRjVUZc2q6Vg2U9rOc64Nk/ERxuieW4konA+s247p1Yz1smW9WlPVNUoX+FCA1yjRjOYzjBOCGJSxKJ/KZjqJ7+2RuBGGQLHy0VOY9AeCGJ56CIcTQqEojMZ24FaO2fWK6eUl2sJrr71GWQqVKMxLFav5iu8+fEwjgcJbnIcqaApRPbquFCybjuvlmnFpkKDjuymtQkuNViZ6IhJzCc7jbZxn31mca/Cuw3UOZ9MLTW0gdDE/9vFyyoPZFSooxlozKQ2HZUWtYh6EUgqzWq36pNrha3eHR1SAo2KqNFRVgQis12ustVRVxfHxMa++/jonpyfcuXWbyWhEURSMqpKmaSirkrqKTmICLFdLVk+f8t73f8C7f/Uj2sUM1zYEFVg7y5pA18bIjQwCD0s65gXz3uJsh/M+Rn+2nlAoVm3DbLni8cWc8bjm9tkBL72kOT87RgjMZnMWixWPH18ymdTUdQ1EV1nbtcznMx4/ekrXes7PzhFxkBbocj2jbAP1g0u0z9mVmxddSQYcwwYT6jFGUf0ca20oCsVnj++yGtVUZYEEhVbgrEVE0aVX7GiduY2iQvPq0RkfXlzxxHU0iXPqoMgvIdOS9WfLdAEwYlRqDg8PuXX7dh9W5Yggrw8xEsN36a+1dDYSWLAemwjMtY75esXF9RXWddwqxxwUE4wRKi3UyXrvE29Xq9WmCMiAuIZYUSCVHELRdY71+jpVDIxhzqdnx4zqEdY1mFLT2gZWgdKWGCWMR6PIYdYr2mbNk4cXfOfNr9M+/JDuekrbNDhn6YKnccLSW+bOxoycpICKbLKzsw+yLEuKIro8ui5avk3TsO5s7JvS4AXnPLaZ8fTpNZOx5s6dM27fOsc7z1VzzXQ663XJ2WLFxdPLGAokitFowtNZx2hUoNcWU0CpFfXFFcV0TVzbuJCua5HOU6oiKaY6vlwidIn4oFCGsogwTFUKhTg+U9VYbRhFVRvbdKybDqUNt87v8dprn0CLwRJ1NtU5DkzJa4fHzC+f4oJgCWgcabbSXHlQwqq1HB4XnL7yEnfu3uXo6BitC2wy7Lz3dNZiuxYfQz5wbYdLWUjBejrvmK2WPJ3P8dYxKUoOJ4eMVIFRJSiPUp5c+ilangnJ7wG5AWEND58yWTaKXZbZgfW65Z23H6CVxpSa9975kHv37vHxT3yMu3cPGI/H0bx/uqJrGi4uLnjz699k/fQRddegnMX7wNp5Lp1l4YQuZD9WdE0JIekGsX+rVGJJRCiM6gHXLK4hvgVMWY9vLV4CVBqlDU1nef/BUx4/mTKqa+qqRimN7RzzpmXRwWRyyvHhhJNbZ5zffYl6fBC5iNKYImUWvflNQljTtGtC8HTNGt+16OTHRWKsV8TOOtquw1mHRlEWBXVRMR6PGY3HGGcxowpdHBBEWM1XXF/PKIqST3z856mrCc468DbiS6mC3Z3xAU9XK95bL3EBnMTQZR1Iir6iKAru3b/Dx954jbPTEyaTCUVRxvoiqdKitTbCUV1HaC3SOXwqSmNtx2q55Ho+o7OWSTXi4PCIyhgKE/VIIwV90jWWGJcWGZbZJaxd4sqmqrPD6yAkrMU5h6WJiuI6sFos+PCDD/j2t9+iqmrGVUmVMooU0DYtq9mMsQQa26LwuCCsgqLTFabQ0QhQglaRY2mto/ViYySnc9lfFpVN22UrNuVvKo1znsoU1JMxtmu5uJ4zsiVnZ0eYqqRpO5qZI1zPadu4yYrxmNOXXubs/A537t7h5OwU5wMe6ZFwp6BdLHAfXqCaFu/aaD01K3zXoWxg5dcE61nZqMs1naWzMbdRh6gvFsZQ1xV1VVJo4f7LLzN6/ZB113F1NaMsCt54/XXG43HkJMOaZD4q4KUWPjY5YtqsmdHFytESYk1ZAufnp7zxxuvcOj9mcjBmNBpTFEWsbtTEklc2cf7Vaknbdfh1S+UF31rmqwWX8ynrrmNcj7g3PqIoSkxRpDzSFIMnQn6ZgoSMvyUCi3rBNnHtxv8QdPJx5iRdj6iANgqFxigdIx8kYHTM8EaEwmi09kho8avI8g8Kw+1bp4xNSaljxKoojRRFVApF+kA/JRkYTAU9khzzIeBcxqfaGOffNjSdZ921EAJLa5muVlyl94FLCCxnDSs7xeiov5lU1MSYgsOTA05Ozjg9vc1oMqGxjqvpjHFdU5dVjEsTjTJCWK3opte4JPLjbrfY1mObmI63bi2N6+jwiGgKDDXRyvNB0bSepl0wUwtKXXL3jmJUH9OEFbfu3OXW8SkH4xrbNeCiy6azFtdZvLXgOwoHx2XF65NDvr+4Qnysul8VitdeusMn3nidsiwpi5KyGoPWsSqjdXTNmm6xYrFcMJ/PWTVr3p1fctIIx2bE1XzGsl0zqmpeOjtlbCoqFEEDmj5eXwPiY9ZXHycW6BNS9tbJ7xWSjZBMwGSgEEFriSls2lAXBXUhjIqCkQajZRP5qTVlDt9BUKJ7t5QJkoqVRHys0D6xW91bXjk2TLRO76PUsVit1mhlCIEYIhzSm2K7llUqRjfvLItVw2q9Ztl2LDtHNR6hFVxfXQBCURjqqqYe1UwmEw4OjziYHDA+OKBI4UN5gYwxMCpRzZrZ2+/QzRqWq4auaXFNh20dq7Vl3rQ01uFDVHSN6JToISmRIsM9EepRIpRVya1X7zN56S5Hnae9nLK6vGA0qWnWDc1i1Vc86toWazusc31ZqbujEdd2xZN1y9FkxMdefZn7d25T1zWjOpZtarsW52JgQrNY4jrL4mrKarHkulnx6PqSQmuCdTy+fsq4qrl/djtCDtrEtSLXsEhxEyEDrS56SRhgmS4aG88msHSoBFGoQjBaGGlFaQwjoyNxlSXj0lAaRa0Ek83THGKsilj4XyvQCi+wWq1ZrtdUxjA5GFMWhtLkgMVIgKIVSukYG2ZMLLGtDUVC5IevlOshX7cBCK2LgKCzlrazLDqPLTVea9qu43J6xXq1ZjQaYYroXlFaMHXJaDSmrIp+DnyweNthp0ua995j9Zc/oFsuWC6W2MZiW0fTWFadpfU+veTLY4JQhLiZVGa/DN9UoilEuHVyxp279wgo1rMFbtGg6xF6VKNRVKIxnUUWK2zb5j0fQ6O8R3vPvXrE6HDMG6+9xsnxEVVRglJ4FWLtMqTPMXVtx/XVlPZ6gdYQbMM4CMwajC44OzllXNaYrSIzMfFXEqIf0kYJ3uOCZfNWuUxgkeC2CCz7oSSZ2lpimpUxGlMoJkYzNtlJW1AUOllyReRcWqVgw2jpVVVFaco+KtUTmC0XLJYXuKZldHzE4eEBdVlSqSIZ9ymGXCQGxhkTi6OUJaYsMWWxSTrZdBzlNxUOh+6LbCG7zrP2HcEpulo4PzlinWqxamUQ0TRtw+ziAX59zfF4gjEG27W4doVtV/j5jPDjx4Sn16yWa1arBrvu6LpA14XkPDY9+w9pgxrA+IDO0SppwQBGkzGf+oVfwF7N6ZzGTVd0yyXHL52jCkFbn52CKN30YTQhkIqZOJzAzCheun+X46MJxmjKumA8HgHQtG3MofAB23ZcPnmKa1oKpbDdmrBYUawth5MjDkdjah05bi6XGcLmjXEM3EJ5nm2wm0iOPP/JrWgyJi8I+JA87zEUpjKKkTHUWnFYaA6LglGpI+FURYxvNwaji6hvFZukiLquqaoSU1QorRFRkXMka2RcVRwfHXJ0cBiR9OhVTkh9R/ABY2KVnqqOsUxVXaHzywJSiHAfI5Z2V2I5m4GmjGTrHCNn8U7wXcy4WSnNMsD06pKmbSgIFHR0V46LEJXlqKcF6Dzu4RX2gxnLeUu7XtM1DbYNELIATIm5uTqhBAyKkmy0xHj+HCakBYqiRFTB8fltlk+u8bMlpozZSm7tsU2DbTua5YrZfMZyPqddLFmvV3Suw3pPc1Dxza7j35aSjx8co7XggqVtl4zqMVVds1qtmV5dML28ZDGbUVMQusBiNqfWNbfP4ptsjcTCeZmo8zz2cWEQuZaPUTXeuxQ6n7ZUhrqS88dIIL02xMc6B0pRGUNdaiaJax0axWEVCSvWd4gh0DqVZsphz8Pf8nnKMiLWCI1zXF/PCAij0YjTo2MOR+MYp+Qdrmno2pbZLMaXnZyeMj6YYHSZiDgmZwzDp/e9F1t20q1CCDhSndfOEnT0Boy85rgoOalKrq6umM1nNC6ggofQERz4oEEcfmqZffCUbrqmXVkWzmI7zyRVZigkBmrE3Jr4ryEn7UpO2EnLEOGXg/EBf+dzn6csx6wv5rhVg23W1JMDmhTJcjW9iI7/62sWswXr1ZK2bWlsR6dAHY15/ZMfo3z7x/x4fc0nujNeP7iF1Iblas4P3/+AabOgdIFi1dIsV6wXS1QoCd5wOj6lLMoYj0d+V6feAK8DTjUEjGOsWAwP8skzkYuykElKBNO7gJL3va5KDgrDUVVyUmmOSsOoLJLSW25i6I0ZgJ3FFoEZk7KLtSZoHXWBFJDXdR1KKcbjMYcHh4zH4+gvXM5pmob59YzHT56wWq2i1XlyHMN4BhVdsh8vh3tvEVggFugYEFcAVHqDh0LhVU7lMnjvKauS0WjE0eKIR48/ZD6f4ggpbCxQoVk8vWQ1W3DdNCzbQOcD56qkFulT62J6XOyGQihDCgFPxszQUs+O+kJpbp2f0V3N8U1LOYpc2toYZGC0Yr5YsFwuWS4XzFdLLt2aclQjk5rrKvC5ozF/7/6rdN7y0t27PJ3NeOu7/x9rb/ZjWXad+f32cMY7xhyRkTMzaySLFEmREtUt2k24YVhGo/1gA35oQA34D+l/xIZhwK+GgTZaEuQmuimJYnMqFskqsqqyqnLOjMyM4cadzrT39sPe59wbkSW5YfgCiYzIyLjDOWuv4Vvf+tbnPD15xVLAZ6fHvBP1+W5vk2hZk9uELOoRR2knngIrrVwb+qnea63G5NrrbK3nuZmQdwkdPp+UQdxOBlhHhaEP55vWaSzZ6CVsJTkbWUIvESSxvmBAlw1s3ahaLbH2j5QSE0U4BE1VU5dVYJD6sbisl5PEMUVR4KqG+dk5jx495YuXpwgpGI4KiuWSLM/8BXAXVWi6TsMlDybFikLUsis9TVFiMDTCSzvh/GynFKDSlCxNybKUV69e8er4iLpeeiXswnFyWnC6aDgtHRjNvtJsCxG8FqvRPQjDGCumrH+NlaFJ6SlHd7/yFXpZSjmbYesKJyxpnmNN7VH2uqYxBXWzwNiapqkwGEws0Zt9DnZ3eDQraIRmfzwmjyMSKbg/OYNY8NW9AyIj2Fw6bqdjkhKkGpCmiWe8iCBcLgQuqIA3YTrde6omNP+9UW1+1z0AACAASURBVDnrvCCKkCAVOk5QSUSUhEiWerBdRxqUV6zUUoIWkn6asNVP2OxnjOOMQRITxwoVxsQuG9j69+tGtT6gKqSkUdo3khtDVZV4lRzl2yUhUXd1QzVbcO/hUz59ccLnp1Nub27hHN7rNStXfdljfRk43IrlrodI53w1bIUNfT2fS4gAibQnN8977O/7HPLV8XPOTo85fnHGq8mc81pRW8GNNGZTSVTAnQCvQMhaPutWjNmL461Bz1ZJnBBkgx62MDRlhdYqhKHGTyvVNWXpQdD5csG5KUkHGXkq2N7b5Ob1Q+aPTvg/P/oNm3mPXhxx0M/42sYBzWzG/YePud3b5o+SXWgsKtHEUeQF60K4E7YFrn2rqzOsVgPD2rCZxNtCHKfoLCXJU6I8IUoTonZmQhmsCp/P+qEhPZCKfpawOcjYGiSM8ow8TkmjyCO2a6Nl654qCgm9CnCC0sprT8iLhlYjaazFKh02UPghDyFDnA/J4mQ+5YuTCR+fTKlrRxxlvkDwAu1dgtnSF1cRMSwM6Oi+K6/iT1wYjAi8eK11NzHlAhmyDa1WWi+0JgTbW9tIIaiWFY+Wz5lWc6QW3Mxy9qQiwksztSJusi18EUG3IQRKj0zTjrv6Zrbk6v4VdsZbmHmNrf01yLKcxnpYpd0lUCxr5ouaadmw1IJkmFFoeDabcdNI/uPzR9DP+f7+IT97cI+jySn51FLOSxI0CUGlMvOjgH4Jg11d+9rvHDBN2FsQEneM9f9XCpIsJRv1yAZ94ryHiuPQq/UfWrjQ3heuuzcmjDTq/XGfQZ6y2UsYZjF5mpCkPdJ2cOGSZ+o8VLQauliR6PywRpsn+VxJI5qGOlRXAkljHHVQ6bHW4KyhKGvOiorCOnZHA7T2ZMRIR13oJRjZmjvwQwmupSW3Q7NBhjlcAI89rbb2dqzc9d2DIixexRMSYi3Z3tpBCsnLo1NOTyZcS0fsyxhRNz5fsRbbeDaCV89Ye7iV1ENbUkkhOi6YUoo4SkiImZfnqEjhJF5dKDCLp7M5k/OCclbQG414Kmr+/ekxExURyYbdnRfc2d7l399/zN8Vgn6jSIuKl8uXZE5yLR3T0wlJFPvCKACgtVnRs0zd4AKDwjQetAYQSpH1c/KtEcnGgDiLPC5pwpSUDcuyrfG7BwjasYHo2ISxH707yunnKYMspZck5HlKnORdxdgaEHDBmLRWSLWizSif0CGlulDlyYBlrXEUfYunqlZgnYOqtsyqmsPrh7y5e0B9dESrSR/HCSpwzTu8srULEVpYa6Gy9RoXDGwtDK6zRDpuWkDWhdBoJTG2JhIRmxubfOMbf0CqE5pHr0iMxCqHl6uTSOmZr6JdE0PQnr8Utll7f/3+gBvXriOMo6wKTGPI8jj0Wz09e7FYMJlOmM8mlMOM/zB/yVEkOKbhz77yBh88f8ZfPHrI/3D9LT5Mn/PB02f8+e032Ulhfj4hkYo8yUjjhEj60GvD9pSyLFe7l+rQfjLGMzJizWg0It0a0xv0SNIEqzyVnMrQVGEVT11TlVXg5nlJhEgoqrKi18tZLqf0ez30OE/o93J6vYxentPLeyi1yq8uT0R3BhVYDBcMTHoDgzWxEuersTjyodXhT5GtG4TxdBJrLYuyoWoct64ccm3/kJNlQdU02EYgnUaJKMwntozatRsn16x3vacqWs57+Pla7rYOyAIXVK9F8GbWeTXA8caYd7/2Ls/UpzQPX2KqitoYjPUSk8I4/1orZ7iCSdrz0NbvzhHhKMuacX/Iopz5ToeQ1MZvc1ssl0wmE47OT2kSy1NteYDkz27d4P9+9IBiOuX7V67x7774iA9fPOXP9g6p04KrjUTYmt5whNbe4yghcW2bqSyoy0sG1hhq26CjiPHmJqOtTbJ+D5XEID1Nq1nWmLJgenKGdpLFYkESJR0R06/zcbhYYCuDSAXLScM4z9DDPKXfy+gPh2R5TpokaBWvtl2sncZublL4tsq6gfk/vo/oLtxI74W01kQBE7PWdNTsNNZd6G0ay29++3ueffGQsZDE2nO2fM7UGtXFijG4sM67rTwRa56KC+Brq1dqGnPBo7VG1tYIUkqU0MRCMNgc4776BqdpyqtP73N+Mg9ESD8nuZCKAkthLSWWCodU4YBqiU6UV4V0Ke/ducsg71MtCqqiJMsz6qahrH1nYTqZ8GIy4df1gkbB3dEhTM9xiyXf2t/n18+f815vyL/cuMIGioN5jdIRKotIVOJzLSto6sbTctqZi8K/XlVVXYdDKsloa5OtnW3y4QCd+HuEddRFSVH6tpKoa+qyJFFxuD7ORzjpD2Kk/W72NE0xxtLv92kagx5vbZGlGVmvR5wkHp/R8Wuj9uuhpDW0Nt8SoX+oEOGgirWj66s/7WAYJ+ShBYSAxgAyRsWWNIsxWM7Oz6nrhqdlyZXNjaBX71FKF9b8huDbUURct8Rp5W09CdCtdvHYdrGCDweX6eFN06zAYbHaFSScb5qoOCId9dl84yZ6mDP53ad8dO8BTxcVpw5qwEpPKndSghCktiaWmgToRZqhitnJeyR4MLgsC+q6Imq09y51yXQ248XZCQ+qOfdiwbyxvKMi7o5H/OLkFf/jrTfY3bTsq4zrwjCfzxD9lGF/jI5iFAITDm9V1pTLgrqoqMqSuii6g42E/nDI9pU9+sMBKtZYAdYZbG2oipL5dEZdVCgLpjYkMgbn80hn6ZCCWKceTA+zlg6vPu6cQ/eGXhozSVOSJPHN5cB6WPdc6/hTy/nuMGsnwlxdp9Z0IQx5nMiRRjGpUtTCq98gJFJq4jRlOBgQK41tamrncFIyXS4wzgWxu9UTh71QQV+rrSzXwhMiFI4rgLCdirJBfrL1jG211nq2NE1XGqqhXSTwijJJFCMHApUc8u5oyGw84IsPP+X4ZIlz1l8NsVoGqqwIioLQNBXVouKP3tzlysYW1VnJ/PwcnGO2qCmrikW54MXkFJUnbG/u8zYN77864tw2/HfX3mBmK+7kfd4UfcrpnIKIq1dukMUpWgTOXFFRLQqWiyXLoqQsSkzZ+CVlVYmxjWdvHOwx3tsmSROfLwuHqyvqZcliPmcxnxNHKa6x4ITXDDPWpxyB1IDy433tfsoAs3aYH8KhsyzrGtORjvzQKxeT5tZY2lvY9dPaG9r+v0t57cXwKv3rxDGLsujUXLTWCKXZGo/ZHYx4YU559xvvMTudUDdlWDMTVHScee35XfhwXdLOqkq07b7Jttr7kkat/1yC+WzO07Nn7O3vMRwNPRU7XECk7Bi/7fCqlpLvf+s9rl054G9/e4/f3X9GWdVe30x7qc7IWWIkWvgVLrkUqFnJ8uUpdlayLCr6+1cwe1uYnU2INMOiYJSnzB/d49rRC75z7RbX4oTcOubHc+p6jpIRvc0NhnGClsoPzjSGYllQzpcsZ57pURQlVe059XVTI5xltLHBwfVD8o0hSitP2jTeMBfn50zPzsnTDIWmKWta6QNnnc+1pD9uTuLzZ3y/lwDR+Ngi0GEmQXdgadiYIXkduGwv7MqKROcyOuzpddta/V98yR5FfsHDcrlEWa+t4NtNEVvbm9zY3+STySn90YhUZ1RP7oMLOqKtq3rdxFZgajCy1bDsalJKmDrs+Fkdlm4AFklZGX75kw/YP9jn7tt32NrdIs8TVOSlOtdBXiUlLorIpeTta1e4Mh7y+XWv2X90csyi8Rt1jfV9Sh9sLVcHY/7ozlu4c4PZv0b8nW/zaLjPF6dznpxMmZ0sESahbzP27v4pb30rYmtxwov3f8ry83sMi4IbN27TH294L2FdWMRaU86XzM6nLOdLitmCsqgoAx3eOosVhsNrVzg8vErcy7zmv7U0dc35+Zznj58xSHOy2AO/ymlMIBKaMMYmgMgKv7bQeJaIB9NDQSP9H29H/qG7vuFaSPyyqaLXDUZ0Ez4+r75YpbH2T177wBLHMePxuBvybWUJ4igiyzL+4Ktv8cGjp9z78EOwgn1hux7khWHfztBc58FWLFwglPvrw8SRdGjWKj2xJigXK/qjIQWWDz+5B/MSe+sGmzf3iTdytF5NYrcYH4AVXmFxPBzw7lcSrm6NOHp+xIsXR5xNzpmVYQjVA3VsaMepbRj88/+G30W7/NUHD3n4+c8pFkvPOIkcsQ7JOTWjnuLNO1f59nd+wK2777L/+CF5mEVomgZT1RTLgsV8TlWULBZzqumScrnE1GalO6YFN27fZv/wgDSKcc5RNg3n0ylfPD/i6MVTbg63kVJ1qYIf4zM0TaiYnefXSQcqoAZSa5TWOC2QWqHB6+kKv9RMSoFOlEZJv0ewHRRd15647M1aHKqd5JZdYh2S7EtuZmW0liiKGA6HzGYzptMpy6UfsE2ShCTLePPWdf7062/yww8+Ie8NyZPYT5kbf4pkBEaJTkOV0ARvLa6j7Ia8qh3F01r7xnu44A4LKmhkBUPp5Y6DnR3+5uj3bD58yW4lYVEQX9tmsDMm7WU+fZACi0EhaPBfO+ewuWCoRqRZzOaoz8vnRxy/OmUxm2OMf+/f/aPvs/VPf8D/9sE5f/+z/0RTWa5f2+QP//Rtbm2l9JRCC8f5vObB6ZTffPaEX7x/n48/e86fffct/qtvb+N++wnF0ROK6YzJ2ZST2RS9MWC4M0b3M1y6oD56SV0tMBZ0rLl59zoH1w5BOeq6YTZb8sXRCz55+pSX0wU3xxl729u4xmGKikoYls7RaIFNUoyS1EpQaYEVgqquKZdLnKtwokBaCbUhLS19C32h6cnAqGnD27oG1peFyJX/ahO4kNiLlZF5nvalvmAAONs2Tb/fZzQaUZZlp0vmKbeCfp7xJ19/hzjvsSTh5PPPKMsldV0jYo2MFK0es1t7P61X6hQaw5ynEH6TWxxFqDDF3FWOdqWRgfDh+439K2zsXaU8m1EfvUI/PoNlw3LeYK9s0htmiEivcs61widSXqJcxQl6vEEiNb2kx4sXL5jNZ2zffoP+H/8Z//MPP+WD355z68aYf/1ff5uryxOizz9D/vYVtoA6FlzZHfJOL+N7Xz/gwzs7/PWvPuOvfvwxN/7Vn3D33YjFwy84e/CAZ2czRlf3OLh7kzhLcIuC+KpAD1Ne/vYewjqu3b3FletXUEqxWM55+uIFnz094pOXJxw3FXc3dvjWrRvYqqQxjlkas8j6lKMeVS+liSS1COI6tF7NMDs/pTo/ISpLUhwDqxij6AmvlZHZduLoAgIuOqO4PAgiWipA8GBSrIdI2bEHLhtYV0mG50rTlO3t7QuJdl033etvDId849ZVPrn/jBezCcenx1xrrhLbxO/rUTJgV67T7UKItZUtQVMhFBDdQgKlOxpKiz6v8k0HWrE5GJIIhXv7DZ794pecPz5j42yJa15Sny+obuzA3gjHSqehEzSxfmIIIXFKdUvClBAsucL1f/Gv+N9/+AW/+f2cb719lf/pT68y+smPiD97Qbw9xh1eRd06QG1k8PkDln/7K1Rp+Cdv3+Lw++/w8+NzPj464zyJuP7mOzz45YeU1nH1xhWi7QFSS9JejK0s0u0SPz0ijWMOrl9BaMWkWHBKzXKcM84OuTXOSR4949pGHxFkqc7HGS+ubFMnPZzSNNbSYKiMbyPZpsEZvwpbKslAKK7JjD2dMtCKPBwyiyAOOrwdZXrda12GKHDQpW0hNArpx+dFwLU6oPNLfd8K9NRa0+v12NnZYblcIoQffVuvNjeHI75+J6ZHzcnxCSdnx/T6Oc5Kj20JhwhbcIVczWx2rxVyhI6/ZCxOrrwNrfdrMT0EjXJEvYz0dMnmwRUG3+9x/qP34fERclkRGzC1w1kQG4mXELftUgobdvvYsDDUP3cSScSgzxvf+2/58fMB23uKt4TmX//xIcm//UuSJzNcr4e8fcjy7g75H3+d5eePaX7yEfpsQdwYzM8+4rAyRN99m5+dTpB7t6jSd9C3v0L59D7p/gZ6GCO19oxkC6SKjTtXGTs/y3C2mLE8GKC3Bmw0lkFRMnp1xnhesyciqsUSk0XMdnosYzD1krryFB4XokxtvL6HMw1ZXbNZN9ySOTsDRSI0YMLwsfFacKE/rC8bQGtgFwxPBKwrfL3uzDrDbBP9yzkYoW2kFNR1h5D3+/2A3jcXDKydUIljzTvvvkVRFERJilV+073feuJvZotVhU2dayxWu8J58UubWkB1NcEeWBnt53GQ5hk8PEeczBntb2PfuY2dF3A+xbqa+LSAz47h+ggxiDHCIYMX8ywF5+dHjTc+ZyE9vMV9vcGrkwnDnuZf/NM3GP7FX5N/forUMXLR4P7jr6jujUjfvUucJF6ZxjmcFMSNxM0KDouC6to+946e8fvjCd/81rchKcn2NlC9BBF4fdZa0JJsf4v41ZLjxYzJXkZ0YwsVx6jaoqoUISAbD5idTEkPt4mubjMc5eRWcj6f8Wo+Z1k5zxEzBtvUqLqhV1Zcs5Y9qRkphWtqzpsFVbXEGuOb+dJTeMBdqiLpOi9rD5/tCKVfC6Wvz1S+bmCOQIsRICKNVALXGOJgaC2cIKWj3ZftWZReycXFCicdZVN2PUlhXAcv2La6DH+3Ey0OG3Y9Bi1FU4fPF7T2hR+obZc3KSQySamdQC4LRltb5N8ZMiVm9sOfoQuDbiTKGBpZoq6lNKnA2NpPM1m/GsdaP/BAY7FOs3f7D/jp/QnFvOTG1gb7H36B+mKCIMY5iXDWb6c9n1GcntHbGcM4Q8xnOGOphCJ54zquWLIzUfzwswfMC0N5d5ur3/0qapBhtd8yBwLdGJRx0MsxTya81DXx/gE6TdA6ghhk4g9AemOXarNH8pWrxP2cyDqMsUSxb+Kfnp4znS0xdYMyFRsNXGsEm1IjK8NZdUZdexJpFMdkaZ844KlaCoSwXmW6y7kuhLRgIJdaRJ23Y5Vgr34uXwuRLbzQVpwIcG0I7n4PnGuw1vc3A8NqrWHcNqYNmDbva4K3XYNGQg6EBCFakeHQc6hXPk0KgxMeoXZO4kQYW0gjZJ7ipksiJxB5j+bmFWZJTLRYIIRDWXALgzw3JDJiaf3pNq7BuDUA1xpcktAMdjHFYw4O+/zhdor84X2SnS3qVyfI4PkaBdGipn56THP9CubuTUSeke5s4e5cJ/nmG9Tvf0T26XO+eu0qP/r1hzw4hls3drDagMTLx2vtWRHO0vRiFrZiHkEaadqNvs45f9B7KdHhFpNjSHoRMtG+swJkZKh+ynA05uTRM149eES/sFyNMvpCBrR/hhR4WlegzcdxTKTXHRE+yV/3SqvAsmZpa1bTAqv+m4u5W1eVrRlXO7W4nvM4vJz2ylDxybG1mHCDGtNA02Bx3SgcYQVwCIrd6pjW2Lv3FhgdHq/x0InqJmWgaSQiLJTqjFkIXAKqn1I+fsH5g2dE13Zh1KN/6xr29B7COLSQKANm2RD3I2rrqI2jce3alkAvdpZ40GdqFRaFqWF8UmHymPR779D82x95SnQe47YH5Ic7NAfbuDwh/e9/QCQVTRpTa0VpKvqbGxRPfstwbwRaYRZz4mjkD66SiDhCRhEy5EwMM8p+xFJWmHbjeriXTghErNHbI1S1oBEOm/plrUprLA5tDPnIMuyl7GQJ0aMT4nmJKUrmizlI6dtMqqVQOd/HRKCVtwYnQpL/Ou34Mqi58mArg2jhikt52NqjLRA6WINQQDjX7XXWoh3qDL0/fHtHuQjtApwQpp1QGqTHtETLTROr4VClVPCqIaEP71sKge4mqxxCGVTAyjy04YWCHRKZxZhygm4cab+H7GWIN25y9tFDosb/vnQeK8Q6FIIqhGgvr7RKE6IowQhBf5yzOUhwL4/Qb12h/tZNdE8SbfZxe2PYGCLSmCbRIA1mGFM/foV7cUbz7CVVMWNjdw/rKjZouLbVYyspiCOfJugwlAwe8FRpjBlm2OvbLF48o2oasoDot7cDLdH9jMHWBnXTINMYkSZeYjQA484ZdC8m3hwgrk6w957hnh+z3ctBQFNXONeA8xvjhDUo5+8l0vea9WVIwpMA7UVSzFpCLy9k+GtV2WtGumZkl8LrqrUTaDHCr3KWEDr6rtsyu/7ehIgAFYDWFTdNrn3tn99DD21bSADKhPDtLEKHspugK2u9FqvVCnoZWIepas9BR2FHfWQcQVO3ZusxtbqBOPhP4Rd6OfyiCq+SLaisoWyWjIZj5EtH/M1bFFe3EFe3vXrk2YLm2TFu6ls8w2++hZzPmP2v/xfx0zNEVSGEY/nuLcCgmyXzJ59wPpTItw7CYZM4GQop5Vs4NIZka4SaHHeYozRmNREvBTqJ6W+Mmc1mWCVwWtIIv7CUQEZwicblMQxT3ChD3ktJjqbECFxdU1VLjHGeYi3anrDHzKQIvch1AxFCYu0q//GXT3UG0qqAf5kxtfnY+kNK9aWeTYTK1CJA+vaobb2ZAJTsOP+iW8Gn/HuRspPqDhBcl8sJJIjI51fQKWCLdluItQij/HbWtoY2ftG7EAI5zNFSYY+n2LJCyQiUQnSQtL850glc6VBZjBINUQPC+TkDIUEbB41ha2PA194dUE4niJ1Nv3D9px/TPD+mPjpGPT1DzApkbYiURR3skmwOoaiR5yVGGFzkqB8+Iv/6TbLdlH/57bc4OX1JYyRxEuMUnnGiwuiJBBFFxL0MkXlywRivEyHFKm+WWqF6GanyG4S1jlBx7OXXhfAjh+G+GqWw+xuoKKKRD4knM2JSdOEHqm3TeDZN+P9W+Gr+Qoj0p/91b7S6geJLfvbl/776D19uXG3x0FGrETjlT6EIOhbr42/+oXAEgwu7IqVYA3pDOPet/lDpOp97CdMEVoCBJoT3bg6w7t6q6qUkWUJxdAKvTlD9HmVVYIXH11ozi62gqSzWCiqtsc6GnZbKT+xYhy1qdDHjR3/zIW9+5TYuiVn+L3+JmpUkzhJd3URsDrBbI3KpmX/wO+yTF5gb27A3hgcnNAJsJImvb+BuDRGqYaufYYsUa4xPC1SAlsSqHSwjTdLPidOUJuzsdAKEDrMD7YIwPDBcm4bpdMpoNEKruLs37VY4pRRWa9xBSqEc9rPH9BY1mVLYRdAPDnCTgA4A119mFK/1Hy8Z0T/08y/73X/o0cEia/kdSnbuWawty+qmuJ30S6jWjUl4V951FOACXbmdahciQjiLM6rjrqH99LILYV9I4dcoJ5pYwmA0xKUpejTE9HP0YuHJlU50YVXhhW/RUVD4E51Ks20qUjPnG19/m6cvTnk57HMlTYieTeDGLu6ffcOf9MkCXQuU0JhnL/3uziuHNPq+l8bMM9zuCBUYwUkKSZKxXCwZjAfd53ZBMgkhECoiygZsbO9yfPKCGr+vE6URwi/KaKWxlI7AWF7NX3B+fs5gY0wkV4tMZYgYyvr8We1tYR0sH70kU34ttZkX2LL098n6qW9waJ81XPRW4atwr9YQ8kue6z/H+P7xh+hOihStcK7o2BHrQxrdmwuaFN3vS78dd8V0FGFE31Mr2z2UWIcw4fmNC8/junwBKZCRxrkaKwVxPyPp5YgkJR4Nqft93LEX2rMhhBNrRBKhtfe8XhLAc8eElNBU1Gcv0O4qT59MeX64w+E33kQ+PGY+XTAwgrIsccdTljtjZJ5hn55QT5eoazswykkbw3Q3R2/3cZH0osNhcno+X2CaBiV1J+XU3QcpkUnC7sEVhAqFUxi29X1hP9BjhG/7ZD2vFH5ycgLTKePxGOVWE/RCCJwCg/MMip0t6rJh3pzSVwIdGCzt1jfpvEfVLoSXFZgAq0BA5xnWi4HLSP/6z157uIvAR9vTbEOkC0bc2BZdNz75l6LTBGt3P6IJQxzhqdswKwg6ritIZWWU7TibC2wKD8CalufkHCiJlBFSK2xtAoCjwvODUyLsCw5PGWlkFiPHOYxSIlehbNPlNsoY0BJXwPzFU978+m0W1SEffPw5W7d2uf3edbj3BE7nVI+eo+6/IvlmRAW4owni1TnVKMVd3yKzijqak49yiCIIKtaRjmmaGeWyINO5D/2CMCPqr52QgqzfZ9PuMDk99bKjCEQURoGlJw5aZxGRozcaYiScnZ8jZ1OG8QYRq/Db2YkEkaXI7TGzoiKazOnXKbaowk4FF2YlBdrPJgcLZfWDtvR3znWVxwVPtWYs6wb3pQ8Pwqy8UPi+Na4WoGyNxjejHQRqjlDKu/RQjku1ogXZSGCV33TfGrtrCwEIsgi+QjVSYIx//qrxwKjnm3mypZYqAKaKZtlQTufgLOXZhOVsQYpDKOEZFZFGj3uIQYK1ClrhEAHGOXRTI+YCt5giT5+z2dvkfil4HA3o/5P32Ixg+dFn9I7m1Oczln/7K6K6wQxz9PNjameI+jmz52ckd7ZwgwRtA7Bk/JBzFCmWizlpGiHwB8MI1VXfKO/Zk6xHuqxYLOad3lsTh2ig2iEdL4nZ12MaKVgs5ojJhNF4jIoivywer/HhjEELMGlCNeyxXJb0E4tKI5rCV+ftzKk2xqLUWoK/MoULnuBLMrUL/76euK88zAULe+2xLgewTmVu2Q5uTfDEb631JLcojvyQr1JYaSDABp13FWEwxK3UXtp2khSiA3PXvXH7tcVXytn2Bvl4iMliGqXQdViAmsaQRLg0QvdSRBoHDG1lYMo5qL2Bp7LAPL/P197aYvHGHn/5o19y+s4t/vi//EM2PntMVXyCngNlhY28B1/+5De4jQFNP+fV17Z53JzwXQmmLnGNwZgSqRxpqinLOVWVdHppRnk1n5a65KTHB7O8x2I5Z3p+jnOQJanfDEKbY0U4BUpJhmoMWrKYTGEyYRxHaJ34w2glzpmu/yrTmHlP0asFvTT2StXG0pKo9Ot5zirxXgdI15KzNaP5z8i3xCr0XjauTvvgknG1ul6288wBE5MSqbVfURJZXByBUR0nXwiBFWFVsgtiHXhUXQqQ1oOk1gpcs+KDrUK/O23AtAAAIABJREFUx7AcEG8OcImvDuuqojGGKIkQWYLqZ4hRDznuQ9q+tu+hgqfuEHmPoAQ0xQLz+Ud8+/Y3Md+4w2hjh//jw4/YSmL++Aff42C+JDo9BWNQkUIMcs7GQ35nDD+595Cr2ZJvm02a5cLPFuCQSpBkMbP5jKJYkKQpQkic9CKq68PPTimiNGUwGHL05IlfaJElPn8MswcC50OmNahI0x8N0cDs7JzT58/Z2N8lyvwuTydW9CgdR5R5xnJRMUhikkWClX64xhFEgNdPcNtuafMjvtS4XjezyzRr1s3vgldb7TFcX4K6HiKttaxy8xXNRgWtUyv8YLrUKuzn8d7JSV8gGCeDGoz1g7/ah1sZcjFcg7W115y/zNwNeq+mbqjnSxbLBS9//Ct6VYXt9RG9xOdf+0PMTo4TBmdrz+60YUm7tVB7UEVYR10bsnJG8sVHfG/7Gp/bBa+Oz/nhw1P+Ikm5sZdz43DIuJ/jHMzKmtPHJ5yXNednc27lEcY6ZCQ6eEZYR6wiVOm35Qkh0FHcQRZREFVGCA+xCEk+HDBYjDl98Ypkco7OcnSW+OuMB1h1EmOsn3OUYghScH56in3xgq29XZK85zl5UmB8MY1IMpbpkkXl6KUJ0tS+b+xAE5orWK/f0JpCJ2PxJdHtQmW59v2FKtO7rgu/7pwPP9bZjkXRbnCTkm6lHx5+RbhVniYILOnQ9HbWhwFlDIrwvKb1vNJfMhP48AKcbOcdBc75iWznLtPDw3CHluTbGxilKCdT5ONXHm/qp4heAps93MEIlykvtObaN+C7IMJ4JN8ah4saolhjygJ9+ozhw+fcHh3w5//kbX5+VvD+p084Pp0zezyll1W0SjyShv1BxJ+8s8/++ROkKdF57GUwG4Opa6SRREpTFiVNY1DKoYT3bjLWKOWRZCnAhkp9vL1L1RimZxOSXp+4l6J0Avi5U7TyKo3Oq2NnSJxQTE5PePnyFZu7XuefYGSN8FVtGUfM4oYs0cg6wjYVrjMwF94Y/iI1mAvGcnkgxFq7KgLCib2MhbW8ChM8WNf4DlBNVVUsFovw/AKt8afTCf9b1gub2KCKE8UxSkuccoE86GcdnW38hemKD4nsaDthdyWtNoYAZ5FutXtpPUXomB9JjOunLOuK0/tP/IRw3oNegtgeIm/uYDdzHI1f34IvLDBhcSfW42SyxGkFSdjvNIjpzWfUf/dLzI9/zbfv3uDu9QPq965ho9BkdpZYGEamJH3wBcuf/46eM6Tv7EEvoSm9fGdT1wjrSHRERUXTGOLYopzB4cfnXOh2KARWKIyQxA42d/c4s4bp9IxoFASPpVqlMgJAelHkWJANFbWxnJ2dYV++Ymd3x2uTJBHCGVxVY6RiIQWVlsjI45jWGJ+DtT1BFzxE6zVaY7mcvK8//tEsTPCaB2wNsigKZrMZSinSNKFdpde+ng2EPWstJycnjEYjNjY3PVwQHu0gLfhWiaONxj7/siaU7taGpH+V9/nNaq7L33yuZjDhepzOz5mUZ/z+b/4Td22CzWPsMEPd2EHvD7HK4YT0eA+E3eFe/M4Zv76GWHt+m9WU1mCdId3tsX97m6MPH6J//FPO5+cUiebGe3e5+dVbZFpSTb1Wq5gtqLOUihpVei3+5XLpQyKQRUlYOnFOWdckcezJjo2fA9WRhyus8yN9Ungt3FwNwRmOX75idnxGkqZEeb52yIKTCPRv7SKGoxGNMcwXU2azmcfJ4ogIh2scbrmkFJYaR09H1FrjAPXn//z7/8aP5atO7Q9elwq4DKRe+L4tBi7AGAHvQrxmhcvlkpOTEyaTCUKELRrSs1m7XMzCvCj42U/f5/H9h1y9ckicpV5huoUW1hrcwKqRi/NbxJoa01Q453f4YB22LKiLBdY2PjUQ4cWEQ+IoFgVmWtO/c5WTF89pfveATEckB5tkd/ZQN8a4xCv3aanWpD19CG/nFFxAsy1ej1WpCBVpojRB1hVRbWBZoitD8+qY2f1HcHbGsJ+y0ctJYolRtmMqqO0RZaIolkustURxTBT5m2itZTFfIC0ksWe3IjU6inHS52AtbarVENFRAlJRTKdYLFmeo2QArF17FX1k8LfS46HGNEHLLFu7/r7H2yxLsrImccLLQrHGyffQgOjG3y8b0v+fj9nUn4KqqojjmKZpQt9xNeB6Njnn5x98zIN7D/jq3Rt+BUrTIJQ/BUqtqlPnVrx8fwrDrkPnhzzKokRNS7RW4d/NyjBbj20tjYDGGqpYcO/ePX7zH/6WG6WBw23E3W3UjU1IVfCS4jUHLUMLyq55fBFAW4FfzjqVjuzKBrlVVLMlw6qhaca8Oj3m6PcPsMuS2994i40rm+S9HmXt05Z6uoStHCEliZDEQc5KKUW/36dalLx8foR0MJSbWB0hq4pIJYhIrzwTHltUzgOrztacz6fkyyV5P6IVzVtdS9cZV5wk9Po9yjBv2umXRJooS6nSmEYvsW5VMK5VkV6JGSnR0r1mWP/Q11/6b85bfwtvOFYX3RrDcrlkNp1S1TW9Xg+BB0oxPpSdz2f8/P3fINQGe3tXiHUUToSvDF1jQa0WaYYj5gXk2upXrCg8zlhMXWKbMA2lZNfU76jWwciEsxzbJR/87AN48Yr09i3yO/skVzYQWeSlykXoDKy55nZU0+FobE1RFzgsQsnQYPav1VjDiYTxbo+dd2/yyn3BCAfScn5+xuLZCUfqHiyuMri5T5xlmLrxlJjG+dFAKf3+pHapfaQZDkY8/Pw+93/3CTfffZNUK4/VOY1zEhuAZykESIezEhlH5OMxpXOcnJwRRQlx6j1ge9DBt3OFgkgKeqLvD0u7i0hrHBYXec04E4gIbYUp2/6Rx566NQidZ1j/8//p0brnYAfGGuqQ4BeLApzriILCOuqq4Re/+ZhXRc3WtSvs7B1Qll44zV8gT+uVrsXnVkbtX2LVzlJKddLnHd4TxDpcmAZqwVg/DeQLkZ//8n0+++1H7O5tM7pzyHh/hySO8WP0rtsK61hLI4Jx1U1FVRUY1/jwEqACpAhLqgSFcsxHCc3ugNEb19i4fUh/NGBjNEIAi7Mp02fHnD164Sk1SYwta6pl6euHsE/AGp+nOgRxkrA53mTx8IgXv/+c6mSCKQqapg5EQ//aNoQ9qVQI2Sm9wRAQnJycdFDL5bSovXZa+5E8v6szYJeIToSvPXQi9Ix1WZUgIJLRyqis9RJEfDkEsXJUbgXE/gOPy79vjGWxXFBWJVKorpIL9RuPnr3g73/9MTMExyVsKs1eLDyFOsAMLQTyD7zgqn2lnFfxsasRM+FW78lvuPXIt8CX3LW1vHr+nL10wP71Q/pX99B54n+3akB7LQbVfm4Z/Ja11HXpV0O30Ievli5V5AKBoswki42UodylpyOiXsrZ549Iz1OqYsn85AwZayZYlrMFZ5lE7vX8gIdSWOnxPtSqENve2aHoDzn59T20k16oOI7JAj62OoyrQWgnJFnuD9b52RmTswmjzU0v/NL6iC7c+25KkiQdvLSOa5ZFQVzXOKLOSPVsMV+h5AEHspe81Zd6MOFPg2rL/3/MwFpIw3mFlnlRUDYNaar8DmghQcXUdcWn9x/z+GxOaR2T4gGJafjenRtUVY0UymuStXoVfLmdtUWGlNIfFKW8jqjzOBVt9ei18bAtsOy8WFtfR1w72GPr+iE6yzz5zhik8buWJCKwMaz/4zw1p6pKrGlW1dila+Z7vBoUGAHzng+3PTckGaXofgzLmpcPH1FXFZOXx5yfnnF6doZ685Be6HtZ57sTWvqFrQQhmThNEYMM+djy7MNPKbRAaEWiY7TyxESHW2F3eFRIakWSpfTdkPl8QZQm9AeDC2lSi0UKKVAySKCvdV9MUVKezxkVDTKLu/ugy7IMYnJylcO0FyhksevjaZeZFP8YhEGX46wswVjLvCxYVCVoSW0tQnvGxHRW8uzsjBIoG0siI5raUDd+R/TKZa/0MF5/zVXFI8DrtTv8UnPbLgV0q4MUVKKddRhXgVly++YBt+++RTroAz7x91pfbVslfHZCqLKWJmjOri+HuPDu3Or9gcAIR6nhtCepZMI4UiRxhFtW7A4S6uUSsyio5kuG1/ap7uwyNTZIWXlJhCzNcM5r3lrnsBJGt6+yf+2Qzz76hKPff45MItIsYZzEkCaedBhy1vb9CSGQWhP3Mi8+PJ0SBUmv9XvswjUXwvPJWpawsA5TVtj5klxmEK6tUgo9XcxxeMBOSd/Hs1oFGnOoKPA8II9YW7+WTq6J6jpCrkHbZfaTK852JbIIcdoAxknqBsrSu9k48kwJncQ0wlJryWi0yR9+9zt88ev3QWny4YaXiQxidC1Np8251uERZ123/VUEqk9kbBjWqL1IL6FBzUpvoTEVi3rJ7lf2IbcU9Rl6mXhqcJIinPEbbTsWuMBY35FwjVkdJhfoQ+Hkr0DGNhp4Pa3GOmpnqSJYDmCkFCmaSOS4GJJ+il6muEgxyWIiIRFaE+UZ6aCPimJcY3CVD5WJSNm/exMc3Nzs8/kvfsPTTz8j2+gTDfvk8SZEEcL6IgHhVRm9vpfPytM8ZzqZsJjO/AocFVIb4fyuTBdhACcsRoiwidchipKoKEkHPYytMdLncnoyPfdrT1QrgusvhA6hoD14svNoortQF9xn+/NwOrpDG75e7z9Kof1CUWNJ47gbS7M2TGwHUd3x5ga9QY80y0kzDwS2xMLOgwnWvr/oMERrgEqg4gjRFgKN9IqHQYIcJEqDQ5GlOVrpIMqniVO/4c0zTizC96TAiaDPWmNbA+NiYdRuf2s/f/vz9eZ+yCiZO8upduylki0ZkSUDvy870VTOIPOUaJAi84x0NESmCbUU0FhEEhM1KappqGmwzjJKDrijJb/72fs8+P09+htjsjz300fCD8a41iEEhq6gXXGT+LV/dY1o98SEJouQvs9rhZ+ncNLvxRTLksSCltKvHAz/V8/nS68jqqNuAWhnI7L9+KtcClb4U/cQr7csX7vhbrVISQhf5ppGdOt5/WKt2O+flIJqMeP3H33I/OyMdHNIWRarrbctN16I198LrMDP9s0Jz1YV4NtRTeNzKhXCv7V+EihSqNgn50pKv1wiikGuZgNUgAhM3QSV5sZja8ZQhYqtowjZ1Wd/jY7Ufh9kPP1SVTivLI8ry1BGbCQ5wzQlUZJqs4cd5cg8Q/eHHluzDiIHxiBMgwpCe9ZaGqUZXt3nDfMen/32I14+esxwZ5tBmmL0mq7bWgTwq6shS1OKpV+jI6PA4beESlIG1shKwK9WCmksmY7RStGEVEEpha5qw/ls5hczJQmiKEJ1LUDLFTLNqvPjhD9566xU1lDf9k9LZGsNrs3hZCceLNaW0UOkYw62tujHT5hUJbPTE7b7PfJUIyP/3JJ2vw6dwb9mYCsr7/5IJ3FxFEa7pFeKwRtWe7Ml0ivkrB0Srw8ruxsghMAGWXAbNmVMy4JyuQDpULH0m+FkRNttWDcoa9tGf9Xtyi6LgqqqqcoGU9TYynvESEi2YsXe7i4H47dJ8k1k3kMkabfH3DmHNTU0+Ca78NIMSltEZhlfO+ArsWYymXByfEKysUHU1x6wXoN0wGNdprFepzeKMM55XTYpuw0mUnjV7I4K5BwyLD/thYLIwkrZqCwrhK2ZzRekqV9gqaT3Agm+lJUIz2xwDrNGWZZchiEueTsh1n62sngd8qI4jjFN08Kc9PKc7UFOL43It3f4Zz/4AYuHnxJLE6Lv2vO1xvz/8ugwKiU6AZcWFZJWr+0rsqG08vgO3akOA60hjFdVxfT8nJPjE46eH3H05Dm//uIBU2PYGPY5vLLH9WsH7G1tkERJp/JTB3XnslyyXBYsC7/zsSpKmsLvYyori6kaTF1ThbUuCkifPuG/2NnkjdvX0FlCHPvNHa1atnMSqzyDBEKnQUYg/R6qsY6Ih0POzyZMT87YyLIw/OFdRvvZjPXwSgPoKMLr5Juwz2KlrqTbgxbSHhAkTpIkftLJU6sCo3VeFEDKydkJQlhG43HoxCssvvveLmmKnO62c3mquww4T5vIu7WbuvJynbid8wwIrR1R5EsH4xwNgtRJsIZESg76GZ8uJ9y//4Dh+YTB4Y5PNq2hcWF7rhKoLx3OXYMw1vGnrorzF8iKVYkvAuDqw1cT0O62kFhNii+rkkdffMHf/+2Puf/gMXJpGVrFtCp4iGMylzw9fcJPfvEhb17d5cr+Lv08FE/h6tTOV8Sm9n/XVU1T+9UxVW1oquAdnfGv6hzLsuKTzz7l+rtvEg1H4RC0MwzgkDihcdKivJsJa539tLpC0ZcR1gjK+ZJmOifaHCLwE/bOeS/llMIog9V+0l1hfE/XNmGoxY/p+Q0vkZfSahqa4wnRpCCKYpqqQkrdVe3q3YPNfxN0amiaOjAaQtJtAlIdxsDbqrINh61htY82uqw3oFs33Hq2uq6ZzaZMJhOcs2xsbDAYDOmlKVhHWcyhNrw8n/LxZ/dJbcPbt26wsb1Flmc+J9Dtkngd8q3VMgj/fuUFw/MhcgXQugBlOJ8L+HZOmMcU2rNm20X0QkssjrppePrpF/zdv/trnj56wnS2QFnBWEsSqXk1L6mkIuuPOJ+VPH72grJcYMsCuyypi5KyriiLimJRUBR+6UKxLFguC/91UXc7NY1x2MZhGt89mM/n9AZDNvcOUDruwm7LQGkjiFpDb9p2WEudkkqGhVeGtJf5z9wphovOIfi0VSJ926C7d75o84pGpmkoFwsmn37O8hcfsavS4FWbQJfyUVCXtcU0JeQRQgpms4XvSSVJh3SDgESBtkQCL3O++gQrD7UWtb5MVLhFj1VQAGy9HcLTbaIo4srVQ06Pz3hzMuF88oyz+RyL8xt2tR/6EHK1E8mjyxc3jhDG3zoEGjx3uXsvHgRVrc/tcCvP7Vr9kq+ejXGcPXvBk1/8loGRbCU9BjJFOMicY6gU816fX55NaBD0einPp4Z7j5/jygX1YEiaxmgd0bQFjm1ompq6aqiqJiDjvlHv01IZyJGWSKXkww2cTpGxD29NYIl01zBcYydcN/Xe5UkIhHPEpMRNTWM9tii06nh9nsRJl2taEZaFiTVZ+FD1SmUxy4pXH33C+U9/zdf2rxKnEY0JPD4cUstWE0RQGAOFC4IilpPTM4RUDAdDnJ1TFBW9nqHf74XyVuK0ol3L7mQ7q7jan+g/uKfWdGEqGFiWZd0miDYXU5E3vLzf5+Bwn/PJGbOq5vHJS86m5wi8nLmUKhjYaorosoG1wyLdxacNFy70ttsbEuAVX5EEfGrFiXLOUVlLrSS90ZgbW7uMZyW6qmiEQVlHZBw9IRjnEuQGH8xm2DwlT3pMziY8EjNsaennfue47+lbsAbTNJjG0jRewdm2vVGh0HFEbzTi+p07vPudP+Tue+/R395FZRnSGWy5QC7mYGr/PO1chTCBIbI2p9DOfAJZP+9Uo40xHq8UXs2Q1uMFw/QFjuvmHX1RAbpuKB694OWPf8Xbow2GvR5WSuaDBHN8TlaUXorLgW4vaGUsi7L2M3eloKlfsVwUDAd9sqzn23nWkvdyjNYknTv1gKp0KnBJ1xJ/SSgO2vxcoHXEaDwmz3Oms5mP00r5pq5SREnC9u4O5XKJSiO2hwlNVXaiviKo6bSJNwGHcUHTwq550fUQaSVrhhSSF1qBlPBtaEa70Aw3zlFHEfRHqO0N9hrDyBm0q5hNZz7PaAxxY8i05k8ixa6WfFws2L2ywWLQZzI55XRWUlSWNGlQ2oVQ5l/Y51ISrWLiXsp4PObKzdvcfvsdrr15h43DqyT9ITKKcEisUF4WKUtwMoFiinFzbGMRwoIziLbcb6OKWsESWgJtO4sVPqek6q5pm8ALBbbBH8Jg/BiDKRuKJ8+5qlN2d7aoUsV5L+NsNICFYbdcEgddV70oqy5Ou9JQVyWxcBRlTVFVLIuKQb+m3+vRNA1lWZLnOSZN/WYQLRHS+RE8LMop2i6ddF5Ixa//CUahYvI8J80yPxFTFTQhiZRRFEble2zu7yNjxc7mBifnExyVD3NSenpvCI9WXzQwsJ1AsVSeBSCFCEm+88o5wXtZscobW7EU6zyVujE1L2cL5k5ipz5MR5Fm68YVDoxjdnTEolhQlSVU3mvETU3Wixg1cL9YMtrc5O0714nakO0cWji08sud41jTGwzob2ww3NhitLXHeGuLbHMHPRijkhghFc5JqsbgpAFTY4MHFhUIkUKiEG6BMxV1U6OdRUmBihQIvRqsCcW30q1iDOBagwrQlPDzoWiNMX59skT661f7bocwNWlVsru/h0hy5knGZDBmbiR/9Ytf8BaOH9y5g7ZLr03RxtjaAcIGPMTRLBoq07CsK+bFkizLyOOEfr/PoD+gl+d+t08EzlnUWv7i8R8fj5vGrIUwX/r3ej1OTry00DSMqsugR5EkKa7fRwlLP8vRiWdvKuXBTxkGcbsBU7nyVMGMQlM3nLyOXLg62O3/ofvef22MYT6f88EHH1BFMaP9K9g2l6krqmHK3vU9Rg7S+ZRiPqcuSr/ir5ZETcVbWrHRwP3llGJmGe0cMNzcYmM8ZjQYkKYZKpPEif5/2nuzXluS7DzsWxGRuYcz3ro13arqQT2RbIqgSJoU6IkGZAh6M/zkv6P/oDdbsgzbsAVIskFAEAzBVkMm2hy6TbLJLlZ1V3eNXVW37nyGPWRmRCw/rBWRkblzn3PuUBQBOYFzz7l75xAZsWKtb82YLQ5g6wOYagZXL0C1g2fAby+B1kgxFSIEeNX4pG5q1MJ7UieGYWPQxvQzeN8gUkA9s9lLEkJAINEAKcaiKnd/JGO4VEN0EPO9AaJAmxgZ1hNwscFhC9Snh7hwhLPlEl1V4/LBGVazBea/+h08Nga3fYT95Tuv/MPSyp56IDIIgaPWRlexEgSnpFj44KWqX+CgRDU0Uoq1XVjv0F4mkabnFxfwXnoVHh0fw2l7OEdGwmFUrLm6xuLwALPFAYxzMM6CnJMaVjnVrtCYCAMclX6zAtVsUR/lYrZtiy8e3Md7H32Ajz77FO+99x5WqwvUtQWHDm3X4iJ0aGrCKTkcGgmycyZlkYuh0xHhkCxetlJp53y9wcVW+l+GGNHFiJYiAhn4KFyeo4Qyidjt4JstwnaLuF0jbDfwmzW6y0u0FxcImw1M1wFtC25bhKaBb1v4pkW3bdA2WzTNGl2Uwi7OJEJDVoAkcln1tERsaX0pSQrZeoYZlhkcAuyTFez7X+CgY1xsVjhrG2y6FttHD/H400/x5P4X+PinP8E7P/5LzLatFAFOOzdEqVVqyQBGKjoH78VW5cVG03atagkWtqpguxZstHpeDKjrXoWWHkhGzAlEWa2OMWKxWODWrVt48OA+Li8usFqtMJ/PYZw0NXBVDcdz2BhxMHeoFjOwExBBlvJPBuVUuI1YI2gH2UIFkSlhhaSCA/Ac8N777+O9n7+PJnh4Jhwcn+Dhg/t49PAejk9OMD84hrUWTyywssBvnCxwuqjgZzNs6xqbqpL2eV0HFwLqEHEAwps+4ouzMzxsNrh7eYmDWy/hYHWKxbLB/KBBPd9Kw4i5tFM0lRM8yH3DVFKNN7mrWt72BZAhjeR924rLyDEiedSGMIfFYjnHwa0TzJcLiDVLwrcTh+fWg9db8HoLDwZqi24xw/JgAQtJMwybDejeGeyHd+Hun+PiwSOsnzxB17QAR7jIuNV2+LXNGltIMOTmF3fhUutk5xzatoX3nVR3jmrHYMEOhgPWXYuOPbahw+VmjZOTDW7xKU7oELaqEELM1fSstdLGxWrjyuRMN4JAq6rC7du3sd1u0DQNLi8vcXR0pL5GCxiGqR1qngPEqOdSP5S0xJO1gDHcK4S9pq4mByUmFC6umIC1EpjadiIBDSLOugbV8TFeOjjUvuQVNts1zi/OcH52BgoRtasxm9VoasIHIHzLLXEym8HVtYjyyzVC06JrW7S+RR08DrqAW5HxpN3iyZOIi26L1foM7XKJ9eEh6sNbWBws4eY1aidmmAD1qSoAJxVZyZjtfUDTbrFeXaJtthLpQYS5M1jMK8TYgh+fCVEg4uQrd3D7m1/HwSsvwc1qqVG7WWP16eeI798F3T9H5cWSYKsKtJyhqSuQk0QQXq+Bx5eIZxfYXqzA2xa197DeS6g9A0dk8Or8AK0j9ZRoTL5zLmcCN1totIDMPBMhEsNT1CxmadXSxQ5N3OKyWeHx4ghHh0e4fXyEg8UcsWJYJ0TmTUCIXYHBpH66sQbL5QKvvfYa1us1Kuck1w+MYIWdxxgkVsxabREsxXwtSW4jRZbSj6ksmPJ8ChEUpBR66KlOHdtqJOwCGiKplFNXYEOSvjVrYOpKCMY5HNYVZvMFjo9OpdkCgNoSjg4PYGcOD0OEMx7LqsKyruBmNeKmBTcdNo0oAaEOsF2HKgC3osVq02HbnaNbXaK9OEOzvEBzuISbzVHVC6ntWlmgcjlLLwZ5Z44e226L+48ucf/+XawvLlBzxFuvvIRlPceZD1hvN+iiB9oWpgl494Of48n3WhwfHuO1127jzquv4I1qgZOLNaovHuOWrbGoa1ROWzCbSlxDlJTtCPItYusRYwNwFPGpVYls7PMvxMVI2ZjtmqYBM+dogbquwVoRr8RSWcQkDhADmMVAuLlscHFxiScP7uOlk2OcnJ5gPpcw47qusVgscrvipAan5x0dHWGxWCDGqN3XOmk65az+duo4tdn8UIqOiKQ9Us4s4k5avSRbFyJLb+qmRdc0iD5g7T0unRS7A8RXKV1va/ViBGy7LmPKuq6Ff6gmKMpFhccEbI4q3DKM1wHMrUGsW/jVBqY2MM6ibVup2BgYVQBmLE7lruvgNxF+FdGerRBmNcJyDjObwxJhG9SRzlGaUcWA1XaDRw+f4JPPHuDBxRMxGDOw/pXv4pWXbuPwcIkfHYOFAAAgAElEQVTD16VFcj2foWPgD/75Gd6+/yH4/CGqz+7hZPE+fu/Xfw0H2y2a7RPw2QpvVgf4zsER3lwsMZ8vUFe1NFOQ6YPXXFJna4C0D2dSkvSXpdReCNm+5soiJCk6wjqXickkcIi0oMINLBkBpSGgow3arkNnHbpNh8ePLzCfO8xmMywPljg8PMB8Ph80mu+6LhNcUjKYGXVdKfeCaDyaOZPDtoO6qtMGCEL+AQyv4S8p+K9rO/htA9908G0rHAzi015zwIVW2gxRih4bAo4qB3BE7Fia1+fQFAnVdkb8dG0bEbqtNIYKAY98i0vj8ZYlzJwBzZxo5N6ConazU/saR0ZkjxlLkJWJAWgiYteANyuwc/CQrmZMBj4EtCFgHTzWocNZ2+KVmcW5uYWDxSHury6w/egzvPuzD3HBDXwUk8/hyRHmx0d4eH4OYoNoGZ4MGks4/ObX8M2vvolu2+H7f/hD/Os//gFee2DwXbfEr52c4ldPb+P1W6eonQOMQV0tYQ3E5DRS5nJlRSQbpLoRmcVMMQ6JznZ55WxJv9/xMSJ1UhMruY+MxgcElkJkXSegPuUnLhaLzM0GlnjqQ2H6ZzBC6NARgVm7kaj1OZ2bNkBqchU6j65psL64xOXlCov5XPojhgDfdOpPY5Cz2CCg6USxSW6l9G7eewB9+z9jDMgBHADPDM8RwQdtcCpzQ8GjgceGIt6IAQsEePbwBrCzWvuZc86GEsextnf2yg30/ZO5D7aSYsUkvZEYWg6ASAq9qPE0GoEzmzZi1QSce48nzQXurbf4/PEl5h3j5eUSZ5GxjTL2n/3VT3BU1Tg5PcGdO28i0p/iQ2Z80jX444f38Ft+g99oL/Cbr7+FO8fHWBzM4KqkWCFr7QTAdilDS8w9aROBGa7pWim5bQysc5rzp5RIJoddsKLlpMmQZtMYqLgjiZLsoqq5ngSzrdYSpjJv4DuPGKL0BndOojRizMZQBiF4ydljBmCUu7o5nGNYMcejy/4zId5m2+Dy7ByP7t3Ho/sPcHJygldefgXkIy43F2L2sJKNzQRcBI9V7NBquItV8wiMNNsKgeHbBuv1GpEjXK3iPWWTa0cNjhHOOsF3XYO1b3EZIpp1h6+2HeqZRV0fwASN5lA7nBh+teVMFA0lRvEhWmvhTPKK9BGxbKQ4jSyLsF4HqwHG4iM8jdDSD4wYX0MMET502LYel4GxbjtsvMelb/HF5SXu/sEf4SNj8NH5Cs45qSwagE1l8I3/5r9GNa/xb9/5CS4/eBenbYdff/kOvvvWHRwtKkg9NAkiCCThOdkVRwZklYP5EHpzYwiSQGpJ/Xu93yUlgiRCUMEhVJxjb3su0KiI6toO2w1hs96gaVpstw2ODg+wWCzUeGoHHI2UGJjFQ+C5Q2gJxniAosTUh4C2bbFarbE6P8f5oydYn19gu96gqirMXYWH4R5SGSPnHJaLBebLA6xih0ebFS5iyG6j9Xotpgof4TvpABI6qUptHKGOkgARgNxFt+T6wXtQkFIElatxOa/RkIGNLYy6wdhrOLjRnt9kYOpZzjEwpk9mSWJcnMtQE0wsoiT6UOvs64r6d7btQcp4ssWiDjhlBiDp/iDJtoqR8aRp8IvLS/z00WP8xYOHeO/sAheGcXr6En7pl76Nb37nl/H48WN88osP8f2338WfvvMuvlHXeHnhcOtgjpP6AAtXi+IFCXfvxSdA/8W332Jrpe6WLIjDzI2iE1C8WOFELkWaMQYV9ZZjmRSG41brcBEqV6GuKxzM5lgul1gslqiqGpWrlIsZERsshUi8bxF8QNtJHbGua7BthCP6tpMy3izcwKhic3R4hIODJcCAqyS2vqprVIs5Gg744vIMF8EDVoIN27aFjxGd9wDEJxi8ctq6BlMUY3aM6o/lQeXrFFxXG0JVif1uaQ2+se7w8rYR00E9Q0UOFRnpRmZtX9vCSkG3jGu4Fz9c4GJwHLQtZFb0rb9TvicnpzkKlon+nkbb7EQWkBOZpGBK47HqPD7brPHuo3t4lxnh9iv42ne/iztf+yruvPYyLs/O8fj+A/yL//Vf4qc/fRe3ifCtw2P8J7du4Tunpzh2BpU+OYVGuVQeKVnsyUvWdIqpHhf4DSpWgB6TSU4loUuiVmO1rJGJSYmvrffYNFusVmu4szMRyYkgo2S3hNRDSIksshgRs20L2mwUPVEr70RFBqvNGqvNWrATGbi6BuoKLUWsfIvOGBjrNOhQFs/7IM0EIoMhPbGt9k5iIzVXiQh1XWM+rzCbzXLf7lTL3xpJ8jW1E7uVI8yqFaxvYa00iqqNFhsmkt7WNhVg7j3T2UUYWctSCa4pAon7Da9GY23OnbhA9vsmyjK6RumIIfb+zKhKUQyYc8DXKoc3X34dv9O1+PD8CX76b7+H74Mwe/N13PnWd3B4fIj3Hz7A40g4D4TPL1c4m1X4+NET/M7pKV5bWFi2AEvZKPq9b73JabJAkuXsEAcEhsS2y/jylBOXuFjByZx1cJWDswaW22wchLJ2Z2x+6RSP1Gdcax0YllCaBPjTT8aHKZEWyM7tKsWG6WZwVQWuKgRn0EVJmWOIxhm0ZWAmaADGOlT1AnVdwxmDutKMorrK5pKy/WHJvcEekcTwa4jwkjf4W12H000HMGNRVZg7B2McCAYOfZOviBFnYmS7XY7+UG418EqoFk+MTGCJtEqmgGyIVpegjyCv9++kv6UkJgs4T94W+AAOwFkM+PByjb/YrPFOt8KffPYZtp7hosFXvvoq/sF/+Xs4f/9DrH78Nn6LK3zr6AhzVHAMuA6MwKGoLigDMlEK8SKmhaWMB4YZQn1GirEGUm/Zo40SR28RBIQmPyEAa7WajhKGMSYXD0l17Rmc481koqRMEKXqhySO9OA1Pw9RrN8k2dPWORG5RLjopB91jDLuwEEs1kokh4dL1HWtRYZFjNe1GJ6regbn6iExFUdK5IByVtLWN6vK4BwWt1pCiI122RB7niRQ9ISUOJik/yE3NxXOFHtii/0GBAMcYp+Kp+uiVT4yjmMGEKVku7j7OnAn/Sw5CpFyCGJE1jU2nBE1AMYtAk4OFvjleY3PmgV+zRr84b0HeG+1wdwBp/MZXvv138AnL93GP/nX/wd+ZbXG3zs4xddnNVxU5M9a4ZBImnMGHRQlAKpB7Vz47xJHY9WITDRgB/HWK/dxlHw4JY9nAF6wmVJLbQlzV2Fme64WE5dPeE9nzZDBol6gns0UU0imT2w9UjVEdg4r32DddfDEaH2Xd3Kt4Dr91NrvkKxU57OWpNZpCvcpYMJUJnufPSXZS8QGgQyeEOPVymLuTXZxSZ8uTUVW5kz5HsKJshNepUSM4gTPvrC08RRQp6enzB9OfSuZcyG+ruvgu4DYeiGwFK2s36c+Q/I+CUPJ2kUv4fTwAW8E4L+a38Jvv3mAHz1+hB8+eIT/59/93/jbv/VbMPMFPkHE++0KP+pW+PuzJeh3v/0GAz2esmRQc2/YzIZW4gHoT5b0nsP0ZcnLHEAL5GaYeUFiv2Dp/g4ei6rGcmZVPDnMZjWssei6FqncetKaLAwqW2nZTyF8ZySzZTabobGMJ6GBt1CxabV0k0U9n2E+k7DwupJQccE8ABv0OZDWQnqXDQsFZ6Nv8XcJF4yaESqK+FaI+EoXsbAO87qWzRN7TpWIK9uOQsgJEwmKxCjZ52MclhJZSLkNAbBRcHLKOAp6P6/Rs9wFwAdQ1CwvZRrEyInCpJw1w5aCsIlFIdq0LZoQ8Ci0+MHFY/zIAJ/bCu/duy8EygEzhGGvIokwCPAR2XyQOE5pkwGQsUhZpTrfI6dTSagHq7cgh/BqJcOYDZWi4nbVFhZznJyc4HixhLOCo7wjdcQDrQ85EdaSQQwdLABbObjlHHY+R8OMs7ZBrDWchkTULRYLzJfC+comWyWRMBW4ktKyDTXp8e8ya7vgL+jI4BEHvG4sFs4BRrrwsmHlVD2+ClH8p1BclUOog4YYqSFywDxVMFD+D8CdEpbXkOwg9dRCFDGYcJ1NjcAg4pi0z7j3PhNnuQlIRbqEkXv4EGBBeAUWf//oNn6JPf7P84c4R8QDAI1h1NbtNsOKMaJNoqaqshOc0cv5tFtLH2bJxaqq0okgWLDm0YlhVnam7wF2lPT95WyGW7Mat+cz3Dk+xcw4MVnEKOlUdQWaWbQxYtO1QIhY1jPMj17C7HAJO5tha4HL0KIiizlRX8/VGMyTzSn1Q5oiEtrlSAnfZN/niJiGRNVzcQLBE/AgejyGxSFLbBhrICbUlMAcETXmHSGCfITvvM4L57JTphCpMrOQgsPJAq5jkYwk4WBSQyz2FgtONrSCCysuNT6CfOjrpiUMyIL5uqKnQVBlRkz6BpWr8O1gcHtxir/jlniv9fiD1ROcLxxcpbsKkAwWHxlB8+q89sVxMOJptzYDRmKJt7Jqz0mxX8YQqkranEgBOINatbAU7EekeYBFRZrbhye4c3KKug1oLlYIwYNiREWEeT2XMGNXgVylDUkNYmXgHaFzhHUMWAUhxlSKKqX/k3V5k5SBhslEkwmFMoSWRVQMwui5dCkyBpwvLXPSiiHFVS4p4nPvcYekuX32bypBwQf4rpM6Gcp1WEVYqVUr/yr4o4q00AdNJmVAzBdpXCyGcIaIxag3U87IGgfIUc1AJAkiEvQpphqpLuSl2nYIYswlCGYlo1ja4vZ8id89OsLvROC318f4/bN7cI7V3WMIgAOsRaiqAkup1qWa4KyqpEESAXUlhDWfL8XHaDQanyMidwBL94um8eg6rThYSajzfD7DfC5cxVkLx4TLrsVyPgdmx/BNg9oCh8fHmJHFrJ7B1g4b32Kz3WLTtbhst9i2HdpNBKwVbY9t1lZF4xWlwxecpsSJvdjW3ampYP1hQTSMBJkiMnGYq4U9SQV1rX0WIr5Vz3FMLFHAUTgM+QjuPIJqdtEL10GU1swld6TeZjr4jGIKogzIvsBCqUo6pSGJUJVbSpsew5Dizzpn2WSULAYsIVMuWhg4WFU2rDGwlbQDNMYMFBPh4MDfqRf4ynIGd3p8iGSGMEZCZADKOCphp/liKeq7toSrawvnVHPS+TQm6t8GjErxWMwGwaiW88g9HnPOid0MhLXZ4myzUhsZUJHFxfoclbXwl5oRHUT+ky5eIAMiB0vIxteSiAAt2DZaHE4aFnozQOc9fOiG+i4TyEjhuz5sqCfIrNComSJ5JMSAKsrDYwLubrd4o5ohKDRgH8CdaHSx6dRsEHuxRENuBS6y0/Uwas6gKO1rSl2d1Czdm1aUxypUgS2qS7K02HFqMmII8A/eg8jCVQ5BE2rdciGwyVp5Fy92NGiXFcsGDIJzjNfrQ7g7r76seCiq1bevMpx9WiTpZimmi0jEYF2J4ZE5dewo65b2IT+DnR4CQqBcgrFT8eAZiEYWrjIWzhlsmphtbKUSUSoWZA1sJbVYEx5MzyxDkCYP3XnQCABi1vQt9NlGyobE+6rEyCbjmZ4SY74nTPIVWhVvhM/bFhetx4yk+Al7L6HKPkg7YiUsAdb6dznuQplLGCroGFKz9xzCpJfkCDqSFyKtOQIgV55OkEGem9wIwotNZXVuGM5WqGc1bFVJ/6ZOamcwGDPnkkVjaCJpAtxy5sBRek3nhTNJ8dU5A0k90HJtQkCnISfWQp22/eKWPstEGEBfnXhgtFSDotcxpBSzNGlpXCFI6SerSkNVVbDVDPV8ngMSB3gIPWHnidV/SzNMCinyvsuNPTlPmHAJaw1mRH2GEmQyQ4haO75T/FkVhKEblBkPwLjbtnjDQi3wycApwJo0KnQ8bqORpbnQn3wJADkAMhH7gMB25CmyxyS5Q6QrCgbXRFW6pK9AlFIAzqGqxKLQ+k41esmtdNZpI1dZQ47ShGK72cA3LZxwANGsYkjVUnqwK1Ff6cWkvyKz+Oc4AsbVIE3CT5bjBJil3KPtCZaEbSfrfdbaYm/kJUN5UhO4zo9nztZmhtrXnNWKxgJmk+mDe2rS3Z8cRfoFa09KFT1EjKq2SPnqvVA1SJVlSIkKeRMxbKrkZ6u8JaXCjCDBqD2gzsH4yeoMLy9OMGeAoxQmMYbAlsAkHFK6wA2rV8tOI+3dxHn8Ppk5GEjkaXg0Z0juNUomf/1bPRMF0TIzrOmTgCIYxooVoYsRXSuZVQT1WBgDWCOJIqTzyJBaG6s1mqaB63wjTmdrQYbRS+uePRsG6pIvENBGL7VT/TYbUmfGKRiV1/VEkjQADTdRlCBRE8JKjTUSj6agKiWHRpYKiJlC9hzGSFgvNN0uxohgCuICg7VbBqdX0NtlEZr+jyKlrYAICTNnwyhSFK5AguzSGY0zJBcMGJEYj8jh69/+2/jm8S2JP7MWQISxEPNF9CATtSls/+oJb0JnsuRaaT36zwtZWhBZ2tjyWzep+i+NMYOudkn5kVzIgKZpsvlDIp6HIVZGN1PXdrh4cobtZovgPUCAa9aXPcvXyZXKhsUejoCNyd6i8WDRI8KDjIFXA00bkSqT5pcjXRxp5164mRK7LkWB7kzhVLtElcwA6O+CFENlIFZmAOjMsIQAWJpMERf30fMTBwD19c4y9uS0VZCJX2dEwHLeb6Q1LobLGmKnNix9qiH89ItP8NWTU2nQXklQZtYYSbhw8lMmYum1wmEqW4kB898xYuoooUvmato2JsEWubxI6wteKmeXrj9NEMohSwozurbFpt3CzWvcPjwQ09DMwblmo7OUQAf6OgTFwpLqycmmEhEADmBIxeREpMMubPoiSgBG2wUmkZNdHQQYEjU7ploWrGHDgzEkh3u/iJRqkesuBUNaDxf4lpK8HBEBaZ3+fO6EAXZysQqOkscRHJgLFEUMbxlsFbiT8PDP1g/x+cVjfOP0VcEsIBBStWaASIP2khOdhuNJiz0mnOKlCtlTfjwMC+8JtTdPJGyVTTZBFLd0ffLbltEkgPhs68UBbr16Kg59ECgAITRws9DllUhDS9be4i3yy+ZzYwBr278KSDkhyjIV43BBQXqd1IxgNezp7kfCAiT5AMpBabCMyarOAzopobss9VD7iunxSfYWk61IrnxRIW4a2qDGK0ZqgkhkJtgs5ECAfryK5xR6VMzYhA7v3P0Ybxy/hNpolUGdLwqJG0o4shBlz62Sa2n8QwVR9SE6PCC2CcwvIVaMnNOQInXHfuYUQFBX0tAr94WyEmbeWcbKRJxtVrhYr+G7DrMuYrbewNlY6i7Q7V7sEp1s4tizbdLuGOTkpfNEa/kmTpxKSKQM7THOoTRICgBN8ofz5CQr9PgY71gRkQk5ZjA1mMkBreiC5miGnfsPFyFitzGFJGJS3ogEyZQejk3MGXlIJNo4mPHJk0f42YPP8SuvfUUVGrGYh4TnjMS6R42WiGl+qcdZZStCQ6aQHGpw5djX7kDaBDKjhklq0bIkuLRtC9959BumXwtjLaq6hqtn0mGYPFof8d75GX76+DF+cXGB+5sNPusa3N222LQehhi3jcHXjIFT5tvPSwRAxWTtLCjlGUsxpkiYxaidUAmoFD1EqS+4ReptPTjUEl6sz6SI2rVpiZGzR/DT17F+b6Zqh+2cN5yOcmQiohPnUz2XZT7KTSIQYSjOkkp4gRY//ORnePn4FG8enEplaiIYtvBWspYosnTyiL0yAp3bJKKlkmOPQ0uNn6gH4eW7iShmUJC0uK7rxAuREZIwEEMGlXOonMTWkZPiMw0Y/+buF/jv3n4bn3QeGzKIFEWTNKrVe+DDYPAjH+C6MShkJZtyrQdAM71AGWEgP6mgRqYsTovYc43IPdtPxYWT525EXxlTleszJolkEknXJOG67yAuN8keQiy5NyHHpfX36N8pqk0pucjySLNGh/79Y0QksR/d3a7wR++/i3/wK7+Bo7qGDwzSzK4gEYdAEC3bwCJwVCVDsXCaC+pLgULfP0cLp+heRg4ckDJVEtDQhg6egzxDWymCRDOX5BkLYxyYCC0YH28u8fvv/AT//LOPcTc1nmcDbwmIEVZr7wcTQRzQIMJhPh/N8O4uTmG0g88SjsnsGlq/a7gaprDCQzmboZgxXxKliD1ZsKx0H87TL9s0gNUGpSjsbRhtkkT3fRua4oXLd0dvqGVgmsAkQEjFbSpTaYoNJdeGDCugihHLgqpp5GPP+JPPPsV//pVvoHYO3kg9h9rqM00AdwE2WpCNWfQnHpn2Vg5ZB+CQ4vZ0tpilTSKJvdBrhZ9oCNV8jplywOQkl+AAjYcjwcSPu4jf//nP8L+89x4+7DbYqDsxRgYQ8jiSQtLjRcDNbr80mjzsiMUSew3O03OzbNeWdaUKl+LlM5dhmfge4I8WL4nYkUaXL96x8ciDMtymQmPC8FKgx2AESFRD0tAGz5BPcgTrGA2yBZLRZcAN+/MS4+I8f3Kq5ZjzCTbE+NPVQ9gvKvzdN97CvHZANDCeJESp0uDAVirmJBQwjqrIsWssPsUEA6ISF6GPz5O8gkobnwkG895rhUnREKUMooj4t88e43/4s7fxb764i8cWqDFHFRneisOcU7octPwUx0xgYIYjm5veXnns2nmK79JPSVx6pOiQ8uRd/RAD4pX/9iXEmRXPTDy31AyBfiNMngvKtizZaT0I79kn7V63o1Wn7VHyvzhSJvoNxIpPwIzAlFslAkBLjB+c3QMT4bffeB1H9UzKZMJIBxLLoKoT1xJGXJ/QZ4rHCBOkpAMgZbeIWR3SXghRk3uCD9i2G7RNC46ArSvUVQ2jOMtSxMOuw/feex//+J2f4q+2DaJWWgK0MiRTjuZACiClHq+mjCg3TmJ4nmOvU/k57pWWiAai9sXcf1cZoB3sOf3E/ryeLie4cUH82Uda2KLSDdYU8YOzu9j4LX73K1/FyWwJC63lb1his6KC/OJayxIinZJtjWHtjhtyEKNEpsqm895LufT1BggSGDo/PISd1dKVjggdgLfvP8L/+Jd/if/rs3t4aJxqtdKEo0UEhx4Hdoi5veAUD3I5Ze2KY5/BcWfaXyABTN33qvvfdIzXPGlS69p51pRolwGOzhuOLRmcx8eMLQIR3l2dI3z0If7Tt/4WTuYzaX9jpL+jMZqnWZpyvOIwBjgENCm2LAoEiSmtLUr1xvV6Dd92qKsKB4eH0j65rsCuApPHk+0W/+rtn+Nf/PQDvOvXaC0B7KWWWGTRFNOzwdrMQnFrBmLci3GiF8vBXswiD+9VWqD3Lvg+U8o19989j0bacR9iNLz3xP1plzgTPk2idGxJHz7ZogHwzvoc9acf4z9+6+s4rirYQJIIEmI2e8ittaWy2he8DxKzpQQnYFcw3LZpsVqtgMiYLeeYL5eoZjNpqGUtAnu8d/8B/tsf/Tm+9/lDnLHGu6mvNaHLpPT0KKJXpMgYJF9cia93ANjzcKEXzcGylfoKApsilJvYt6ZE5Jh4kuO3jDEDdrnVVa6lPBbVuMefl2YRYkJjLd65PMPte/fwq6/exhwG8Cw5kEBeeEMESxaxk3LhqbpNIq4QI3zXYbPZYKtNZ5fHhzDzGrauwY5gbIV10+L3f/IO/ulfvI33th28EmwkzqFLpJEvpYhOZqveczCYHTVZmd2kjx2MMJrEq44vS0TyxMI87zOnOSFQwvax/y59NhE4MUn8+doCn/VJIf05pdekYouNifjjs7s4mFl88/AUxoqty0RIWXEywhk6iTpNSbnpdyo3n9rSVHWNg5MjuPlC2uQQwRrGp5cX+O//8E/wv3/0Me5GqO+4x75G9WcJAkg5ob0ZiYh7D0Jh6E7vwngKkP9lEc/TPPt5xzBFqMPPgBKHJe6YOFjp5+PiWhpM8vTYd56djW0TopoMzsH4s3sPcGyWePVwVohZA0MM33XgRsoShCAZ24LLpPJQ00iNjeXBARaHB6gWc5AWmfGR8f9+/jn+0ff/CN9//AgrSjY9P3hPkwQdo8dfaV5M0UIIQxtmmjNjzIsVkX+Tj2nMNX7fXRE5/fceMTkF8gvtMY1hcC6lWLlCIxXpg7vs8cMHd/GfVW/hWBuDEhM4eMRtB2gH4c16g7ZtxSepN6jrGvVijsXBAZym7AXHuAwt/tXbf4V/+qc/xvubCO8q1ETi5otusBFyeQNDcEZ9oJDo3hKyWJ2QBOxTgjMR7YrIPIOjab/pcZU4u0rM3vTcZ90AYxy1ZxS4ydveeAiJuIAdIsvPmyBM6PkdAT/3a9T3PsfffeMrOHYOvG3QrTcwrdi3Nlvp1AZAyh2oIbWa1ajmUv3aahvlR5tz/E9//hf43z54Hw9hUM2kzF1MNixTxOkzS3ZTbmsoXCsUcVTpPJd8oQWcSFzMkZ0QkTuLjZ3OEFMev6uIK322VwsbfSan7TwBE+Bnx6i6ezDAfch2dnHSlC9BPp98F/3MaKmBZKnPce5TBDwQqzzKJk+vPb2hDSR5991uBfvoC/xHp69h2XZw1sJYSDN6ZiwPDmArqbRorVYBqhxsLdk/noEPHj/EP/urP8cPz89xeHiIeWQ0QbL4u+DRgdAYg64LeYo5piYcUePzSMulpjEyJDRcMtKMNdlzoRGBcLgRBqMdHyMh5gjSdJTxSZN3yQRmhsTD2CHXKWVDCjCNIzZ3SWRX0ySU8ifxlWm/5H5yzd/0Xv3+2VOO88Ez9YMig0x27gSJF8Qq5VcN3l2dAU2L3zx9BbfcHGw7VHOHeX0LJgKhacWoCsm0hhUO0saIdx4+wP/84x/ig9bDkMWiFl/nkh2YAc81GjDOA6MhaIkpQGrwimISYtA0P84vzYiabJNaZFsttBgBlk640yJy5xjah/IcF3M6Bsb7tFPhIrtEzXz9OJKMv/a8HQ7UE/Dw87GRuSewHa1wIOumtNndceQMJRU3+VaKbRLYv8kKdBzxdrjA9knA75y8gZethQmMqE3LYEhCa8jBVtJOecsd/uzsHr539yN84hswa/FkUi7MEopQQQ0AABI3SURBVKItrntGiB5OlRxjjFQv0pbQzFKExWuhQGMA42Q+KEg1psZHNF7OYzAiaBfkTx37uH95jAmr1E7HsnlMYGIKuoGxdK94nR5L/wEyBZSlLzFB6Dmak/vsHrlFHwRZSrU0amMmxsU9oScMWBKuBGFe+zoyXiZEOLwfG9CjT/GbW4Pt5QWWh4c4vHWCqppL8o6zILJYxRZ/cu8T/PGjhzijgNpW6HzMnDMmjku9ScIxoWNxPxnLmFnJS5FoGa20zQ6GgFfnEV87tVLWnA26ENDEgG0bsN0yzruA8y7scrBpVTt16Bi+sBktdpkcMDYtXMXBeuv01VRMoEEpyOvGXVwo3VvRRx6MuXK58AN7TzF25mE9CwC5o8XkYwuCKokqf/80CgtDQsQc4yIGROekzfTJEdx8DqsZ9zCEs3aL7336Ht6+uMBWy1Et5nOsmjXK+LlyfmQLeQCScic9CiKMBgTkEquapLKkLV62gDMMYxxsTSC2wLJGZKBjRssRbryLhT1OjWAsEuyuqEuJkSWBmQJIq6japQUGmREK28PAdkxGWTSXGFBXpLhZ5qya1j/myqQaXX5TiwFxkIpHMrYgvCHx7Yw3aQEaFiT3MXlD9QrW1YQmr0OAYVhIxGt8+RRHs4WIQ5J+RszAk2aNf/fZz/Dj7SU8GURqYZzF8qCGW12iY2g9inRjUgzc1+uIFGDYAWTAVhJwU6AmQ5pIBACenORQqPFXyqy3MADqyKjAcLs4BHkSrjp4NDGUVgCqdqddTruhMzt6n9phdsexT0yOxwHV+MuQnvGGUO0tc9HpcQygoGqZKVSI83O4/z69315u1OtcRHIvIo0RuUYpGgytyKy/jC0+aFe4tTjAoavgyKCjiE8vHuEHn32An/kOTDXYthKVEYHZrMasdmiaDrn8fNYF0cNPTlX3U76EmsJGIj5Fykq5TUYqbco6X6Qxf5Mgf5+76KbHlHvlqmOfBfxpHfFXPWfK7TM1jtJets/yPxb7Nx1bun957+uNv8PxAUCoKnzoN8D6Ie7YUzg2+OjRPfzs7B6exAgPi4jUylAIpaqkOjY1XdaiRw+V5+rHUcNvnHPoOmlmFkNqQl8yFCDZfQZp0jrWSUv+81rzx8kGN9qhE1rnTQks7ypjBhjnqmddZ04Z4rEhntynkEzh2dLiPb7HPg42aaJJz2SJWl1bwjvbC7yzOUMMjLbx6NjAJ3jAHkBUbVHW+2C+wKOz1SCmLD8zPTdr2/JZVVU5miQ17bD5PTSXIoqhtn/XiJRc76YI4VkIbOyX20dgNxYJNyT08n4lh7junlcR2VWfp2vL+101VqK+OmJJbFfN9T4zTymamQiBrKTLAQhG0+JiROQwegf5vVwsUFcOjdf3QX+/AcDVMaZyW0Cf8Z3lZnkHRUX9Jujna9LZ/SxumnHDhn332jehY3E07jKyb1xTUQz7COGq9ym135IIxvcfjzP/TChCybRhU/daTvH9KY4qKSRjYkK/2HIaEpYTb0AC5gZSIkrr1oKQclpFgdCxGwDRwNWEo8UC/nyFWGDvrLQkzToSODC6zsOYdtCKMYQIYyMcMygSojFwBXH1tCdc70ZmiuuOfTv5ptxqakffhJtO4Zh9xLWPs43x1tNgqsEzpvyYhbrZV+Wh/OX+Z41cWFnjLTTtwbWqjOQ1SA1dC1SkY5zNZjBYi9gcETEnHU3herkuOXGaDAhB63oIxotx/D7Jwf8CAg5fBGYbP/t57/c0IgzY3Qj7sNbUGK/kYAUXTESeFmrfs8t7To4VBV7Kz4aGzmhRFtsTRMJEBElbWy4WcO4cwXNxtzQW/UTFZao0Puglag3AXsOye/IRYy3y/dLwBwS2z81zlci8DgDf5Bjf43nCuMeEMjXGfcfTjn0wVzTiOpjGeWMtdR/e2jvW4prxjwHAxkhJzVJbZcqaXVXXmM3maMIm3XD0b8/JU5ET6Z8ph7UW5FMiXyqsHHMSdapxJW69SevT9EQ+y2dPw4leFPcq73dTEH7dOWMctrOwlHwaPPi5EvvRmEDL+2LnZ3At0ufjd+w/H5+fRJ4xhPl8BmSOmxjDWFHDjkmlmJEBkE/EO8Cq+s+kL3IfmL6OCPZN6E05w7MS15QiMUU0N71/KdrG15Z4rvybuZ/0/hpkLJLojkORCEJAv1iy+/fNobFqboicSsXK50IJokCQhYW4c/KYqG/hJxWAGMsDC3ocEaIBmWS/imD2iOQRrcHMzXYITOYlwjLDGYsYvKS0kZS9TwGKKrQRMSKw8aTum/irzt0HuK/1M74ADnYV4T/tfaaI7PoLpz8qb6E6ZMZOPe6fMH5OjQsjjS1x0SKsO5V+yuJ4UDuXUdcOVUXwTQSgBVRiGk9Ud1CqERaysiD3Eiu9YD6pL8a8O/bEEW8M8m+qEe679v8/5HhWbk6A1lQrXG9EA0wG9CA9EZe1FkiVnxX4W2OxXMzRtNLpl2KPlRhqxY8xF6Pr6/YCkb20B0Lhg6Ws5g42wCSBvehjyk4FvBis9dQc5m/oMaXF7hDY2EyBnoNlzQ/I3KskMmYMtVciHCwXODtfaYBg7+SXemgBHAOC7xDIDNeQUsBmGjz6Pkbqv0zvBADuRWh9gx00YfSc4n5PYyO77v/7zAxXamPPcOzTsPe9exJp48+m/n+9xjuRI7pz74R/xt3thhorIWKxqOAqQttOGcJl3DGKSBwziUgB0Kb18t5F8EAS0/rdtRxs7H7ZNwFTnOomi/s0BFD678aq/nhsNyWum2ywq5SXqwy0XPzOVqc9BHbduEvNcyoR2JDWtiWAyEhpePUgcCqGyxpwSIzaGixnFZpmC2anCFDaHoJcP3bmUQwbAxxA6lC36hGImdjSP3Jca6a4Sgvbp6mVu+xpjhfJbcb3/bLunY6nwVY32QA78zphxMX4mUpcg2eYFP825I7OOSyXiywakysrgXPhkP0m5sF3Mbu70nm9BW14vHAM9jSa5fMcpab3ZR77Ns8UB/+bcFD6l/olz01ky7FzxMFiDmccvDcABaSoN2YPjkZ+QMWa9fYtLn8mSUuOawlsTBzXLejflIl+nmOfqP/3S2AT96fhxzT6LhFDBv3awzx1sq0ri9nMwnsRkLneLEdEaAVDGr9bX5cX6AlsMLri/BtzsH0YZN//r3Ivpd9Xg9pnO54Gf00d1427fMb4+8lrebTwO8h8+Gf+SUpbOoGHQogIuXbE8LZU/CYQcd8uhrSeKxECxK94eDTDarWWZiWpI66ohjk8Z2jPlKLLYvQ1YEoNfyaUL1xjyb9q8acC+64iwpuKmmc5vgxivcpIPHX/yczxWCojaWOP2E5G/9C4d81QGj0ioRxDkhBmRpdz7h/Q26ZSWo5hqaMa1MIOkvxGA8JiPoN1G7AXjhWCeASiMblNX7nW8iwpJhyjA5GHp3GPzcJMsWd+J4+bLtxY07tu4W/CHZ/2eBEY76pxTOHKnXMwDXx3AHtyF9GecyZMElPPSE0qZGx9gRZCISaNgYkRDuJems9qzGY1Nr5TE4Y67Zml5GbSRFWbzAXnIGYMY1JM2/TxzCB/3wLuM6z+h3AM5oSh7cEN4oBj7SfG8mfn+2RpuHZq9+lzPZc11iIygTiiQo3jkznO1mvpemtSsHPPHIior9VvUt1cYcnJBzt49WfBYNe+1jUG0euu/bK1wX8fR7JdGZQJETc0ZxR/c/EHlSeMpa0u9IT1IpsqmBmGteZXEFfSYjHLlaklzEax1sgUYsxws/QckneeeaWI3Kch3ZRopqIQxvd/Gi1sbFjdN9anNdqO7888tfv7PEsZNybOmfiMID0hS/E2IIbRhuy/2OP2LjU6TQwmwV4A52A/sbJzbj2YY7PQb2QJGqRcev2grnEwq/AYm/xchmR006hrsNB0croTmC1i9M/OwZ7VpQPcjLiuwjglwL6KyKcUhqfZDMOf6aykhGv0qmvvm1AQp9+ZMGS5wx4vgJgWhnyOKLmcBOBnMZiqsEfAaCmAmDCXPkvdB0NMDG3TRUbCe6zB6WKOuzjPc0IkTm9T5GNmcyoRAgyi5BcJR0yYNaZzZA5uWPzkxR5PywnLcJHruOOz3L93hzyru2vq5ulLDOhx391Kw3EisqnbTV+ciJCLE/ePu+dkFjFGOOdwfLSAs4QAB8QOZLjv+Y2h4pBuH4i1ZYC00xbtV8Wqtr75Uiz5pQb2vCKs/P20/s7rCO1ZCfjLPKbeUcwOfBXN6IlFI/g9aG9q/qy1OD06xGuvvISzu+fwTcgccDgfksltI3J4NJMBk9U+AQbW6IZVbncjAnsW7DU+nsbEkc6/DvulxXgeM8dft8Y7ja9e3DhKDLVXY90xnkoQ4i99/Q5C8Pjo8xaeR7FnerukW0TlYOIhsGAygLHQWF2kCh5XENgQb0xNQPnRPqPplKvpKtGWXnjc2XVqDGNbVRnzNH7udfasfsIHUwrmcZG65zvSktE4rmpwDG1LGccVc7LPxiaGVv1LNcphSSo5DEruJPUoDuYGv/7tr+P44AwffPYLXGwbIRpO9xVOyhZgIkTUsOQAY0VkAoU2Ksc1HKwksvFiDwmMmfcm3950gaas5lP/f5ELfr3dTirivLgjrX7JyXY38bggn2ijgx295/6phGK6TiPuY5RmWQWPy2YLvSJGxsxafOvOyzg6sPj43kMEloavPjK87xB9C0cGVbWAtTM4Y2EMwSKoyKR+GHhODDbe/c+jcabPxyaJL0uETWunX7643CciB+cwFCyX1z392PLc3WAOCamxVoQlj9dPl3j5dAmwgPfIgA8ePkR0IcI0DRwHaQiBIu4radsae/ZCQP7T+ABvQjT7COxFg+79z3mhjxkelPDRFeOaMFze6NYTEkAfCZMkzhXvlsQuG2m0hRgRU2N4ZlgVWw4ErkyyRoCYpfhcfgF5EGGSwKaw1hRRDIHiizpKHHYdIU7hu+sMtk/7WWk+eJZjIPaKf56bO++59Lo5uPqWo+s4gkyU2vypHGj0yp0IUIFLRiI2uIx81d97OFgpw/eLM2AYwfA8i3BTrDXmlk9jXB0Sbm/7mjhz8plXPWPy8yR1k/hlBmvlm14DnvKc0A4XvY6rJye04VJBoGKdxu/Rt99LysAYJkipgyHZWbKiCHF5LynrBK3YSAypQM7PmVU0xcH+OmxHz6pElAfvlVPjxd4l9n1cb7DwUFtRxkFQAosDApuSWVP+xKnnlRewYrbsO7gJ7ioIEZPXCZcqtVoxx5UaioZOo7B/QmPQ6IZVpv9DOa7Ce2MD8vXaLqR5VUFMfSz78GeqTNV10SpT9sL04Cn74S6cmCbiXePq0GhOSluliUO07CGGTfe5Ucj0zXbDX7/V+8s4xlhunxH3OgIDIHW2dggs7tzzJsGbVxH3YBzjMU6eW4rCoSVgfAyqRibC39kAQwIDc/Y87CWwmxLV82CvZ3l2j71e2NP0mbvP3n03EWk7Jg3e+SOLq564+uvzKXve8yrPxI7pgftr9hHUiBcXz+lPL4MLxopNL/qmbHdTxmpNBsZeEcliac4TQxhXo84yeQJ/PY3Z4mkOQwxLupuuKZV5k6Nf4J5g5NICUKdSSCSYiowC5PG9pvCcoF0FxWWQHgaeiquJ+grukgq/pSGTQTQS+pwr0RNp6Hb/XuVo+yjYIZGVzy7HRDEowB97SoYbkcINRSSyxXf46T4iuk6rvGrXTtpw8j36yaEEBDB+sanr9j9bdvDuZ6Or5JkJCKcdPzhjjxjiHjjfVPt8WvNFdspQSQzcf56oZ8B9R/egnhONsebU+jKPi+iNtN6Cq+2UDqBEnFMSYOLYbzO6yli4PwJy+v5DschA3+Fs4tqb4UYlixHa3YdYEu5gTgrhDTAYJ4Lpz9nVG2+6CcdXDQk+ncHld+X5Y8409YRJUTheY7MzZMH4u88DADdOQNh9NBUvNP5mz2dZrO7ThHY5QBl1OX3/fvrAAIrQ8ZuOLXOaSdrbXZT+uv6PRI/j5moDCZTulogr4TD9PP+zbxPwLlcUpn1DyDFyMw3/w3l8/f9JTB2Z2XEe45iLkYriweMwggxESF3k3JPL1c7gSszAiVPwCPNMvXDxWVJpd3foBPcqdmIf/bl7fyKGNfq5SZOyK77NxC7TmxciSFqiQBf+CnbbKzNqsIwsafbDe09cH2L/zBHBMKeGVDcTh+N3IigGKzi8zK3vwb4+O42NAbW2T0XumnSH0TyN5kJT8YYMYmSwZgBa8un/A/JH/YkoRbPMAAAAAElFTkSuQmCC\" y=\"-9.8645\"/>\r\n",
       "   </g>\r\n",
       "   <g id=\"matplotlib.axis_1\">\r\n",
       "    <g id=\"xtick_1\">\r\n",
       "     <g id=\"line2d_1\">\r\n",
       "      <defs>\r\n",
       "       <path d=\"M 0 0 \r\n",
       "L 0 3.5 \r\n",
       "\" id=\"md07e8b0ac8\" style=\"stroke:#000000;stroke-width:0.8;\"/>\r\n",
       "      </defs>\r\n",
       "      <g>\r\n",
       "       <use style=\"stroke:#000000;stroke-width:0.8;\" x=\"33.038\" xlink:href=\"#md07e8b0ac8\" y=\"227.8645\"/>\r\n",
       "      </g>\r\n",
       "     </g>\r\n",
       "     <g id=\"text_1\">\r\n",
       "      <!-- 0 -->\r\n",
       "      <defs>\r\n",
       "       <path d=\"M 23.703125 63.5 \r\n",
       "Q 32 63.5 38.046875 54.140625 \r\n",
       "Q 44.09375 44.796875 44.09375 30.90625 \r\n",
       "Q 44.09375 17.09375 38.046875 7.75 \r\n",
       "Q 32 -1.59375 23.703125 -1.59375 \r\n",
       "Q 15.703125 -1.59375 9.5 7.65625 \r\n",
       "Q 3.296875 16.90625 3.296875 30.90625 \r\n",
       "Q 3.296875 44.796875 9.34375 54.140625 \r\n",
       "Q 15.40625 63.5 23.703125 63.5 \r\n",
       "z\r\n",
       "M 23.703125 0.703125 \r\n",
       "Q 31.09375 0.703125 33.9375 8.046875 \r\n",
       "Q 36.796875 15.40625 36.796875 30.90625 \r\n",
       "Q 36.796875 46.40625 33.9375 53.796875 \r\n",
       "Q 31.09375 61.203125 23.703125 61.203125 \r\n",
       "Q 16.296875 61.203125 13.4375 53.796875 \r\n",
       "Q 10.59375 46.40625 10.59375 30.90625 \r\n",
       "Q 10.59375 0.703125 23.703125 0.703125 \r\n",
       "z\r\n",
       "\" id=\"STFangsong-48\"/>\r\n",
       "      </defs>\r\n",
       "      <g transform=\"translate(30.692688 241.4645)scale(0.1 -0.1)\">\r\n",
       "       <use xlink:href=\"#STFangsong-48\"/>\r\n",
       "      </g>\r\n",
       "     </g>\r\n",
       "    </g>\r\n",
       "    <g id=\"xtick_2\">\r\n",
       "     <g id=\"line2d_2\">\r\n",
       "      <g>\r\n",
       "       <use style=\"stroke:#000000;stroke-width:0.8;\" x=\"70.788\" xlink:href=\"#md07e8b0ac8\" y=\"227.8645\"/>\r\n",
       "      </g>\r\n",
       "     </g>\r\n",
       "     <g id=\"text_2\">\r\n",
       "      <!-- 250 -->\r\n",
       "      <defs>\r\n",
       "       <path d=\"M 42.59375 -0.296875 \r\n",
       "Q 35.40625 0 22.203125 0 \r\n",
       "Q 9.296875 0 2.203125 -0.296875 \r\n",
       "Q 4.09375 3.59375 7 7.09375 \r\n",
       "Q 9.90625 10.59375 16.296875 17 \r\n",
       "Q 25.59375 26.296875 29.890625 32.84375 \r\n",
       "Q 34.203125 39.40625 34.203125 46.09375 \r\n",
       "Q 34.203125 51.59375 30.75 55 \r\n",
       "Q 27.296875 58.40625 22.203125 58.40625 \r\n",
       "Q 17.203125 58.40625 13.09375 54.953125 \r\n",
       "Q 9 51.5 7.40625 45.203125 \r\n",
       "L 5.09375 45.59375 \r\n",
       "Q 6.703125 54.09375 11.796875 58.796875 \r\n",
       "Q 16.90625 63.5 24.203125 63.5 \r\n",
       "Q 31.5 63.5 36.59375 58.640625 \r\n",
       "Q 41.703125 53.796875 41.703125 47 \r\n",
       "Q 41.703125 40.203125 36.953125 34.25 \r\n",
       "Q 32.203125 28.296875 22.59375 19.40625 \r\n",
       "Q 17.5 14.703125 9.90625 5.296875 \r\n",
       "L 33.40625 5.296875 \r\n",
       "Q 37.203125 5.296875 38.75 6.640625 \r\n",
       "Q 40.296875 8 42 12.5 \r\n",
       "L 44.09375 12.5 \r\n",
       "z\r\n",
       "\" id=\"STFangsong-50\"/>\r\n",
       "       <path d=\"M 38 56.59375 \r\n",
       "L 24 56.59375 \r\n",
       "Q 16.203125 56.59375 15.40625 56.296875 \r\n",
       "L 14.09375 38 \r\n",
       "Q 18.5 40.09375 23.09375 40.09375 \r\n",
       "Q 31.296875 40.09375 37 34.5 \r\n",
       "Q 42.703125 28.90625 42.703125 19.90625 \r\n",
       "Q 42.703125 9.90625 35.640625 4.15625 \r\n",
       "Q 28.59375 -1.59375 19.59375 -1.59375 \r\n",
       "Q 14.59375 -1.59375 10.390625 0.15625 \r\n",
       "Q 6.203125 1.90625 6.203125 4 \r\n",
       "Q 6.203125 5 7.09375 6.046875 \r\n",
       "Q 8 7.09375 9.59375 7.09375 \r\n",
       "Q 10.703125 7.09375 11.40625 6.59375 \r\n",
       "Q 18.40625 1.296875 22.703125 1.296875 \r\n",
       "Q 28.296875 1.296875 32.59375 6.140625 \r\n",
       "Q 36.90625 11 36.90625 17.59375 \r\n",
       "Q 36.90625 24.59375 32.546875 29.25 \r\n",
       "Q 28.203125 33.90625 21.796875 33.90625 \r\n",
       "Q 19 33.90625 16.546875 33 \r\n",
       "Q 14.09375 32.09375 13 30.5 \r\n",
       "L 11.296875 30.5 \r\n",
       "L 13.203125 62.5 \r\n",
       "L 24.09375 62.5 \r\n",
       "Q 31.59375 62.5 34 62.703125 \r\n",
       "Q 36.40625 62.90625 37.40625 64.203125 \r\n",
       "L 38.90625 64.203125 \r\n",
       "z\r\n",
       "\" id=\"STFangsong-53\"/>\r\n",
       "      </defs>\r\n",
       "      <g transform=\"translate(63.752063 241.4645)scale(0.1 -0.1)\">\r\n",
       "       <use xlink:href=\"#STFangsong-50\"/>\r\n",
       "       <use x=\"46.899994\" xlink:href=\"#STFangsong-53\"/>\r\n",
       "       <use x=\"93.799988\" xlink:href=\"#STFangsong-48\"/>\r\n",
       "      </g>\r\n",
       "     </g>\r\n",
       "    </g>\r\n",
       "    <g id=\"xtick_3\">\r\n",
       "     <g id=\"line2d_3\">\r\n",
       "      <g>\r\n",
       "       <use style=\"stroke:#000000;stroke-width:0.8;\" x=\"108.538\" xlink:href=\"#md07e8b0ac8\" y=\"227.8645\"/>\r\n",
       "      </g>\r\n",
       "     </g>\r\n",
       "     <g id=\"text_3\">\r\n",
       "      <!-- 500 -->\r\n",
       "      <g transform=\"translate(101.502062 241.4645)scale(0.1 -0.1)\">\r\n",
       "       <use xlink:href=\"#STFangsong-53\"/>\r\n",
       "       <use x=\"46.899994\" xlink:href=\"#STFangsong-48\"/>\r\n",
       "       <use x=\"93.799988\" xlink:href=\"#STFangsong-48\"/>\r\n",
       "      </g>\r\n",
       "     </g>\r\n",
       "    </g>\r\n",
       "    <g id=\"xtick_4\">\r\n",
       "     <g id=\"line2d_4\">\r\n",
       "      <g>\r\n",
       "       <use style=\"stroke:#000000;stroke-width:0.8;\" x=\"146.288\" xlink:href=\"#md07e8b0ac8\" y=\"227.8645\"/>\r\n",
       "      </g>\r\n",
       "     </g>\r\n",
       "     <g id=\"text_4\">\r\n",
       "      <!-- 750 -->\r\n",
       "      <defs>\r\n",
       "       <path d=\"M 4.59375 62.5 \r\n",
       "L 43.09375 62.5 \r\n",
       "L 43.09375 60.796875 \r\n",
       "Q 39.703125 54.796875 30.953125 30.140625 \r\n",
       "Q 22.203125 5.5 21.296875 0 \r\n",
       "L 18 0 \r\n",
       "Q 22.796875 20.703125 37.296875 56.40625 \r\n",
       "L 10.296875 56.40625 \r\n",
       "Q 7.796875 56.40625 7.59375 55.09375 \r\n",
       "L 6.796875 50.90625 \r\n",
       "L 4.59375 50.90625 \r\n",
       "z\r\n",
       "\" id=\"STFangsong-55\"/>\r\n",
       "      </defs>\r\n",
       "      <g transform=\"translate(139.252062 241.4645)scale(0.1 -0.1)\">\r\n",
       "       <use xlink:href=\"#STFangsong-55\"/>\r\n",
       "       <use x=\"46.899994\" xlink:href=\"#STFangsong-53\"/>\r\n",
       "       <use x=\"93.799988\" xlink:href=\"#STFangsong-48\"/>\r\n",
       "      </g>\r\n",
       "     </g>\r\n",
       "    </g>\r\n",
       "    <g id=\"xtick_5\">\r\n",
       "     <g id=\"line2d_5\">\r\n",
       "      <g>\r\n",
       "       <use style=\"stroke:#000000;stroke-width:0.8;\" x=\"184.038\" xlink:href=\"#md07e8b0ac8\" y=\"227.8645\"/>\r\n",
       "      </g>\r\n",
       "     </g>\r\n",
       "     <g id=\"text_5\">\r\n",
       "      <!-- 1000 -->\r\n",
       "      <defs>\r\n",
       "       <path d=\"M 35.5 -0.296875 \r\n",
       "Q 30.296875 0 23.796875 0 \r\n",
       "Q 17.296875 0 12.09375 -0.296875 \r\n",
       "L 12.09375 1.296875 \r\n",
       "L 17.296875 2.203125 \r\n",
       "Q 20.796875 2.90625 20.796875 6.09375 \r\n",
       "L 20.796875 55.5 \r\n",
       "L 8.90625 47.796875 \r\n",
       "L 7.5 49.703125 \r\n",
       "Q 14.40625 54.203125 24.09375 63.5 \r\n",
       "L 27.40625 63.5 \r\n",
       "L 27.40625 6.09375 \r\n",
       "Q 27.40625 2.703125 30.90625 2.09375 \r\n",
       "L 35.5 1.296875 \r\n",
       "z\r\n",
       "\" id=\"STFangsong-49\"/>\r\n",
       "      </defs>\r\n",
       "      <g transform=\"translate(174.65675 241.4645)scale(0.1 -0.1)\">\r\n",
       "       <use xlink:href=\"#STFangsong-49\"/>\r\n",
       "       <use x=\"46.899994\" xlink:href=\"#STFangsong-48\"/>\r\n",
       "       <use x=\"93.799988\" xlink:href=\"#STFangsong-48\"/>\r\n",
       "       <use x=\"140.699982\" xlink:href=\"#STFangsong-48\"/>\r\n",
       "      </g>\r\n",
       "     </g>\r\n",
       "    </g>\r\n",
       "   </g>\r\n",
       "   <g id=\"matplotlib.axis_2\">\r\n",
       "    <g id=\"ytick_1\">\r\n",
       "     <g id=\"line2d_6\">\r\n",
       "      <defs>\r\n",
       "       <path d=\"M 0 0 \r\n",
       "L -3.5 0 \r\n",
       "\" id=\"m638e7e849a\" style=\"stroke:#000000;stroke-width:0.8;\"/>\r\n",
       "      </defs>\r\n",
       "      <g>\r\n",
       "       <use style=\"stroke:#000000;stroke-width:0.8;\" x=\"32.9625\" xlink:href=\"#m638e7e849a\" y=\"10.5\"/>\r\n",
       "      </g>\r\n",
       "     </g>\r\n",
       "     <g id=\"text_6\">\r\n",
       "      <!-- 0 -->\r\n",
       "      <g transform=\"translate(21.271875 13.8)scale(0.1 -0.1)\">\r\n",
       "       <use xlink:href=\"#STFangsong-48\"/>\r\n",
       "      </g>\r\n",
       "     </g>\r\n",
       "    </g>\r\n",
       "    <g id=\"ytick_2\">\r\n",
       "     <g id=\"line2d_7\">\r\n",
       "      <g>\r\n",
       "       <use style=\"stroke:#000000;stroke-width:0.8;\" x=\"32.9625\" xlink:href=\"#m638e7e849a\" y=\"40.7\"/>\r\n",
       "      </g>\r\n",
       "     </g>\r\n",
       "     <g id=\"text_7\">\r\n",
       "      <!-- 200 -->\r\n",
       "      <g transform=\"translate(11.890625 44)scale(0.1 -0.1)\">\r\n",
       "       <use xlink:href=\"#STFangsong-50\"/>\r\n",
       "       <use x=\"46.899994\" xlink:href=\"#STFangsong-48\"/>\r\n",
       "       <use x=\"93.799988\" xlink:href=\"#STFangsong-48\"/>\r\n",
       "      </g>\r\n",
       "     </g>\r\n",
       "    </g>\r\n",
       "    <g id=\"ytick_3\">\r\n",
       "     <g id=\"line2d_8\">\r\n",
       "      <g>\r\n",
       "       <use style=\"stroke:#000000;stroke-width:0.8;\" x=\"32.9625\" xlink:href=\"#m638e7e849a\" y=\"70.9\"/>\r\n",
       "      </g>\r\n",
       "     </g>\r\n",
       "     <g id=\"text_8\">\r\n",
       "      <!-- 400 -->\r\n",
       "      <defs>\r\n",
       "       <path d=\"M 32.59375 63.5 \r\n",
       "L 35 63.5 \r\n",
       "L 35 22 \r\n",
       "L 45.59375 22 \r\n",
       "L 45.59375 17.40625 \r\n",
       "L 35 17.40625 \r\n",
       "L 35 -1.59375 \r\n",
       "L 28.40625 -1.59375 \r\n",
       "L 28.40625 17.40625 \r\n",
       "L 2.796875 17.40625 \r\n",
       "L 2.796875 20.703125 \r\n",
       "L 14.703125 38.09375 \r\n",
       "z\r\n",
       "M 28.40625 22 \r\n",
       "L 28.40625 52.703125 \r\n",
       "Q 14.796875 33.796875 7.59375 22 \r\n",
       "z\r\n",
       "\" id=\"STFangsong-52\"/>\r\n",
       "      </defs>\r\n",
       "      <g transform=\"translate(11.890625 74.2)scale(0.1 -0.1)\">\r\n",
       "       <use xlink:href=\"#STFangsong-52\"/>\r\n",
       "       <use x=\"46.899994\" xlink:href=\"#STFangsong-48\"/>\r\n",
       "       <use x=\"93.799988\" xlink:href=\"#STFangsong-48\"/>\r\n",
       "      </g>\r\n",
       "     </g>\r\n",
       "    </g>\r\n",
       "    <g id=\"ytick_4\">\r\n",
       "     <g id=\"line2d_9\">\r\n",
       "      <g>\r\n",
       "       <use style=\"stroke:#000000;stroke-width:0.8;\" x=\"32.9625\" xlink:href=\"#m638e7e849a\" y=\"101.1\"/>\r\n",
       "      </g>\r\n",
       "     </g>\r\n",
       "     <g id=\"text_9\">\r\n",
       "      <!-- 600 -->\r\n",
       "      <defs>\r\n",
       "       <path d=\"M 38.40625 63.796875 \r\n",
       "L 39.203125 61.90625 \r\n",
       "Q 26.703125 57.203125 19.25 45.84375 \r\n",
       "Q 11.796875 34.5 11.796875 21.5 \r\n",
       "Q 11.796875 12.90625 15.390625 6.75 \r\n",
       "Q 19 0.59375 24.203125 0.59375 \r\n",
       "Q 35.40625 0.59375 35.40625 18.40625 \r\n",
       "Q 35.40625 25.90625 32.5 30.09375 \r\n",
       "Q 29.59375 34.296875 25.203125 34.296875 \r\n",
       "Q 23.5 34.296875 21.90625 33.59375 \r\n",
       "L 20.796875 35.203125 \r\n",
       "Q 24 36.59375 27.296875 36.59375 \r\n",
       "Q 33.90625 36.59375 38.25 31.59375 \r\n",
       "Q 42.59375 26.59375 42.59375 17.90625 \r\n",
       "Q 42.59375 9.59375 37.4375 4 \r\n",
       "Q 32.296875 -1.59375 24.09375 -1.59375 \r\n",
       "Q 15.59375 -1.59375 10.25 5.046875 \r\n",
       "Q 4.90625 11.703125 4.90625 23.09375 \r\n",
       "Q 4.90625 36.90625 13.953125 48.25 \r\n",
       "Q 23 59.59375 38.40625 63.796875 \r\n",
       "z\r\n",
       "\" id=\"STFangsong-54\"/>\r\n",
       "      </defs>\r\n",
       "      <g transform=\"translate(11.890625 104.4)scale(0.1 -0.1)\">\r\n",
       "       <use xlink:href=\"#STFangsong-54\"/>\r\n",
       "       <use x=\"46.899994\" xlink:href=\"#STFangsong-48\"/>\r\n",
       "       <use x=\"93.799988\" xlink:href=\"#STFangsong-48\"/>\r\n",
       "      </g>\r\n",
       "     </g>\r\n",
       "    </g>\r\n",
       "    <g id=\"ytick_5\">\r\n",
       "     <g id=\"line2d_10\">\r\n",
       "      <g>\r\n",
       "       <use style=\"stroke:#000000;stroke-width:0.8;\" x=\"32.9625\" xlink:href=\"#m638e7e849a\" y=\"131.3\"/>\r\n",
       "      </g>\r\n",
       "     </g>\r\n",
       "     <g id=\"text_10\">\r\n",
       "      <!-- 800 -->\r\n",
       "      <defs>\r\n",
       "       <path d=\"M 19.796875 31.203125 \r\n",
       "Q 7.703125 37.203125 7.703125 47.5 \r\n",
       "Q 7.703125 53.703125 12.640625 58.59375 \r\n",
       "Q 17.59375 63.5 24.296875 63.5 \r\n",
       "Q 31.90625 63.5 36.59375 59.390625 \r\n",
       "Q 41.296875 55.296875 41.296875 49.09375 \r\n",
       "Q 41.296875 43.703125 38.296875 40.390625 \r\n",
       "Q 35.296875 37.09375 29.703125 34.296875 \r\n",
       "Q 38.90625 29.90625 41.5 25.40625 \r\n",
       "Q 44.09375 20.90625 44.09375 16.40625 \r\n",
       "Q 44.09375 9.09375 38.640625 3.75 \r\n",
       "Q 33.203125 -1.59375 25.09375 -1.59375 \r\n",
       "Q 16.703125 -1.59375 11.703125 3.046875 \r\n",
       "Q 6.703125 7.703125 6.703125 14.796875 \r\n",
       "Q 6.703125 19.09375 8.703125 23.25 \r\n",
       "Q 10.703125 27.40625 19.796875 31.203125 \r\n",
       "z\r\n",
       "M 27.5 35.5 \r\n",
       "Q 31.59375 37.40625 33.796875 41.046875 \r\n",
       "Q 36 44.703125 36 49 \r\n",
       "Q 36 54.296875 32.953125 57.75 \r\n",
       "Q 29.90625 61.203125 24.5 61.203125 \r\n",
       "Q 19.59375 61.203125 16.5 57.84375 \r\n",
       "Q 13.40625 54.5 13.40625 49.59375 \r\n",
       "Q 13.40625 47.09375 14.296875 44.6875 \r\n",
       "Q 15.203125 42.296875 19.25 39.5 \r\n",
       "Q 23.296875 36.703125 27.5 35.5 \r\n",
       "z\r\n",
       "M 22.203125 30.09375 \r\n",
       "Q 17.09375 27.59375 14.890625 23.9375 \r\n",
       "Q 12.703125 20.296875 12.703125 14.203125 \r\n",
       "Q 12.703125 8.09375 16.203125 4.4375 \r\n",
       "Q 19.703125 0.796875 25 0.796875 \r\n",
       "Q 30.5 0.796875 34.140625 4.4375 \r\n",
       "Q 37.796875 8.09375 37.796875 13.796875 \r\n",
       "Q 37.796875 19.796875 34.140625 23.390625 \r\n",
       "Q 30.5 27 22.203125 30.09375 \r\n",
       "z\r\n",
       "\" id=\"STFangsong-56\"/>\r\n",
       "      </defs>\r\n",
       "      <g transform=\"translate(11.890625 134.6)scale(0.1 -0.1)\">\r\n",
       "       <use xlink:href=\"#STFangsong-56\"/>\r\n",
       "       <use x=\"46.899994\" xlink:href=\"#STFangsong-48\"/>\r\n",
       "       <use x=\"93.799988\" xlink:href=\"#STFangsong-48\"/>\r\n",
       "      </g>\r\n",
       "     </g>\r\n",
       "    </g>\r\n",
       "    <g id=\"ytick_6\">\r\n",
       "     <g id=\"line2d_11\">\r\n",
       "      <g>\r\n",
       "       <use style=\"stroke:#000000;stroke-width:0.8;\" x=\"32.9625\" xlink:href=\"#m638e7e849a\" y=\"161.5\"/>\r\n",
       "      </g>\r\n",
       "     </g>\r\n",
       "     <g id=\"text_11\">\r\n",
       "      <!-- 1000 -->\r\n",
       "      <g transform=\"translate(7.2 164.8)scale(0.1 -0.1)\">\r\n",
       "       <use xlink:href=\"#STFangsong-49\"/>\r\n",
       "       <use x=\"46.899994\" xlink:href=\"#STFangsong-48\"/>\r\n",
       "       <use x=\"93.799988\" xlink:href=\"#STFangsong-48\"/>\r\n",
       "       <use x=\"140.699982\" xlink:href=\"#STFangsong-48\"/>\r\n",
       "      </g>\r\n",
       "     </g>\r\n",
       "    </g>\r\n",
       "    <g id=\"ytick_7\">\r\n",
       "     <g id=\"line2d_12\">\r\n",
       "      <g>\r\n",
       "       <use style=\"stroke:#000000;stroke-width:0.8;\" x=\"32.9625\" xlink:href=\"#m638e7e849a\" y=\"191.7\"/>\r\n",
       "      </g>\r\n",
       "     </g>\r\n",
       "     <g id=\"text_12\">\r\n",
       "      <!-- 1200 -->\r\n",
       "      <g transform=\"translate(7.2 195)scale(0.1 -0.1)\">\r\n",
       "       <use xlink:href=\"#STFangsong-49\"/>\r\n",
       "       <use x=\"46.899994\" xlink:href=\"#STFangsong-50\"/>\r\n",
       "       <use x=\"93.799988\" xlink:href=\"#STFangsong-48\"/>\r\n",
       "       <use x=\"140.699982\" xlink:href=\"#STFangsong-48\"/>\r\n",
       "      </g>\r\n",
       "     </g>\r\n",
       "    </g>\r\n",
       "    <g id=\"ytick_8\">\r\n",
       "     <g id=\"line2d_13\">\r\n",
       "      <g>\r\n",
       "       <use style=\"stroke:#000000;stroke-width:0.8;\" x=\"32.9625\" xlink:href=\"#m638e7e849a\" y=\"221.9\"/>\r\n",
       "      </g>\r\n",
       "     </g>\r\n",
       "     <g id=\"text_13\">\r\n",
       "      <!-- 1400 -->\r\n",
       "      <g transform=\"translate(7.2 225.2)scale(0.1 -0.1)\">\r\n",
       "       <use xlink:href=\"#STFangsong-49\"/>\r\n",
       "       <use x=\"46.899994\" xlink:href=\"#STFangsong-52\"/>\r\n",
       "       <use x=\"93.799988\" xlink:href=\"#STFangsong-48\"/>\r\n",
       "       <use x=\"140.699982\" xlink:href=\"#STFangsong-48\"/>\r\n",
       "      </g>\r\n",
       "     </g>\r\n",
       "    </g>\r\n",
       "   </g>\r\n",
       "   <g id=\"patch_3\">\r\n",
       "    <path d=\"M 32.9625 227.8645 \r\n",
       "L 32.9625 10.4245 \r\n",
       "\" style=\"fill:none;stroke:#000000;stroke-linecap:square;stroke-linejoin:miter;stroke-width:0.8;\"/>\r\n",
       "   </g>\r\n",
       "   <g id=\"patch_4\">\r\n",
       "    <path d=\"M 184.8685 227.8645 \r\n",
       "L 184.8685 10.4245 \r\n",
       "\" style=\"fill:none;stroke:#000000;stroke-linecap:square;stroke-linejoin:miter;stroke-width:0.8;\"/>\r\n",
       "   </g>\r\n",
       "   <g id=\"patch_5\">\r\n",
       "    <path d=\"M 32.9625 227.8645 \r\n",
       "L 184.8685 227.8645 \r\n",
       "\" style=\"fill:none;stroke:#000000;stroke-linecap:square;stroke-linejoin:miter;stroke-width:0.8;\"/>\r\n",
       "   </g>\r\n",
       "   <g id=\"patch_6\">\r\n",
       "    <path d=\"M 32.9625 10.4245 \r\n",
       "L 184.8685 10.4245 \r\n",
       "\" style=\"fill:none;stroke:#000000;stroke-linecap:square;stroke-linejoin:miter;stroke-width:0.8;\"/>\r\n",
       "   </g>\r\n",
       "  </g>\r\n",
       " </g>\r\n",
       " <defs>\r\n",
       "  <clipPath id=\"pbc3b88e196\">\r\n",
       "   <rect height=\"217.44\" width=\"151.906\" x=\"32.9625\" y=\"10.4245\"/>\r\n",
       "  </clipPath>\r\n",
       " </defs>\r\n",
       "</svg>\r\n"
      ],
      "text/plain": [
       "<Figure size 432x288 with 1 Axes>"
      ]
     },
     "metadata": {
      "needs_background": "light"
     },
     "output_type": "display_data"
    }
   ],
   "source": [
    "# 交换指定的轴\n",
    "plt.imshow(array13.swapaxes(0,1))   # 将0,1轴互换"
   ]
  },
  {
   "cell_type": "code",
   "execution_count": 61,
   "id": "5c89c650",
   "metadata": {},
   "outputs": [
    {
     "data": {
      "text/plain": [
       "array([[67, 88, 99, 83, 71],\n",
       "       [85, 66, 90, 99, 77],\n",
       "       [65, 64, 74, 74, 94]])"
      ]
     },
     "execution_count": 61,
     "metadata": {},
     "output_type": "execute_result"
    }
   ],
   "source": [
    "# 转置\n",
    "array11.transpose()"
   ]
  },
  {
   "cell_type": "code",
   "execution_count": 62,
   "id": "b8cce1fd",
   "metadata": {},
   "outputs": [],
   "source": [
    "arraya = np.array([42,45,62,56,35,79,67,74,30,28,54])\n",
    "arrayb = np.array([65,36,123,25,45,32,26,78,57,51,34])\n",
    "arrayc = np.array([82,36,21,23,25,43,52,59,60,76,95])"
   ]
  },
  {
   "cell_type": "code",
   "execution_count": 63,
   "id": "15f11515",
   "metadata": {},
   "outputs": [
    {
     "data": {
      "text/plain": [
       "(572, 572, 572)"
      ]
     },
     "execution_count": 63,
     "metadata": {},
     "output_type": "execute_result"
    }
   ],
   "source": [
    "suma = np.sum(arraya)\n",
    "sumb = np.sum(arrayb)\n",
    "sumc = np.sum(arrayc)\n",
    "suma,sumb,sumc"
   ]
  },
  {
   "cell_type": "code",
   "execution_count": 64,
   "id": "c0baa2e9",
   "metadata": {},
   "outputs": [
    {
     "data": {
      "text/plain": [
       "(52.0, 52.0, 52.0)"
      ]
     },
     "execution_count": 64,
     "metadata": {},
     "output_type": "execute_result"
    }
   ],
   "source": [
    "avga = np.mean(arraya)\n",
    "avgb = np.mean(arrayb)\n",
    "avgc = np.mean(arrayc)\n",
    "avga,avgb,avgc"
   ]
  },
  {
   "cell_type": "code",
   "execution_count": 65,
   "id": "5b7be4a1",
   "metadata": {},
   "outputs": [
    {
     "data": {
      "text/plain": [
       "(16.67, 27.55, 23.94)"
      ]
     },
     "execution_count": 65,
     "metadata": {},
     "output_type": "execute_result"
    }
   ],
   "source": [
    "stda = np.std(arraya)\n",
    "stdb = np.std(arrayb)\n",
    "stdc = np.std(arrayc)\n",
    "np.round(stda,2),np.round(stdb,2),np.round(stdc,2)"
   ]
  },
  {
   "cell_type": "code",
   "execution_count": 66,
   "id": "ddfd6381",
   "metadata": {},
   "outputs": [
    {
     "data": {
      "text/plain": [
       "(54.0, 45.0, 52.0)"
      ]
     },
     "execution_count": 66,
     "metadata": {},
     "output_type": "execute_result"
    }
   ],
   "source": [
    "media = np.median(arraya)\n",
    "medib = np.median(arrayb)\n",
    "medic = np.median(arrayc)\n",
    "media,medib,medic"
   ]
  },
  {
   "cell_type": "code",
   "execution_count": 67,
   "id": "a69fa915",
   "metadata": {},
   "outputs": [
    {
     "data": {
      "text/plain": [
       "277.8181818181818"
      ]
     },
     "execution_count": 67,
     "metadata": {},
     "output_type": "execute_result"
    }
   ],
   "source": [
    "np.var(arraya)"
   ]
  },
  {
   "cell_type": "markdown",
   "id": "27fb511a",
   "metadata": {},
   "source": [
    "## 数组与数组之间的运算"
   ]
  },
  {
   "cell_type": "code",
   "execution_count": 68,
   "id": "1fc95ce4",
   "metadata": {},
   "outputs": [
    {
     "data": {
      "text/plain": [
       "array([107,  81, 185,  81,  80, 111,  93, 152,  87,  79,  88])"
      ]
     },
     "execution_count": 68,
     "metadata": {},
     "output_type": "execute_result"
    }
   ],
   "source": [
    "# +、-、*、/ 、**   指定位置元素做运算\n",
    "arraya + arrayb"
   ]
  },
  {
   "cell_type": "code",
   "execution_count": 69,
   "id": "113da7de",
   "metadata": {},
   "outputs": [
    {
     "data": {
      "text/plain": [
       "array([[67, 88, 99, 83, 71],\n",
       "       [85, 66, 90, 99, 77],\n",
       "       [65, 64, 74, 74, 94]])"
      ]
     },
     "execution_count": 69,
     "metadata": {},
     "output_type": "execute_result"
    }
   ],
   "source": [
    "array11.transpose()"
   ]
  },
  {
   "cell_type": "code",
   "execution_count": 70,
   "id": "2e09dd0f",
   "metadata": {},
   "outputs": [
    {
     "data": {
      "text/plain": [
       "array([[ 72,  93, 104,  88,  76],\n",
       "       [ 90,  71,  95, 104,  82],\n",
       "       [ 70,  69,  79,  79,  99]])"
      ]
     },
     "execution_count": 70,
     "metadata": {},
     "output_type": "execute_result"
    }
   ],
   "source": [
    "# 广播机制\n",
    "arrayd = np.array([5,5,5,5,5])\n",
    "array11.transpose() + arrayd"
   ]
  },
  {
   "cell_type": "code",
   "execution_count": 71,
   "id": "094424a2",
   "metadata": {},
   "outputs": [
    {
     "data": {
      "text/plain": [
       "array([[ 72,  93, 104,  88,  76],\n",
       "       [ 90,  71,  95, 104,  82],\n",
       "       [ 70,  69,  79,  79,  99]])"
      ]
     },
     "execution_count": 71,
     "metadata": {},
     "output_type": "execute_result"
    }
   ],
   "source": [
    "arraye = np.array([[5],[5],[5]])\n",
    "arraye + array11.transpose()"
   ]
  },
  {
   "cell_type": "markdown",
   "id": "b81cb4b2",
   "metadata": {},
   "source": [
    "当两个数组形状不一致时，如果两个数组的后缘维度(shape属性从后往前看〉相同或者其中一个的后缘维度为1，那么这个时候可以通过广播机制让两个数组的形状趋于一致，这种情况是可以进行运算的;如果不能应用广播机制，那么两个数组没有办法进行运算。"
   ]
  },
  {
   "cell_type": "code",
   "execution_count": 72,
   "id": "e6d4c88a",
   "metadata": {},
   "outputs": [
    {
     "data": {
      "text/plain": [
       "array([ 1.,  2., nan,  3.,  4., nan,  5., inf])"
      ]
     },
     "execution_count": 72,
     "metadata": {},
     "output_type": "execute_result"
    }
   ],
   "source": [
    "arrayn = np.array([1,2,np.nan,3,4,np.nan,5,np.inf])\n",
    "arrayn"
   ]
  },
  {
   "cell_type": "code",
   "execution_count": 73,
   "id": "58f22fc1",
   "metadata": {},
   "outputs": [
    {
     "data": {
      "text/plain": [
       "array([ 1.,  2.,  3.,  4.,  5., inf])"
      ]
     },
     "execution_count": 73,
     "metadata": {},
     "output_type": "execute_result"
    }
   ],
   "source": [
    "# 取反   True -> False\n",
    "arrayn[~np.isnan(arrayn)]"
   ]
  },
  {
   "cell_type": "code",
   "execution_count": 74,
   "id": "4eb501b7",
   "metadata": {},
   "outputs": [
    {
     "data": {
      "text/plain": [
       "array([False, False, False, False, False, False, False,  True])"
      ]
     },
     "execution_count": 74,
     "metadata": {},
     "output_type": "execute_result"
    }
   ],
   "source": [
    "np.isinf(arrayn)"
   ]
  },
  {
   "cell_type": "code",
   "execution_count": 75,
   "id": "6c5935f0",
   "metadata": {},
   "outputs": [
    {
     "data": {
      "image/svg+xml": [
       "<?xml version=\"1.0\" encoding=\"utf-8\" standalone=\"no\"?>\r\n",
       "<!DOCTYPE svg PUBLIC \"-//W3C//DTD SVG 1.1//EN\"\r\n",
       "  \"http://www.w3.org/Graphics/SVG/1.1/DTD/svg11.dtd\">\r\n",
       "<!-- Created with matplotlib (https://matplotlib.org/) -->\r\n",
       "<svg height=\"248.010312pt\" version=\"1.1\" viewBox=\"0 0 384.34375 248.010312\" width=\"384.34375pt\" xmlns=\"http://www.w3.org/2000/svg\" xmlns:xlink=\"http://www.w3.org/1999/xlink\">\r\n",
       " <defs>\r\n",
       "  <style type=\"text/css\">\r\n",
       "*{stroke-linecap:butt;stroke-linejoin:round;}\r\n",
       "  </style>\r\n",
       " </defs>\r\n",
       " <g id=\"figure_1\">\r\n",
       "  <g id=\"patch_1\">\r\n",
       "   <path d=\"M 0 248.010312 \r\n",
       "L 384.34375 248.010312 \r\n",
       "L 384.34375 0 \r\n",
       "L 0 0 \r\n",
       "z\r\n",
       "\" style=\"fill:none;\"/>\r\n",
       "  </g>\r\n",
       "  <g id=\"axes_1\">\r\n",
       "   <g id=\"patch_2\">\r\n",
       "    <path d=\"M 42.34375 224.64 \r\n",
       "L 377.14375 224.64 \r\n",
       "L 377.14375 7.2 \r\n",
       "L 42.34375 7.2 \r\n",
       "z\r\n",
       "\" style=\"fill:#ffffff;\"/>\r\n",
       "   </g>\r\n",
       "   <g id=\"matplotlib.axis_1\">\r\n",
       "    <g id=\"xtick_1\">\r\n",
       "     <g id=\"line2d_1\">\r\n",
       "      <defs>\r\n",
       "       <path d=\"M 0 0 \r\n",
       "L 0 3.5 \r\n",
       "\" id=\"m5360ee914e\" style=\"stroke:#000000;stroke-width:0.8;\"/>\r\n",
       "      </defs>\r\n",
       "      <g>\r\n",
       "       <use style=\"stroke:#000000;stroke-width:0.8;\" x=\"88.641307\" xlink:href=\"#m5360ee914e\" y=\"224.64\"/>\r\n",
       "      </g>\r\n",
       "     </g>\r\n",
       "     <g id=\"text_1\">\r\n",
       "      <!-- -10 -->\r\n",
       "      <defs>\r\n",
       "       <path d=\"M 3.796875 21.703125 \r\n",
       "L 27.5 21.703125 \r\n",
       "L 27.5 17.40625 \r\n",
       "L 3.796875 17.40625 \r\n",
       "z\r\n",
       "\" id=\"STFangsong-45\"/>\r\n",
       "       <path d=\"M 35.5 -0.296875 \r\n",
       "Q 30.296875 0 23.796875 0 \r\n",
       "Q 17.296875 0 12.09375 -0.296875 \r\n",
       "L 12.09375 1.296875 \r\n",
       "L 17.296875 2.203125 \r\n",
       "Q 20.796875 2.90625 20.796875 6.09375 \r\n",
       "L 20.796875 55.5 \r\n",
       "L 8.90625 47.796875 \r\n",
       "L 7.5 49.703125 \r\n",
       "Q 14.40625 54.203125 24.09375 63.5 \r\n",
       "L 27.40625 63.5 \r\n",
       "L 27.40625 6.09375 \r\n",
       "Q 27.40625 2.703125 30.90625 2.09375 \r\n",
       "L 35.5 1.296875 \r\n",
       "z\r\n",
       "\" id=\"STFangsong-49\"/>\r\n",
       "       <path d=\"M 23.703125 63.5 \r\n",
       "Q 32 63.5 38.046875 54.140625 \r\n",
       "Q 44.09375 44.796875 44.09375 30.90625 \r\n",
       "Q 44.09375 17.09375 38.046875 7.75 \r\n",
       "Q 32 -1.59375 23.703125 -1.59375 \r\n",
       "Q 15.703125 -1.59375 9.5 7.65625 \r\n",
       "Q 3.296875 16.90625 3.296875 30.90625 \r\n",
       "Q 3.296875 44.796875 9.34375 54.140625 \r\n",
       "Q 15.40625 63.5 23.703125 63.5 \r\n",
       "z\r\n",
       "M 23.703125 0.703125 \r\n",
       "Q 31.09375 0.703125 33.9375 8.046875 \r\n",
       "Q 36.796875 15.40625 36.796875 30.90625 \r\n",
       "Q 36.796875 46.40625 33.9375 53.796875 \r\n",
       "Q 31.09375 61.203125 23.703125 61.203125 \r\n",
       "Q 16.296875 61.203125 13.4375 53.796875 \r\n",
       "Q 10.59375 46.40625 10.59375 30.90625 \r\n",
       "Q 10.59375 0.703125 23.703125 0.703125 \r\n",
       "z\r\n",
       "\" id=\"STFangsong-48\"/>\r\n",
       "      </defs>\r\n",
       "      <g transform=\"translate(82.385838 238.24)scale(0.1 -0.1)\">\r\n",
       "       <use xlink:href=\"#STFangsong-45\"/>\r\n",
       "       <use x=\"31.299988\" xlink:href=\"#STFangsong-49\"/>\r\n",
       "       <use x=\"78.199982\" xlink:href=\"#STFangsong-48\"/>\r\n",
       "      </g>\r\n",
       "     </g>\r\n",
       "    </g>\r\n",
       "    <g id=\"xtick_2\">\r\n",
       "     <g id=\"line2d_2\">\r\n",
       "      <g>\r\n",
       "       <use style=\"stroke:#000000;stroke-width:0.8;\" x=\"149.192528\" xlink:href=\"#m5360ee914e\" y=\"224.64\"/>\r\n",
       "      </g>\r\n",
       "     </g>\r\n",
       "     <g id=\"text_2\">\r\n",
       "      <!-- -5 -->\r\n",
       "      <defs>\r\n",
       "       <path d=\"M 38 56.59375 \r\n",
       "L 24 56.59375 \r\n",
       "Q 16.203125 56.59375 15.40625 56.296875 \r\n",
       "L 14.09375 38 \r\n",
       "Q 18.5 40.09375 23.09375 40.09375 \r\n",
       "Q 31.296875 40.09375 37 34.5 \r\n",
       "Q 42.703125 28.90625 42.703125 19.90625 \r\n",
       "Q 42.703125 9.90625 35.640625 4.15625 \r\n",
       "Q 28.59375 -1.59375 19.59375 -1.59375 \r\n",
       "Q 14.59375 -1.59375 10.390625 0.15625 \r\n",
       "Q 6.203125 1.90625 6.203125 4 \r\n",
       "Q 6.203125 5 7.09375 6.046875 \r\n",
       "Q 8 7.09375 9.59375 7.09375 \r\n",
       "Q 10.703125 7.09375 11.40625 6.59375 \r\n",
       "Q 18.40625 1.296875 22.703125 1.296875 \r\n",
       "Q 28.296875 1.296875 32.59375 6.140625 \r\n",
       "Q 36.90625 11 36.90625 17.59375 \r\n",
       "Q 36.90625 24.59375 32.546875 29.25 \r\n",
       "Q 28.203125 33.90625 21.796875 33.90625 \r\n",
       "Q 19 33.90625 16.546875 33 \r\n",
       "Q 14.09375 32.09375 13 30.5 \r\n",
       "L 11.296875 30.5 \r\n",
       "L 13.203125 62.5 \r\n",
       "L 24.09375 62.5 \r\n",
       "Q 31.59375 62.5 34 62.703125 \r\n",
       "Q 36.40625 62.90625 37.40625 64.203125 \r\n",
       "L 38.90625 64.203125 \r\n",
       "z\r\n",
       "\" id=\"STFangsong-53\"/>\r\n",
       "      </defs>\r\n",
       "      <g transform=\"translate(145.282372 238.24)scale(0.1 -0.1)\">\r\n",
       "       <use xlink:href=\"#STFangsong-45\"/>\r\n",
       "       <use x=\"31.299988\" xlink:href=\"#STFangsong-53\"/>\r\n",
       "      </g>\r\n",
       "     </g>\r\n",
       "    </g>\r\n",
       "    <g id=\"xtick_3\">\r\n",
       "     <g id=\"line2d_3\">\r\n",
       "      <g>\r\n",
       "       <use style=\"stroke:#000000;stroke-width:0.8;\" x=\"209.74375\" xlink:href=\"#m5360ee914e\" y=\"224.64\"/>\r\n",
       "      </g>\r\n",
       "     </g>\r\n",
       "     <g id=\"text_3\">\r\n",
       "      <!-- 0 -->\r\n",
       "      <g transform=\"translate(207.398438 238.24)scale(0.1 -0.1)\">\r\n",
       "       <use xlink:href=\"#STFangsong-48\"/>\r\n",
       "      </g>\r\n",
       "     </g>\r\n",
       "    </g>\r\n",
       "    <g id=\"xtick_4\">\r\n",
       "     <g id=\"line2d_4\">\r\n",
       "      <g>\r\n",
       "       <use style=\"stroke:#000000;stroke-width:0.8;\" x=\"270.294972\" xlink:href=\"#m5360ee914e\" y=\"224.64\"/>\r\n",
       "      </g>\r\n",
       "     </g>\r\n",
       "     <g id=\"text_4\">\r\n",
       "      <!-- 5 -->\r\n",
       "      <g transform=\"translate(267.949659 238.24)scale(0.1 -0.1)\">\r\n",
       "       <use xlink:href=\"#STFangsong-53\"/>\r\n",
       "      </g>\r\n",
       "     </g>\r\n",
       "    </g>\r\n",
       "    <g id=\"xtick_5\">\r\n",
       "     <g id=\"line2d_5\">\r\n",
       "      <g>\r\n",
       "       <use style=\"stroke:#000000;stroke-width:0.8;\" x=\"330.846193\" xlink:href=\"#m5360ee914e\" y=\"224.64\"/>\r\n",
       "      </g>\r\n",
       "     </g>\r\n",
       "     <g id=\"text_5\">\r\n",
       "      <!-- 10 -->\r\n",
       "      <g transform=\"translate(326.155568 238.24)scale(0.1 -0.1)\">\r\n",
       "       <use xlink:href=\"#STFangsong-49\"/>\r\n",
       "       <use x=\"46.899994\" xlink:href=\"#STFangsong-48\"/>\r\n",
       "      </g>\r\n",
       "     </g>\r\n",
       "    </g>\r\n",
       "   </g>\r\n",
       "   <g id=\"matplotlib.axis_2\">\r\n",
       "    <g id=\"ytick_1\">\r\n",
       "     <g id=\"line2d_6\">\r\n",
       "      <defs>\r\n",
       "       <path d=\"M 0 0 \r\n",
       "L -3.5 0 \r\n",
       "\" id=\"m6ca246dc84\" style=\"stroke:#000000;stroke-width:0.8;\"/>\r\n",
       "      </defs>\r\n",
       "      <g>\r\n",
       "       <use style=\"stroke:#000000;stroke-width:0.8;\" x=\"42.34375\" xlink:href=\"#m6ca246dc84\" y=\"214.757742\"/>\r\n",
       "      </g>\r\n",
       "     </g>\r\n",
       "     <g id=\"text_6\">\r\n",
       "      <!-- 0 -->\r\n",
       "      <g transform=\"translate(30.653125 218.057742)scale(0.1 -0.1)\">\r\n",
       "       <use xlink:href=\"#STFangsong-48\"/>\r\n",
       "      </g>\r\n",
       "     </g>\r\n",
       "    </g>\r\n",
       "    <g id=\"ytick_2\">\r\n",
       "     <g id=\"line2d_7\">\r\n",
       "      <g>\r\n",
       "       <use style=\"stroke:#000000;stroke-width:0.8;\" x=\"42.34375\" xlink:href=\"#m6ca246dc84\" y=\"187.183451\"/>\r\n",
       "      </g>\r\n",
       "     </g>\r\n",
       "     <g id=\"text_7\">\r\n",
       "      <!-- 20000 -->\r\n",
       "      <defs>\r\n",
       "       <path d=\"M 42.59375 -0.296875 \r\n",
       "Q 35.40625 0 22.203125 0 \r\n",
       "Q 9.296875 0 2.203125 -0.296875 \r\n",
       "Q 4.09375 3.59375 7 7.09375 \r\n",
       "Q 9.90625 10.59375 16.296875 17 \r\n",
       "Q 25.59375 26.296875 29.890625 32.84375 \r\n",
       "Q 34.203125 39.40625 34.203125 46.09375 \r\n",
       "Q 34.203125 51.59375 30.75 55 \r\n",
       "Q 27.296875 58.40625 22.203125 58.40625 \r\n",
       "Q 17.203125 58.40625 13.09375 54.953125 \r\n",
       "Q 9 51.5 7.40625 45.203125 \r\n",
       "L 5.09375 45.59375 \r\n",
       "Q 6.703125 54.09375 11.796875 58.796875 \r\n",
       "Q 16.90625 63.5 24.203125 63.5 \r\n",
       "Q 31.5 63.5 36.59375 58.640625 \r\n",
       "Q 41.703125 53.796875 41.703125 47 \r\n",
       "Q 41.703125 40.203125 36.953125 34.25 \r\n",
       "Q 32.203125 28.296875 22.59375 19.40625 \r\n",
       "Q 17.5 14.703125 9.90625 5.296875 \r\n",
       "L 33.40625 5.296875 \r\n",
       "Q 37.203125 5.296875 38.75 6.640625 \r\n",
       "Q 40.296875 8 42 12.5 \r\n",
       "L 44.09375 12.5 \r\n",
       "z\r\n",
       "\" id=\"STFangsong-50\"/>\r\n",
       "      </defs>\r\n",
       "      <g transform=\"translate(11.890625 190.483451)scale(0.1 -0.1)\">\r\n",
       "       <use xlink:href=\"#STFangsong-50\"/>\r\n",
       "       <use x=\"46.899994\" xlink:href=\"#STFangsong-48\"/>\r\n",
       "       <use x=\"93.799988\" xlink:href=\"#STFangsong-48\"/>\r\n",
       "       <use x=\"140.699982\" xlink:href=\"#STFangsong-48\"/>\r\n",
       "       <use x=\"187.599976\" xlink:href=\"#STFangsong-48\"/>\r\n",
       "      </g>\r\n",
       "     </g>\r\n",
       "    </g>\r\n",
       "    <g id=\"ytick_3\">\r\n",
       "     <g id=\"line2d_8\">\r\n",
       "      <g>\r\n",
       "       <use style=\"stroke:#000000;stroke-width:0.8;\" x=\"42.34375\" xlink:href=\"#m6ca246dc84\" y=\"159.60916\"/>\r\n",
       "      </g>\r\n",
       "     </g>\r\n",
       "     <g id=\"text_8\">\r\n",
       "      <!-- 40000 -->\r\n",
       "      <defs>\r\n",
       "       <path d=\"M 32.59375 63.5 \r\n",
       "L 35 63.5 \r\n",
       "L 35 22 \r\n",
       "L 45.59375 22 \r\n",
       "L 45.59375 17.40625 \r\n",
       "L 35 17.40625 \r\n",
       "L 35 -1.59375 \r\n",
       "L 28.40625 -1.59375 \r\n",
       "L 28.40625 17.40625 \r\n",
       "L 2.796875 17.40625 \r\n",
       "L 2.796875 20.703125 \r\n",
       "L 14.703125 38.09375 \r\n",
       "z\r\n",
       "M 28.40625 22 \r\n",
       "L 28.40625 52.703125 \r\n",
       "Q 14.796875 33.796875 7.59375 22 \r\n",
       "z\r\n",
       "\" id=\"STFangsong-52\"/>\r\n",
       "      </defs>\r\n",
       "      <g transform=\"translate(11.890625 162.90916)scale(0.1 -0.1)\">\r\n",
       "       <use xlink:href=\"#STFangsong-52\"/>\r\n",
       "       <use x=\"46.899994\" xlink:href=\"#STFangsong-48\"/>\r\n",
       "       <use x=\"93.799988\" xlink:href=\"#STFangsong-48\"/>\r\n",
       "       <use x=\"140.699982\" xlink:href=\"#STFangsong-48\"/>\r\n",
       "       <use x=\"187.599976\" xlink:href=\"#STFangsong-48\"/>\r\n",
       "      </g>\r\n",
       "     </g>\r\n",
       "    </g>\r\n",
       "    <g id=\"ytick_4\">\r\n",
       "     <g id=\"line2d_9\">\r\n",
       "      <g>\r\n",
       "       <use style=\"stroke:#000000;stroke-width:0.8;\" x=\"42.34375\" xlink:href=\"#m6ca246dc84\" y=\"132.034869\"/>\r\n",
       "      </g>\r\n",
       "     </g>\r\n",
       "     <g id=\"text_9\">\r\n",
       "      <!-- 60000 -->\r\n",
       "      <defs>\r\n",
       "       <path d=\"M 38.40625 63.796875 \r\n",
       "L 39.203125 61.90625 \r\n",
       "Q 26.703125 57.203125 19.25 45.84375 \r\n",
       "Q 11.796875 34.5 11.796875 21.5 \r\n",
       "Q 11.796875 12.90625 15.390625 6.75 \r\n",
       "Q 19 0.59375 24.203125 0.59375 \r\n",
       "Q 35.40625 0.59375 35.40625 18.40625 \r\n",
       "Q 35.40625 25.90625 32.5 30.09375 \r\n",
       "Q 29.59375 34.296875 25.203125 34.296875 \r\n",
       "Q 23.5 34.296875 21.90625 33.59375 \r\n",
       "L 20.796875 35.203125 \r\n",
       "Q 24 36.59375 27.296875 36.59375 \r\n",
       "Q 33.90625 36.59375 38.25 31.59375 \r\n",
       "Q 42.59375 26.59375 42.59375 17.90625 \r\n",
       "Q 42.59375 9.59375 37.4375 4 \r\n",
       "Q 32.296875 -1.59375 24.09375 -1.59375 \r\n",
       "Q 15.59375 -1.59375 10.25 5.046875 \r\n",
       "Q 4.90625 11.703125 4.90625 23.09375 \r\n",
       "Q 4.90625 36.90625 13.953125 48.25 \r\n",
       "Q 23 59.59375 38.40625 63.796875 \r\n",
       "z\r\n",
       "\" id=\"STFangsong-54\"/>\r\n",
       "      </defs>\r\n",
       "      <g transform=\"translate(11.890625 135.334869)scale(0.1 -0.1)\">\r\n",
       "       <use xlink:href=\"#STFangsong-54\"/>\r\n",
       "       <use x=\"46.899994\" xlink:href=\"#STFangsong-48\"/>\r\n",
       "       <use x=\"93.799988\" xlink:href=\"#STFangsong-48\"/>\r\n",
       "       <use x=\"140.699982\" xlink:href=\"#STFangsong-48\"/>\r\n",
       "       <use x=\"187.599976\" xlink:href=\"#STFangsong-48\"/>\r\n",
       "      </g>\r\n",
       "     </g>\r\n",
       "    </g>\r\n",
       "    <g id=\"ytick_5\">\r\n",
       "     <g id=\"line2d_10\">\r\n",
       "      <g>\r\n",
       "       <use style=\"stroke:#000000;stroke-width:0.8;\" x=\"42.34375\" xlink:href=\"#m6ca246dc84\" y=\"104.460577\"/>\r\n",
       "      </g>\r\n",
       "     </g>\r\n",
       "     <g id=\"text_10\">\r\n",
       "      <!-- 80000 -->\r\n",
       "      <defs>\r\n",
       "       <path d=\"M 19.796875 31.203125 \r\n",
       "Q 7.703125 37.203125 7.703125 47.5 \r\n",
       "Q 7.703125 53.703125 12.640625 58.59375 \r\n",
       "Q 17.59375 63.5 24.296875 63.5 \r\n",
       "Q 31.90625 63.5 36.59375 59.390625 \r\n",
       "Q 41.296875 55.296875 41.296875 49.09375 \r\n",
       "Q 41.296875 43.703125 38.296875 40.390625 \r\n",
       "Q 35.296875 37.09375 29.703125 34.296875 \r\n",
       "Q 38.90625 29.90625 41.5 25.40625 \r\n",
       "Q 44.09375 20.90625 44.09375 16.40625 \r\n",
       "Q 44.09375 9.09375 38.640625 3.75 \r\n",
       "Q 33.203125 -1.59375 25.09375 -1.59375 \r\n",
       "Q 16.703125 -1.59375 11.703125 3.046875 \r\n",
       "Q 6.703125 7.703125 6.703125 14.796875 \r\n",
       "Q 6.703125 19.09375 8.703125 23.25 \r\n",
       "Q 10.703125 27.40625 19.796875 31.203125 \r\n",
       "z\r\n",
       "M 27.5 35.5 \r\n",
       "Q 31.59375 37.40625 33.796875 41.046875 \r\n",
       "Q 36 44.703125 36 49 \r\n",
       "Q 36 54.296875 32.953125 57.75 \r\n",
       "Q 29.90625 61.203125 24.5 61.203125 \r\n",
       "Q 19.59375 61.203125 16.5 57.84375 \r\n",
       "Q 13.40625 54.5 13.40625 49.59375 \r\n",
       "Q 13.40625 47.09375 14.296875 44.6875 \r\n",
       "Q 15.203125 42.296875 19.25 39.5 \r\n",
       "Q 23.296875 36.703125 27.5 35.5 \r\n",
       "z\r\n",
       "M 22.203125 30.09375 \r\n",
       "Q 17.09375 27.59375 14.890625 23.9375 \r\n",
       "Q 12.703125 20.296875 12.703125 14.203125 \r\n",
       "Q 12.703125 8.09375 16.203125 4.4375 \r\n",
       "Q 19.703125 0.796875 25 0.796875 \r\n",
       "Q 30.5 0.796875 34.140625 4.4375 \r\n",
       "Q 37.796875 8.09375 37.796875 13.796875 \r\n",
       "Q 37.796875 19.796875 34.140625 23.390625 \r\n",
       "Q 30.5 27 22.203125 30.09375 \r\n",
       "z\r\n",
       "\" id=\"STFangsong-56\"/>\r\n",
       "      </defs>\r\n",
       "      <g transform=\"translate(11.890625 107.760577)scale(0.1 -0.1)\">\r\n",
       "       <use xlink:href=\"#STFangsong-56\"/>\r\n",
       "       <use x=\"46.899994\" xlink:href=\"#STFangsong-48\"/>\r\n",
       "       <use x=\"93.799988\" xlink:href=\"#STFangsong-48\"/>\r\n",
       "       <use x=\"140.699982\" xlink:href=\"#STFangsong-48\"/>\r\n",
       "       <use x=\"187.599976\" xlink:href=\"#STFangsong-48\"/>\r\n",
       "      </g>\r\n",
       "     </g>\r\n",
       "    </g>\r\n",
       "    <g id=\"ytick_6\">\r\n",
       "     <g id=\"line2d_11\">\r\n",
       "      <g>\r\n",
       "       <use style=\"stroke:#000000;stroke-width:0.8;\" x=\"42.34375\" xlink:href=\"#m6ca246dc84\" y=\"76.886286\"/>\r\n",
       "      </g>\r\n",
       "     </g>\r\n",
       "     <g id=\"text_11\">\r\n",
       "      <!-- 100000 -->\r\n",
       "      <g transform=\"translate(7.2 80.186286)scale(0.1 -0.1)\">\r\n",
       "       <use xlink:href=\"#STFangsong-49\"/>\r\n",
       "       <use x=\"46.899994\" xlink:href=\"#STFangsong-48\"/>\r\n",
       "       <use x=\"93.799988\" xlink:href=\"#STFangsong-48\"/>\r\n",
       "       <use x=\"140.699982\" xlink:href=\"#STFangsong-48\"/>\r\n",
       "       <use x=\"187.599976\" xlink:href=\"#STFangsong-48\"/>\r\n",
       "       <use x=\"234.499969\" xlink:href=\"#STFangsong-48\"/>\r\n",
       "      </g>\r\n",
       "     </g>\r\n",
       "    </g>\r\n",
       "    <g id=\"ytick_7\">\r\n",
       "     <g id=\"line2d_12\">\r\n",
       "      <g>\r\n",
       "       <use style=\"stroke:#000000;stroke-width:0.8;\" x=\"42.34375\" xlink:href=\"#m6ca246dc84\" y=\"49.311995\"/>\r\n",
       "      </g>\r\n",
       "     </g>\r\n",
       "     <g id=\"text_12\">\r\n",
       "      <!-- 120000 -->\r\n",
       "      <g transform=\"translate(7.2 52.611995)scale(0.1 -0.1)\">\r\n",
       "       <use xlink:href=\"#STFangsong-49\"/>\r\n",
       "       <use x=\"46.899994\" xlink:href=\"#STFangsong-50\"/>\r\n",
       "       <use x=\"93.799988\" xlink:href=\"#STFangsong-48\"/>\r\n",
       "       <use x=\"140.699982\" xlink:href=\"#STFangsong-48\"/>\r\n",
       "       <use x=\"187.599976\" xlink:href=\"#STFangsong-48\"/>\r\n",
       "       <use x=\"234.499969\" xlink:href=\"#STFangsong-48\"/>\r\n",
       "      </g>\r\n",
       "     </g>\r\n",
       "    </g>\r\n",
       "    <g id=\"ytick_8\">\r\n",
       "     <g id=\"line2d_13\">\r\n",
       "      <g>\r\n",
       "       <use style=\"stroke:#000000;stroke-width:0.8;\" x=\"42.34375\" xlink:href=\"#m6ca246dc84\" y=\"21.737703\"/>\r\n",
       "      </g>\r\n",
       "     </g>\r\n",
       "     <g id=\"text_13\">\r\n",
       "      <!-- 140000 -->\r\n",
       "      <g transform=\"translate(7.2 25.037703)scale(0.1 -0.1)\">\r\n",
       "       <use xlink:href=\"#STFangsong-49\"/>\r\n",
       "       <use x=\"46.899994\" xlink:href=\"#STFangsong-52\"/>\r\n",
       "       <use x=\"93.799988\" xlink:href=\"#STFangsong-48\"/>\r\n",
       "       <use x=\"140.699982\" xlink:href=\"#STFangsong-48\"/>\r\n",
       "       <use x=\"187.599976\" xlink:href=\"#STFangsong-48\"/>\r\n",
       "       <use x=\"234.499969\" xlink:href=\"#STFangsong-48\"/>\r\n",
       "      </g>\r\n",
       "     </g>\r\n",
       "    </g>\r\n",
       "   </g>\r\n",
       "   <g id=\"line2d_14\">\r\n",
       "    <path clip-path=\"url(#pfd1394020f)\" d=\"M 57.561932 17.083636 \r\n",
       "L 59.389942 44.779176 \r\n",
       "L 61.217951 68.594374 \r\n",
       "L 63.045961 89.072895 \r\n",
       "L 64.873971 106.682231 \r\n",
       "L 66.701981 121.824374 \r\n",
       "L 68.529991 134.844995 \r\n",
       "L 70.358001 146.041336 \r\n",
       "L 72.18601 155.66899 \r\n",
       "L 74.01402 163.947742 \r\n",
       "L 75.84203 171.066582 \r\n",
       "L 77.67004 177.188023 \r\n",
       "L 79.49805 182.451806 \r\n",
       "L 81.32606 186.978096 \r\n",
       "L 83.154069 190.870221 \r\n",
       "L 84.982079 194.217031 \r\n",
       "L 86.810089 197.09493 \r\n",
       "L 88.638099 199.569615 \r\n",
       "L 90.466109 201.697579 \r\n",
       "L 92.294119 203.5274 \r\n",
       "L 94.426797 205.340767 \r\n",
       "L 96.559475 206.861329 \r\n",
       "L 98.996821 208.300867 \r\n",
       "L 101.434168 209.477974 \r\n",
       "L 104.176182 210.547749 \r\n",
       "L 107.222865 211.484169 \r\n",
       "L 110.574217 212.275542 \r\n",
       "L 114.534905 212.967962 \r\n",
       "L 119.104929 213.530556 \r\n",
       "L 124.588959 213.977474 \r\n",
       "L 131.59633 214.320273 \r\n",
       "L 141.345716 214.562163 \r\n",
       "L 157.188467 214.704868 \r\n",
       "L 194.358001 214.755093 \r\n",
       "L 269.91574 214.658582 \r\n",
       "L 284.23515 214.43427 \r\n",
       "L 293.070531 214.086795 \r\n",
       "L 299.468566 213.619767 \r\n",
       "L 304.343259 213.055789 \r\n",
       "L 308.608615 212.33721 \r\n",
       "L 312.264635 211.484169 \r\n",
       "L 315.311318 210.547749 \r\n",
       "L 318.053332 209.477974 \r\n",
       "L 320.490679 208.300867 \r\n",
       "L 322.928025 206.861329 \r\n",
       "L 325.060703 205.340767 \r\n",
       "L 327.193381 203.5274 \r\n",
       "L 329.021391 201.697579 \r\n",
       "L 330.849401 199.569615 \r\n",
       "L 332.677411 197.09493 \r\n",
       "L 334.505421 194.217031 \r\n",
       "L 336.333431 190.870221 \r\n",
       "L 338.16144 186.978096 \r\n",
       "L 339.98945 182.451806 \r\n",
       "L 341.512792 178.121408 \r\n",
       "L 343.036133 173.210548 \r\n",
       "L 344.559475 167.64142 \r\n",
       "L 346.082816 161.325787 \r\n",
       "L 347.606158 154.163584 \r\n",
       "L 349.129499 146.041336 \r\n",
       "L 350.652841 136.830354 \r\n",
       "L 352.176182 126.3847 \r\n",
       "L 353.699524 114.538875 \r\n",
       "L 355.222865 101.105195 \r\n",
       "L 356.746207 85.870819 \r\n",
       "L 358.269549 68.594374 \r\n",
       "L 359.79289 49.002136 \r\n",
       "L 361.316232 26.783688 \r\n",
       "L 361.925568 17.083636 \r\n",
       "L 361.925568 17.083636 \r\n",
       "\" style=\"fill:none;stroke:#1f77b4;stroke-linecap:square;stroke-width:1.5;\"/>\r\n",
       "   </g>\r\n",
       "   <g id=\"patch_3\">\r\n",
       "    <path d=\"M 42.34375 224.64 \r\n",
       "L 42.34375 7.2 \r\n",
       "\" style=\"fill:none;stroke:#000000;stroke-linecap:square;stroke-linejoin:miter;stroke-width:0.8;\"/>\r\n",
       "   </g>\r\n",
       "   <g id=\"patch_4\">\r\n",
       "    <path d=\"M 377.14375 224.64 \r\n",
       "L 377.14375 7.2 \r\n",
       "\" style=\"fill:none;stroke:#000000;stroke-linecap:square;stroke-linejoin:miter;stroke-width:0.8;\"/>\r\n",
       "   </g>\r\n",
       "   <g id=\"patch_5\">\r\n",
       "    <path d=\"M 42.34375 224.64 \r\n",
       "L 377.14375 224.64 \r\n",
       "\" style=\"fill:none;stroke:#000000;stroke-linecap:square;stroke-linejoin:miter;stroke-width:0.8;\"/>\r\n",
       "   </g>\r\n",
       "   <g id=\"patch_6\">\r\n",
       "    <path d=\"M 42.34375 7.2 \r\n",
       "L 377.14375 7.2 \r\n",
       "\" style=\"fill:none;stroke:#000000;stroke-linecap:square;stroke-linejoin:miter;stroke-width:0.8;\"/>\r\n",
       "   </g>\r\n",
       "  </g>\r\n",
       " </g>\r\n",
       " <defs>\r\n",
       "  <clipPath id=\"pfd1394020f\">\r\n",
       "   <rect height=\"217.44\" width=\"334.8\" x=\"42.34375\" y=\"7.2\"/>\r\n",
       "  </clipPath>\r\n",
       " </defs>\r\n",
       "</svg>\r\n"
      ],
      "text/plain": [
       "<Figure size 432x288 with 1 Axes>"
      ]
     },
     "metadata": {
      "needs_background": "light"
     },
     "output_type": "display_data"
    }
   ],
   "source": [
    "# 双曲余弦函数   cosh()\n",
    "x = np.linspace(-4*np.pi, 4*np.pi, 1000)\n",
    "plt.plot(x, np.cosh(x))\n",
    "plt.show()"
   ]
  },
  {
   "cell_type": "markdown",
   "id": "bd4b87e3",
   "metadata": {},
   "source": [
    "## 函数"
   ]
  },
  {
   "cell_type": "code",
   "execution_count": 76,
   "id": "abda5893",
   "metadata": {},
   "outputs": [
    {
     "data": {
      "text/plain": [
       "(array([[4, 2, 2, 9],\n",
       "        [4, 1, 8, 8],\n",
       "        [8, 9, 4, 6],\n",
       "        [9, 7, 9, 7]]),\n",
       " array([[8, 3, 5, 3],\n",
       "        [6, 7, 2, 8],\n",
       "        [1, 2, 3, 3],\n",
       "        [3, 8, 8, 7]]))"
      ]
     },
     "execution_count": 76,
     "metadata": {},
     "output_type": "execute_result"
    }
   ],
   "source": [
    "arr1 = np.array(np.random.randint(1,10,(4,4)))\n",
    "arr2 = np.array(np.random.randint(1,10,(4,4)))\n",
    "arr1,arr2"
   ]
  },
  {
   "cell_type": "code",
   "execution_count": 77,
   "id": "8bb7339a",
   "metadata": {},
   "outputs": [
    {
     "data": {
      "text/plain": [
       "[array([[4, 2, 2, 9]]),\n",
       " array([[4, 1, 8, 8]]),\n",
       " array([[8, 9, 4, 6]]),\n",
       " array([[9, 7, 9, 7]])]"
      ]
     },
     "execution_count": 77,
     "metadata": {},
     "output_type": "execute_result"
    }
   ],
   "source": [
    "# 水平分割数组\n",
    "np.hsplit(arr1,4)\n",
    "# 垂直分割\n",
    "np.vsplit(arr1,4)"
   ]
  },
  {
   "cell_type": "code",
   "execution_count": 78,
   "id": "cb6bcd89",
   "metadata": {},
   "outputs": [
    {
     "data": {
      "text/plain": [
       "array([[4, 2, 2, 9, 8, 3, 5, 3],\n",
       "       [4, 1, 8, 8, 6, 7, 2, 8],\n",
       "       [8, 9, 4, 6, 1, 2, 3, 3],\n",
       "       [9, 7, 9, 7, 3, 8, 8, 7]])"
      ]
     },
     "execution_count": 78,
     "metadata": {},
     "output_type": "execute_result"
    }
   ],
   "source": [
    "# 水平堆叠(垂直堆叠：vstack())\n",
    "np.hstack((arr1,arr2))"
   ]
  },
  {
   "cell_type": "code",
   "execution_count": 79,
   "id": "50429a39",
   "metadata": {},
   "outputs": [
    {
     "data": {
      "text/plain": [
       "array([[ 0,  2,  2, 81],\n",
       "       [ 0,  1, 64, 64],\n",
       "       [64, 81,  0, 36],\n",
       "       [81, 49, 81, 49]])"
      ]
     },
     "execution_count": 79,
     "metadata": {},
     "output_type": "execute_result"
    }
   ],
   "source": [
    "# 指定获取元素\n",
    "np.select([(arr1<3),(arr1>5)],[arr1,arr1 ** 2])"
   ]
  },
  {
   "cell_type": "code",
   "execution_count": 80,
   "id": "5b4542f9",
   "metadata": {},
   "outputs": [
    {
     "data": {
      "text/plain": [
       "array([[ 4,  2,  2, 81],\n",
       "       [ 4,  1, 64, 64],\n",
       "       [64, 81,  4, 36],\n",
       "       [81, 49, 81, 49]])"
      ]
     },
     "execution_count": 80,
     "metadata": {},
     "output_type": "execute_result"
    }
   ],
   "source": [
    "np.where(arr1<5,arr1,arr1 ** 2)"
   ]
  },
  {
   "cell_type": "code",
   "execution_count": 81,
   "id": "ba9cd3f1",
   "metadata": {},
   "outputs": [
    {
     "data": {
      "text/plain": [
       "array([4, 2, 2, 4, 8, 8, 8, 4, 6])"
      ]
     },
     "execution_count": 81,
     "metadata": {},
     "output_type": "execute_result"
    }
   ],
   "source": [
    "np.extract(arr1 % 2 == 0,arr1)"
   ]
  },
  {
   "cell_type": "code",
   "execution_count": 82,
   "id": "bef0185b",
   "metadata": {},
   "outputs": [
    {
     "data": {
      "text/plain": [
       "array([[9, 7, 9, 7],\n",
       "       [8, 9, 4, 6],\n",
       "       [4, 1, 8, 8],\n",
       "       [4, 2, 2, 9]])"
      ]
     },
     "execution_count": 82,
     "metadata": {},
     "output_type": "execute_result"
    }
   ],
   "source": [
    "# 沿指定的轴翻转数组元素\n",
    "# 按0轴翻转（行）\n",
    "np.flip(arr1,axis = 0)"
   ]
  },
  {
   "cell_type": "code",
   "execution_count": 83,
   "id": "69fabc13",
   "metadata": {},
   "outputs": [
    {
     "data": {
      "text/plain": [
       "array([[9, 2, 2, 4],\n",
       "       [8, 8, 1, 4],\n",
       "       [6, 4, 9, 8],\n",
       "       [7, 9, 7, 9]])"
      ]
     },
     "execution_count": 83,
     "metadata": {},
     "output_type": "execute_result"
    }
   ],
   "source": [
    "# 按1轴翻转（列）\n",
    "np.flip(arr1,axis = 1)"
   ]
  },
  {
   "cell_type": "code",
   "execution_count": 84,
   "id": "865671bb",
   "metadata": {},
   "outputs": [
    {
     "data": {
      "text/plain": [
       "array([[7, 9, 7, 9],\n",
       "       [6, 4, 9, 8],\n",
       "       [8, 8, 1, 4],\n",
       "       [9, 2, 2, 4]])"
      ]
     },
     "execution_count": 84,
     "metadata": {},
     "output_type": "execute_result"
    }
   ],
   "source": [
    "# 默认，1、0均翻转\n",
    "np.flip(arr1)"
   ]
  },
  {
   "cell_type": "code",
   "execution_count": 85,
   "id": "dc06fe31",
   "metadata": {},
   "outputs": [
    {
     "data": {
      "text/plain": [
       "array([3, 3, 3, 3, 3, 3, 3, 3, 3, 3, 5, 5, 5, 5, 5, 5, 5, 5, 5, 5])"
      ]
     },
     "execution_count": 85,
     "metadata": {},
     "output_type": "execute_result"
    }
   ],
   "source": [
    "# 重复数组\n",
    "arr3 = np.repeat([3,5],10)\n",
    "arr3"
   ]
  },
  {
   "cell_type": "code",
   "execution_count": 86,
   "id": "8dea68a4",
   "metadata": {},
   "outputs": [
    {
     "data": {
      "text/plain": [
       "array([[1, 1, 3, 3],\n",
       "       [2, 2, 4, 4]])"
      ]
     },
     "execution_count": 86,
     "metadata": {},
     "output_type": "execute_result"
    }
   ],
   "source": [
    "# 按指定轴重复\n",
    "arr4 = np.array([[1,3],[2,4]])\n",
    "np.repeat(arr4,2,axis = 1)"
   ]
  },
  {
   "cell_type": "code",
   "execution_count": 87,
   "id": "0f91d00d",
   "metadata": {},
   "outputs": [
    {
     "data": {
      "text/plain": [
       "array([[1, 1, 3, 3, 3],\n",
       "       [2, 2, 4, 4, 4]])"
      ]
     },
     "execution_count": 87,
     "metadata": {},
     "output_type": "execute_result"
    }
   ],
   "source": [
    "# 指定重复次数\n",
    "np.repeat(arr4,[2,3],axis = 1)"
   ]
  },
  {
   "cell_type": "code",
   "execution_count": 88,
   "id": "1232ddb4",
   "metadata": {},
   "outputs": [
    {
     "data": {
      "text/plain": [
       "array([5, 5, 5, 5, 5, 3, 3, 3, 3, 3, 3, 3, 3, 3, 3, 5, 5, 5, 5, 5])"
      ]
     },
     "execution_count": 88,
     "metadata": {},
     "output_type": "execute_result"
    }
   ],
   "source": [
    "# 滚动数组\n",
    "np.roll(arr3,5)"
   ]
  },
  {
   "cell_type": "code",
   "execution_count": 89,
   "id": "ea339862",
   "metadata": {},
   "outputs": [
    {
     "data": {
      "text/plain": [
       "array([[4, 2, 2, 9, 4],\n",
       "       [1, 8, 8, 8, 9],\n",
       "       [4, 6, 9, 7, 9],\n",
       "       [7, 4, 2, 2, 9],\n",
       "       [4, 1, 8, 8, 8]])"
      ]
     },
     "execution_count": 89,
     "metadata": {},
     "output_type": "execute_result"
    }
   ],
   "source": [
    "# 改变数组形状  可改变大小\n",
    "np.resize(arr1,(5,5))"
   ]
  },
  {
   "cell_type": "code",
   "execution_count": 90,
   "id": "0911fb58",
   "metadata": {},
   "outputs": [
    {
     "data": {
      "text/plain": [
       "array([[  4, 999, 999,   9],\n",
       "       [  4, 999,   8,   8],\n",
       "       [  8,   9,   4,   6],\n",
       "       [  9,   7,   9,   7]])"
      ]
     },
     "execution_count": 90,
     "metadata": {},
     "output_type": "execute_result"
    }
   ],
   "source": [
    "np.place(arr1,arr1<3,999)\n",
    "arr1"
   ]
  },
  {
   "cell_type": "code",
   "execution_count": 91,
   "id": "963f5015",
   "metadata": {},
   "outputs": [
    {
     "data": {
      "text/plain": [
       "array([ 87,  88,  79,  81,  80,  81,  93, 107, 152, 185, 111])"
      ]
     },
     "execution_count": 91,
     "metadata": {},
     "output_type": "execute_result"
    }
   ],
   "source": [
    "arr5 = arraya + arrayb\n",
    "# 以指定topN排序数组（界前小于该数界后大于该数）仍然无序\n",
    "np.partition(arr5,7)"
   ]
  },
  {
   "cell_type": "code",
   "execution_count": 92,
   "id": "6f1ce18b",
   "metadata": {},
   "outputs": [
    {
     "data": {
      "text/plain": [
       "array([[8, 6, 1, 3],\n",
       "       [3, 7, 2, 8],\n",
       "       [5, 2, 3, 8],\n",
       "       [3, 8, 3, 7]])"
      ]
     },
     "execution_count": 92,
     "metadata": {},
     "output_type": "execute_result"
    }
   ],
   "source": [
    "# 矩阵的转置\n",
    "arr2.T"
   ]
  },
  {
   "cell_type": "code",
   "execution_count": 93,
   "id": "8f1c721f",
   "metadata": {},
   "outputs": [
    {
     "data": {
      "text/plain": [
       "array([[  111, 11055,  8063,   147],\n",
       "       [  140, 13061,  6130,   178],\n",
       "       [   63,  3045,  1054,    64],\n",
       "       [  171, 11110,  3156,   188]])"
      ]
     },
     "execution_count": 93,
     "metadata": {},
     "output_type": "execute_result"
    }
   ],
   "source": [
    "# 矩阵的乘法(以e二维数组创建矩阵)\n",
    "arr2 @ arr1"
   ]
  },
  {
   "cell_type": "code",
   "execution_count": 94,
   "id": "2c9e7635",
   "metadata": {},
   "outputs": [
    {
     "data": {
      "text/plain": [
       "array([[ 0.13184584,  0.03448276, -0.09127789, -0.05679513],\n",
       "       [-0.04462475,  0.03448276, -0.73833671,  0.29614604],\n",
       "       [ 0.06085193, -0.13793103,  0.18864097,  0.05070994],\n",
       "       [-0.07505071,  0.10344828,  0.6673428 , -0.22920892]])"
      ]
     },
     "execution_count": 94,
     "metadata": {},
     "output_type": "execute_result"
    }
   ],
   "source": [
    "# 逆矩阵\n",
    "np.linalg.inv(arr2)"
   ]
  },
  {
   "cell_type": "code",
   "execution_count": 95,
   "id": "8cc65eaa",
   "metadata": {},
   "outputs": [
    {
     "data": {
      "text/plain": [
       "matrix([[1, 2, 3],\n",
       "        [4, 5, 6]])"
      ]
     },
     "execution_count": 95,
     "metadata": {},
     "output_type": "execute_result"
    }
   ],
   "source": [
    "# 创建矩阵\n",
    "mat1 = np.matrix('1,2,3;4,5,6')\n",
    "mat1"
   ]
  },
  {
   "cell_type": "code",
   "execution_count": 96,
   "id": "8d662001",
   "metadata": {},
   "outputs": [
    {
     "data": {
      "text/plain": [
       "matrix([[1, 4],\n",
       "        [2, 5],\n",
       "        [3, 6]])"
      ]
     },
     "execution_count": 96,
     "metadata": {},
     "output_type": "execute_result"
    }
   ],
   "source": [
    "mat2 = np.asmatrix(np.array([[1,4],[2,5],[3,6]]))\n",
    "mat2"
   ]
  },
  {
   "cell_type": "code",
   "execution_count": 97,
   "id": "8f64c317",
   "metadata": {},
   "outputs": [
    {
     "data": {
      "text/plain": [
       "matrix([[14, 32],\n",
       "        [32, 77]])"
      ]
     },
     "execution_count": 97,
     "metadata": {},
     "output_type": "execute_result"
    }
   ],
   "source": [
    "# 矩阵相乘\n",
    "mat3 = mat1 * mat2\n",
    "mat3"
   ]
  },
  {
   "cell_type": "code",
   "execution_count": 98,
   "id": "82ebbb03",
   "metadata": {},
   "outputs": [
    {
     "data": {
      "text/plain": [
       "matrix([[ 1.42592593, -0.59259259],\n",
       "        [-0.59259259,  0.25925926]])"
      ]
     },
     "execution_count": 98,
     "metadata": {},
     "output_type": "execute_result"
    }
   ],
   "source": [
    "# 逆矩阵\n",
    "mat3 ** -1"
   ]
  },
  {
   "cell_type": "markdown",
   "id": "b0b40119",
   "metadata": {},
   "source": [
    "## 矩阵计算"
   ]
  },
  {
   "cell_type": "code",
   "execution_count": 99,
   "id": "8a1e7d48",
   "metadata": {},
   "outputs": [],
   "source": [
    "mat3 = np.arange(1,10).reshape((3,3))"
   ]
  },
  {
   "cell_type": "code",
   "execution_count": 100,
   "id": "1c25bb8b",
   "metadata": {},
   "outputs": [
    {
     "data": {
      "text/plain": [
       "0.0"
      ]
     },
     "execution_count": 100,
     "metadata": {},
     "output_type": "execute_result"
    }
   ],
   "source": [
    "# 计算行列式\n",
    "np.linalg.det(mat3)"
   ]
  },
  {
   "cell_type": "code",
   "execution_count": 101,
   "id": "db01853a",
   "metadata": {},
   "outputs": [
    {
     "data": {
      "text/plain": [
       "2"
      ]
     },
     "execution_count": 101,
     "metadata": {},
     "output_type": "execute_result"
    }
   ],
   "source": [
    "# 矩阵的秩\n",
    "np.linalg.matrix_rank(mat3)"
   ]
  },
  {
   "cell_type": "code",
   "execution_count": 102,
   "id": "8d8f4cc2",
   "metadata": {},
   "outputs": [],
   "source": [
    "# 逆矩阵(奇异矩阵没有逆矩阵（不满秩）)\n",
    "# np.linalg.inv(mat3)"
   ]
  },
  {
   "cell_type": "code",
   "execution_count": 103,
   "id": "54786157",
   "metadata": {},
   "outputs": [
    {
     "data": {
      "text/plain": [
       "(0.9999999999999999, -0.9499999999999997)"
      ]
     },
     "execution_count": 103,
     "metadata": {},
     "output_type": "execute_result"
    }
   ],
   "source": [
    "# 计算最小二乘解\n",
    "x1 = np.array([0, 1, 2, 3])\n",
    "y1 = np.array([-1, 0.2, 0.9, 2.1])\n",
    "A = np.vstack([x1, np.ones(len(x1))]).T\n",
    "m, c = np.linalg.lstsq(A, y1, rcond=None)[0]\n",
    "m,c"
   ]
  },
  {
   "cell_type": "code",
   "execution_count": 104,
   "id": "7025355d",
   "metadata": {},
   "outputs": [
    {
     "data": {
      "text/plain": [
       "array([2., 3.])"
      ]
     },
     "execution_count": 104,
     "metadata": {},
     "output_type": "execute_result"
    }
   ],
   "source": [
    "# \n",
    "a = np.array([[3,1], [1,2]])\n",
    "b = np.array([9,8])\n",
    "x = np.linalg.solve(a, b)\n",
    "x"
   ]
  }
 ],
 "metadata": {
  "kernelspec": {
   "display_name": "Python 3 (ipykernel)",
   "language": "python",
   "name": "python3"
  },
  "language_info": {
   "codemirror_mode": {
    "name": "ipython",
    "version": 3
   },
   "file_extension": ".py",
   "mimetype": "text/x-python",
   "name": "python",
   "nbconvert_exporter": "python",
   "pygments_lexer": "ipython3",
   "version": "3.8.7"
  },
  "toc": {
   "base_numbering": 1,
   "nav_menu": {},
   "number_sections": true,
   "sideBar": true,
   "skip_h1_title": false,
   "title_cell": "Table of Contents",
   "title_sidebar": "Contents",
   "toc_cell": false,
   "toc_position": {},
   "toc_section_display": true,
   "toc_window_display": false
  }
 },
 "nbformat": 4,
 "nbformat_minor": 5
}
